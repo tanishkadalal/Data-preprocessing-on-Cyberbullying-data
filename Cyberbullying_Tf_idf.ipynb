{
  "cells": [
    {
      "cell_type": "code",
      "execution_count": null,
      "metadata": {
        "colab": {
          "base_uri": "https://localhost:8080/"
        },
        "id": "_fqJ-TYZzbUN",
        "outputId": "8c782f73-c0d6-487a-9a7d-1d487353eebf"
      },
      "outputs": [
        {
          "output_type": "stream",
          "name": "stdout",
          "text": [
            "Collecting datasets\n",
            "  Downloading datasets-2.18.0-py3-none-any.whl (510 kB)\n",
            "\u001b[2K     \u001b[90m━━━━━━━━━━━━━━━━━━━━━━━━━━━━━━━━━━━━━━━━\u001b[0m \u001b[32m510.5/510.5 kB\u001b[0m \u001b[31m3.1 MB/s\u001b[0m eta \u001b[36m0:00:00\u001b[0m\n",
            "\u001b[?25hRequirement already satisfied: filelock in /usr/local/lib/python3.10/dist-packages (from datasets) (3.13.4)\n",
            "Requirement already satisfied: numpy>=1.17 in /usr/local/lib/python3.10/dist-packages (from datasets) (1.25.2)\n",
            "Requirement already satisfied: pyarrow>=12.0.0 in /usr/local/lib/python3.10/dist-packages (from datasets) (14.0.2)\n",
            "Requirement already satisfied: pyarrow-hotfix in /usr/local/lib/python3.10/dist-packages (from datasets) (0.6)\n",
            "Collecting dill<0.3.9,>=0.3.0 (from datasets)\n",
            "  Downloading dill-0.3.8-py3-none-any.whl (116 kB)\n",
            "\u001b[2K     \u001b[90m━━━━━━━━━━━━━━━━━━━━━━━━━━━━━━━━━━━━━━━━\u001b[0m \u001b[32m116.3/116.3 kB\u001b[0m \u001b[31m9.5 MB/s\u001b[0m eta \u001b[36m0:00:00\u001b[0m\n",
            "\u001b[?25hRequirement already satisfied: pandas in /usr/local/lib/python3.10/dist-packages (from datasets) (2.0.3)\n",
            "Requirement already satisfied: requests>=2.19.0 in /usr/local/lib/python3.10/dist-packages (from datasets) (2.31.0)\n",
            "Requirement already satisfied: tqdm>=4.62.1 in /usr/local/lib/python3.10/dist-packages (from datasets) (4.66.2)\n",
            "Collecting xxhash (from datasets)\n",
            "  Downloading xxhash-3.4.1-cp310-cp310-manylinux_2_17_x86_64.manylinux2014_x86_64.whl (194 kB)\n",
            "\u001b[2K     \u001b[90m━━━━━━━━━━━━━━━━━━━━━━━━━━━━━━━━━━━━━━━━\u001b[0m \u001b[32m194.1/194.1 kB\u001b[0m \u001b[31m14.1 MB/s\u001b[0m eta \u001b[36m0:00:00\u001b[0m\n",
            "\u001b[?25hCollecting multiprocess (from datasets)\n",
            "  Downloading multiprocess-0.70.16-py310-none-any.whl (134 kB)\n",
            "\u001b[2K     \u001b[90m━━━━━━━━━━━━━━━━━━━━━━━━━━━━━━━━━━━━━━━━\u001b[0m \u001b[32m134.8/134.8 kB\u001b[0m \u001b[31m11.2 MB/s\u001b[0m eta \u001b[36m0:00:00\u001b[0m\n",
            "\u001b[?25hRequirement already satisfied: fsspec[http]<=2024.2.0,>=2023.1.0 in /usr/local/lib/python3.10/dist-packages (from datasets) (2023.6.0)\n",
            "Requirement already satisfied: aiohttp in /usr/local/lib/python3.10/dist-packages (from datasets) (3.9.5)\n",
            "Requirement already satisfied: huggingface-hub>=0.19.4 in /usr/local/lib/python3.10/dist-packages (from datasets) (0.20.3)\n",
            "Requirement already satisfied: packaging in /usr/local/lib/python3.10/dist-packages (from datasets) (24.0)\n",
            "Requirement already satisfied: pyyaml>=5.1 in /usr/local/lib/python3.10/dist-packages (from datasets) (6.0.1)\n",
            "Requirement already satisfied: aiosignal>=1.1.2 in /usr/local/lib/python3.10/dist-packages (from aiohttp->datasets) (1.3.1)\n",
            "Requirement already satisfied: attrs>=17.3.0 in /usr/local/lib/python3.10/dist-packages (from aiohttp->datasets) (23.2.0)\n",
            "Requirement already satisfied: frozenlist>=1.1.1 in /usr/local/lib/python3.10/dist-packages (from aiohttp->datasets) (1.4.1)\n",
            "Requirement already satisfied: multidict<7.0,>=4.5 in /usr/local/lib/python3.10/dist-packages (from aiohttp->datasets) (6.0.5)\n",
            "Requirement already satisfied: yarl<2.0,>=1.0 in /usr/local/lib/python3.10/dist-packages (from aiohttp->datasets) (1.9.4)\n",
            "Requirement already satisfied: async-timeout<5.0,>=4.0 in /usr/local/lib/python3.10/dist-packages (from aiohttp->datasets) (4.0.3)\n",
            "Requirement already satisfied: typing-extensions>=3.7.4.3 in /usr/local/lib/python3.10/dist-packages (from huggingface-hub>=0.19.4->datasets) (4.11.0)\n",
            "Requirement already satisfied: charset-normalizer<4,>=2 in /usr/local/lib/python3.10/dist-packages (from requests>=2.19.0->datasets) (3.3.2)\n",
            "Requirement already satisfied: idna<4,>=2.5 in /usr/local/lib/python3.10/dist-packages (from requests>=2.19.0->datasets) (3.7)\n",
            "Requirement already satisfied: urllib3<3,>=1.21.1 in /usr/local/lib/python3.10/dist-packages (from requests>=2.19.0->datasets) (2.0.7)\n",
            "Requirement already satisfied: certifi>=2017.4.17 in /usr/local/lib/python3.10/dist-packages (from requests>=2.19.0->datasets) (2024.2.2)\n",
            "Requirement already satisfied: python-dateutil>=2.8.2 in /usr/local/lib/python3.10/dist-packages (from pandas->datasets) (2.8.2)\n",
            "Requirement already satisfied: pytz>=2020.1 in /usr/local/lib/python3.10/dist-packages (from pandas->datasets) (2023.4)\n",
            "Requirement already satisfied: tzdata>=2022.1 in /usr/local/lib/python3.10/dist-packages (from pandas->datasets) (2024.1)\n",
            "Requirement already satisfied: six>=1.5 in /usr/local/lib/python3.10/dist-packages (from python-dateutil>=2.8.2->pandas->datasets) (1.16.0)\n",
            "Installing collected packages: xxhash, dill, multiprocess, datasets\n",
            "Successfully installed datasets-2.18.0 dill-0.3.8 multiprocess-0.70.16 xxhash-3.4.1\n",
            "Requirement already satisfied: transformers in /usr/local/lib/python3.10/dist-packages (4.38.2)\n",
            "Requirement already satisfied: filelock in /usr/local/lib/python3.10/dist-packages (from transformers) (3.13.4)\n",
            "Requirement already satisfied: huggingface-hub<1.0,>=0.19.3 in /usr/local/lib/python3.10/dist-packages (from transformers) (0.20.3)\n",
            "Requirement already satisfied: numpy>=1.17 in /usr/local/lib/python3.10/dist-packages (from transformers) (1.25.2)\n",
            "Requirement already satisfied: packaging>=20.0 in /usr/local/lib/python3.10/dist-packages (from transformers) (24.0)\n",
            "Requirement already satisfied: pyyaml>=5.1 in /usr/local/lib/python3.10/dist-packages (from transformers) (6.0.1)\n",
            "Requirement already satisfied: regex!=2019.12.17 in /usr/local/lib/python3.10/dist-packages (from transformers) (2023.12.25)\n",
            "Requirement already satisfied: requests in /usr/local/lib/python3.10/dist-packages (from transformers) (2.31.0)\n",
            "Requirement already satisfied: tokenizers<0.19,>=0.14 in /usr/local/lib/python3.10/dist-packages (from transformers) (0.15.2)\n",
            "Requirement already satisfied: safetensors>=0.4.1 in /usr/local/lib/python3.10/dist-packages (from transformers) (0.4.3)\n",
            "Requirement already satisfied: tqdm>=4.27 in /usr/local/lib/python3.10/dist-packages (from transformers) (4.66.2)\n",
            "Requirement already satisfied: fsspec>=2023.5.0 in /usr/local/lib/python3.10/dist-packages (from huggingface-hub<1.0,>=0.19.3->transformers) (2023.6.0)\n",
            "Requirement already satisfied: typing-extensions>=3.7.4.3 in /usr/local/lib/python3.10/dist-packages (from huggingface-hub<1.0,>=0.19.3->transformers) (4.11.0)\n",
            "Requirement already satisfied: charset-normalizer<4,>=2 in /usr/local/lib/python3.10/dist-packages (from requests->transformers) (3.3.2)\n",
            "Requirement already satisfied: idna<4,>=2.5 in /usr/local/lib/python3.10/dist-packages (from requests->transformers) (3.7)\n",
            "Requirement already satisfied: urllib3<3,>=1.21.1 in /usr/local/lib/python3.10/dist-packages (from requests->transformers) (2.0.7)\n",
            "Requirement already satisfied: certifi>=2017.4.17 in /usr/local/lib/python3.10/dist-packages (from requests->transformers) (2024.2.2)\n"
          ]
        }
      ],
      "source": [
        "!pip install datasets\n",
        "!pip install transformers"
      ]
    },
    {
      "cell_type": "code",
      "execution_count": null,
      "metadata": {
        "id": "9xlR9EvwzhRo"
      },
      "outputs": [],
      "source": [
        "from datasets import load_dataset\n",
        "import pandas as pd\n",
        "\n",
        "pd.options.display.max_columns= None"
      ]
    },
    {
      "cell_type": "code",
      "execution_count": null,
      "metadata": {
        "colab": {
          "base_uri": "https://localhost:8080/",
          "height": 205,
          "referenced_widgets": [
            "050e90a295eb4b18b7c891417ea29562",
            "59d3c86442a248039dac53f07c65b32b",
            "f8e1fdad023446e6b9fb6c903e5c1779",
            "ded8e2e9f3ac44d7a974dbfc61e759fd",
            "270edfdaa26a433f895354f8f5b0db78",
            "30f7998542044f6da965ab977e8d2694",
            "79d4f53907fd4031b0107c6aecba7767",
            "25ab8e327b804b75afa2325a38a24fcc",
            "117de15f7446404897687f1167c92c3b",
            "8b6de37ee59d494d92eaab9c92c59cef",
            "61bde91ed4724dbc859b20478086decf",
            "6413eba8c9df4746939e0120444e2d26",
            "1179cfea891c4647a12793ceb14ab3eb",
            "3b2f8e72ab7c4547852b6015956aa2a0",
            "265363e55346404285762bdd3db407cb",
            "8ffdfc2040e4428d808d24a567e6e7fd",
            "2d02aa8e0fc04768a95a5fa02ff7c763",
            "a1e76f9a0d424e77b87db8954bb07243",
            "10152e2a16fd42ef9106fa77d74f4ed9",
            "e2c5d87bbb8c4989a2a60bd421ee9571",
            "91ca1372aef6497eac001233a80fa6ba",
            "62f7cbf46f6a40068a003f23fc8b25de"
          ]
        },
        "id": "zXbCXJY8ztkb",
        "outputId": "3e54d323-8614-4197-991c-1614de0ab372"
      },
      "outputs": [
        {
          "output_type": "stream",
          "name": "stderr",
          "text": [
            "/usr/local/lib/python3.10/dist-packages/huggingface_hub/utils/_token.py:88: UserWarning: \n",
            "The secret `HF_TOKEN` does not exist in your Colab secrets.\n",
            "To authenticate with the Hugging Face Hub, create a token in your settings tab (https://huggingface.co/settings/tokens), set it as secret in your Google Colab and restart your session.\n",
            "You will be able to reuse this secret in all of your notebooks.\n",
            "Please note that authentication is recommended but still optional to access public models or datasets.\n",
            "  warnings.warn(\n"
          ]
        },
        {
          "output_type": "display_data",
          "data": {
            "text/plain": [
              "Downloading data:   0%|          | 0.00/1.03M [00:00<?, ?B/s]"
            ],
            "application/vnd.jupyter.widget-view+json": {
              "version_major": 2,
              "version_minor": 0,
              "model_id": "050e90a295eb4b18b7c891417ea29562"
            }
          },
          "metadata": {}
        },
        {
          "output_type": "display_data",
          "data": {
            "text/plain": [
              "Generating train split: 0 examples [00:00, ? examples/s]"
            ],
            "application/vnd.jupyter.widget-view+json": {
              "version_major": 2,
              "version_minor": 0,
              "model_id": "6413eba8c9df4746939e0120444e2d26"
            }
          },
          "metadata": {}
        }
      ],
      "source": [
        "dataset = load_dataset(\"AnikaBasu/CyberbullyingDataset\")"
      ]
    },
    {
      "cell_type": "code",
      "execution_count": null,
      "metadata": {
        "id": "61qCiI9pzytA"
      },
      "outputs": [],
      "source": [
        "df = pd.DataFrame(dataset['train'])"
      ]
    },
    {
      "cell_type": "code",
      "execution_count": null,
      "metadata": {
        "colab": {
          "base_uri": "https://localhost:8080/",
          "height": 206
        },
        "id": "4f8rNagsz4f7",
        "outputId": "70ac0408-4248-49e9-d7ce-cceeb4fb8d49"
      },
      "outputs": [
        {
          "output_type": "execute_result",
          "data": {
            "text/plain": [
              "  input                                               text             output  \\\n",
              "0        Here is a classification that determines wheth...  not_cyberbullying   \n",
              "1        Here is a classification that determines wheth...  not_cyberbullying   \n",
              "2        Here is a classification that determines wheth...  not_cyberbullying   \n",
              "3        Here is a classification that determines wheth...  not_cyberbullying   \n",
              "4        Here is a classification that determines wheth...  not_cyberbullying   \n",
              "\n",
              "                                         instruction  \n",
              "0  In other words #katandandre, your food was cra...  \n",
              "1  In other words #katandandre, your food was cra...  \n",
              "2  Why is #aussietv so white? #MKR #theblock #ImA...  \n",
              "3  @XochitlSuckkks a classy whore? Or more red ve...  \n",
              "4  @Jason_Gio meh. :P  thanks for the heads up, b...  "
            ],
            "text/html": [
              "\n",
              "  <div id=\"df-1c0419e5-65ef-4f85-a62a-7eac9a5f01ea\" class=\"colab-df-container\">\n",
              "    <div>\n",
              "<style scoped>\n",
              "    .dataframe tbody tr th:only-of-type {\n",
              "        vertical-align: middle;\n",
              "    }\n",
              "\n",
              "    .dataframe tbody tr th {\n",
              "        vertical-align: top;\n",
              "    }\n",
              "\n",
              "    .dataframe thead th {\n",
              "        text-align: right;\n",
              "    }\n",
              "</style>\n",
              "<table border=\"1\" class=\"dataframe\">\n",
              "  <thead>\n",
              "    <tr style=\"text-align: right;\">\n",
              "      <th></th>\n",
              "      <th>input</th>\n",
              "      <th>text</th>\n",
              "      <th>output</th>\n",
              "      <th>instruction</th>\n",
              "    </tr>\n",
              "  </thead>\n",
              "  <tbody>\n",
              "    <tr>\n",
              "      <th>0</th>\n",
              "      <td></td>\n",
              "      <td>Here is a classification that determines wheth...</td>\n",
              "      <td>not_cyberbullying</td>\n",
              "      <td>In other words #katandandre, your food was cra...</td>\n",
              "    </tr>\n",
              "    <tr>\n",
              "      <th>1</th>\n",
              "      <td></td>\n",
              "      <td>Here is a classification that determines wheth...</td>\n",
              "      <td>not_cyberbullying</td>\n",
              "      <td>In other words #katandandre, your food was cra...</td>\n",
              "    </tr>\n",
              "    <tr>\n",
              "      <th>2</th>\n",
              "      <td></td>\n",
              "      <td>Here is a classification that determines wheth...</td>\n",
              "      <td>not_cyberbullying</td>\n",
              "      <td>Why is #aussietv so white? #MKR #theblock #ImA...</td>\n",
              "    </tr>\n",
              "    <tr>\n",
              "      <th>3</th>\n",
              "      <td></td>\n",
              "      <td>Here is a classification that determines wheth...</td>\n",
              "      <td>not_cyberbullying</td>\n",
              "      <td>@XochitlSuckkks a classy whore? Or more red ve...</td>\n",
              "    </tr>\n",
              "    <tr>\n",
              "      <th>4</th>\n",
              "      <td></td>\n",
              "      <td>Here is a classification that determines wheth...</td>\n",
              "      <td>not_cyberbullying</td>\n",
              "      <td>@Jason_Gio meh. :P  thanks for the heads up, b...</td>\n",
              "    </tr>\n",
              "  </tbody>\n",
              "</table>\n",
              "</div>\n",
              "    <div class=\"colab-df-buttons\">\n",
              "\n",
              "  <div class=\"colab-df-container\">\n",
              "    <button class=\"colab-df-convert\" onclick=\"convertToInteractive('df-1c0419e5-65ef-4f85-a62a-7eac9a5f01ea')\"\n",
              "            title=\"Convert this dataframe to an interactive table.\"\n",
              "            style=\"display:none;\">\n",
              "\n",
              "  <svg xmlns=\"http://www.w3.org/2000/svg\" height=\"24px\" viewBox=\"0 -960 960 960\">\n",
              "    <path d=\"M120-120v-720h720v720H120Zm60-500h600v-160H180v160Zm220 220h160v-160H400v160Zm0 220h160v-160H400v160ZM180-400h160v-160H180v160Zm440 0h160v-160H620v160ZM180-180h160v-160H180v160Zm440 0h160v-160H620v160Z\"/>\n",
              "  </svg>\n",
              "    </button>\n",
              "\n",
              "  <style>\n",
              "    .colab-df-container {\n",
              "      display:flex;\n",
              "      gap: 12px;\n",
              "    }\n",
              "\n",
              "    .colab-df-convert {\n",
              "      background-color: #E8F0FE;\n",
              "      border: none;\n",
              "      border-radius: 50%;\n",
              "      cursor: pointer;\n",
              "      display: none;\n",
              "      fill: #1967D2;\n",
              "      height: 32px;\n",
              "      padding: 0 0 0 0;\n",
              "      width: 32px;\n",
              "    }\n",
              "\n",
              "    .colab-df-convert:hover {\n",
              "      background-color: #E2EBFA;\n",
              "      box-shadow: 0px 1px 2px rgba(60, 64, 67, 0.3), 0px 1px 3px 1px rgba(60, 64, 67, 0.15);\n",
              "      fill: #174EA6;\n",
              "    }\n",
              "\n",
              "    .colab-df-buttons div {\n",
              "      margin-bottom: 4px;\n",
              "    }\n",
              "\n",
              "    [theme=dark] .colab-df-convert {\n",
              "      background-color: #3B4455;\n",
              "      fill: #D2E3FC;\n",
              "    }\n",
              "\n",
              "    [theme=dark] .colab-df-convert:hover {\n",
              "      background-color: #434B5C;\n",
              "      box-shadow: 0px 1px 3px 1px rgba(0, 0, 0, 0.15);\n",
              "      filter: drop-shadow(0px 1px 2px rgba(0, 0, 0, 0.3));\n",
              "      fill: #FFFFFF;\n",
              "    }\n",
              "  </style>\n",
              "\n",
              "    <script>\n",
              "      const buttonEl =\n",
              "        document.querySelector('#df-1c0419e5-65ef-4f85-a62a-7eac9a5f01ea button.colab-df-convert');\n",
              "      buttonEl.style.display =\n",
              "        google.colab.kernel.accessAllowed ? 'block' : 'none';\n",
              "\n",
              "      async function convertToInteractive(key) {\n",
              "        const element = document.querySelector('#df-1c0419e5-65ef-4f85-a62a-7eac9a5f01ea');\n",
              "        const dataTable =\n",
              "          await google.colab.kernel.invokeFunction('convertToInteractive',\n",
              "                                                    [key], {});\n",
              "        if (!dataTable) return;\n",
              "\n",
              "        const docLinkHtml = 'Like what you see? Visit the ' +\n",
              "          '<a target=\"_blank\" href=https://colab.research.google.com/notebooks/data_table.ipynb>data table notebook</a>'\n",
              "          + ' to learn more about interactive tables.';\n",
              "        element.innerHTML = '';\n",
              "        dataTable['output_type'] = 'display_data';\n",
              "        await google.colab.output.renderOutput(dataTable, element);\n",
              "        const docLink = document.createElement('div');\n",
              "        docLink.innerHTML = docLinkHtml;\n",
              "        element.appendChild(docLink);\n",
              "      }\n",
              "    </script>\n",
              "  </div>\n",
              "\n",
              "\n",
              "<div id=\"df-0f1fa0a3-8513-42ca-92d7-341e44739879\">\n",
              "  <button class=\"colab-df-quickchart\" onclick=\"quickchart('df-0f1fa0a3-8513-42ca-92d7-341e44739879')\"\n",
              "            title=\"Suggest charts\"\n",
              "            style=\"display:none;\">\n",
              "\n",
              "<svg xmlns=\"http://www.w3.org/2000/svg\" height=\"24px\"viewBox=\"0 0 24 24\"\n",
              "     width=\"24px\">\n",
              "    <g>\n",
              "        <path d=\"M19 3H5c-1.1 0-2 .9-2 2v14c0 1.1.9 2 2 2h14c1.1 0 2-.9 2-2V5c0-1.1-.9-2-2-2zM9 17H7v-7h2v7zm4 0h-2V7h2v10zm4 0h-2v-4h2v4z\"/>\n",
              "    </g>\n",
              "</svg>\n",
              "  </button>\n",
              "\n",
              "<style>\n",
              "  .colab-df-quickchart {\n",
              "      --bg-color: #E8F0FE;\n",
              "      --fill-color: #1967D2;\n",
              "      --hover-bg-color: #E2EBFA;\n",
              "      --hover-fill-color: #174EA6;\n",
              "      --disabled-fill-color: #AAA;\n",
              "      --disabled-bg-color: #DDD;\n",
              "  }\n",
              "\n",
              "  [theme=dark] .colab-df-quickchart {\n",
              "      --bg-color: #3B4455;\n",
              "      --fill-color: #D2E3FC;\n",
              "      --hover-bg-color: #434B5C;\n",
              "      --hover-fill-color: #FFFFFF;\n",
              "      --disabled-bg-color: #3B4455;\n",
              "      --disabled-fill-color: #666;\n",
              "  }\n",
              "\n",
              "  .colab-df-quickchart {\n",
              "    background-color: var(--bg-color);\n",
              "    border: none;\n",
              "    border-radius: 50%;\n",
              "    cursor: pointer;\n",
              "    display: none;\n",
              "    fill: var(--fill-color);\n",
              "    height: 32px;\n",
              "    padding: 0;\n",
              "    width: 32px;\n",
              "  }\n",
              "\n",
              "  .colab-df-quickchart:hover {\n",
              "    background-color: var(--hover-bg-color);\n",
              "    box-shadow: 0 1px 2px rgba(60, 64, 67, 0.3), 0 1px 3px 1px rgba(60, 64, 67, 0.15);\n",
              "    fill: var(--button-hover-fill-color);\n",
              "  }\n",
              "\n",
              "  .colab-df-quickchart-complete:disabled,\n",
              "  .colab-df-quickchart-complete:disabled:hover {\n",
              "    background-color: var(--disabled-bg-color);\n",
              "    fill: var(--disabled-fill-color);\n",
              "    box-shadow: none;\n",
              "  }\n",
              "\n",
              "  .colab-df-spinner {\n",
              "    border: 2px solid var(--fill-color);\n",
              "    border-color: transparent;\n",
              "    border-bottom-color: var(--fill-color);\n",
              "    animation:\n",
              "      spin 1s steps(1) infinite;\n",
              "  }\n",
              "\n",
              "  @keyframes spin {\n",
              "    0% {\n",
              "      border-color: transparent;\n",
              "      border-bottom-color: var(--fill-color);\n",
              "      border-left-color: var(--fill-color);\n",
              "    }\n",
              "    20% {\n",
              "      border-color: transparent;\n",
              "      border-left-color: var(--fill-color);\n",
              "      border-top-color: var(--fill-color);\n",
              "    }\n",
              "    30% {\n",
              "      border-color: transparent;\n",
              "      border-left-color: var(--fill-color);\n",
              "      border-top-color: var(--fill-color);\n",
              "      border-right-color: var(--fill-color);\n",
              "    }\n",
              "    40% {\n",
              "      border-color: transparent;\n",
              "      border-right-color: var(--fill-color);\n",
              "      border-top-color: var(--fill-color);\n",
              "    }\n",
              "    60% {\n",
              "      border-color: transparent;\n",
              "      border-right-color: var(--fill-color);\n",
              "    }\n",
              "    80% {\n",
              "      border-color: transparent;\n",
              "      border-right-color: var(--fill-color);\n",
              "      border-bottom-color: var(--fill-color);\n",
              "    }\n",
              "    90% {\n",
              "      border-color: transparent;\n",
              "      border-bottom-color: var(--fill-color);\n",
              "    }\n",
              "  }\n",
              "</style>\n",
              "\n",
              "  <script>\n",
              "    async function quickchart(key) {\n",
              "      const quickchartButtonEl =\n",
              "        document.querySelector('#' + key + ' button');\n",
              "      quickchartButtonEl.disabled = true;  // To prevent multiple clicks.\n",
              "      quickchartButtonEl.classList.add('colab-df-spinner');\n",
              "      try {\n",
              "        const charts = await google.colab.kernel.invokeFunction(\n",
              "            'suggestCharts', [key], {});\n",
              "      } catch (error) {\n",
              "        console.error('Error during call to suggestCharts:', error);\n",
              "      }\n",
              "      quickchartButtonEl.classList.remove('colab-df-spinner');\n",
              "      quickchartButtonEl.classList.add('colab-df-quickchart-complete');\n",
              "    }\n",
              "    (() => {\n",
              "      let quickchartButtonEl =\n",
              "        document.querySelector('#df-0f1fa0a3-8513-42ca-92d7-341e44739879 button');\n",
              "      quickchartButtonEl.style.display =\n",
              "        google.colab.kernel.accessAllowed ? 'block' : 'none';\n",
              "    })();\n",
              "  </script>\n",
              "</div>\n",
              "\n",
              "    </div>\n",
              "  </div>\n"
            ],
            "application/vnd.google.colaboratory.intrinsic+json": {
              "type": "dataframe",
              "variable_name": "df",
              "summary": "{\n  \"name\": \"df\",\n  \"rows\": 2956,\n  \"fields\": [\n    {\n      \"column\": \"input\",\n      \"properties\": {\n        \"dtype\": \"object\",\n        \"num_unique_values\": 1,\n        \"samples\": [\n          \"\"\n        ],\n        \"semantic_type\": \"\",\n        \"description\": \"\"\n      }\n    },\n    {\n      \"column\": \"text\",\n      \"properties\": {\n        \"dtype\": \"category\",\n        \"num_unique_values\": 1,\n        \"samples\": [\n          \"Here is a classification that determines whether a given text is considered cyberbullying or not; and if so, which kind. \"\n        ],\n        \"semantic_type\": \"\",\n        \"description\": \"\"\n      }\n    },\n    {\n      \"column\": \"output\",\n      \"properties\": {\n        \"dtype\": \"category\",\n        \"num_unique_values\": 6,\n        \"samples\": [\n          \"not_cyberbullying\"\n        ],\n        \"semantic_type\": \"\",\n        \"description\": \"\"\n      }\n    },\n    {\n      \"column\": \"instruction\",\n      \"properties\": {\n        \"dtype\": \"string\",\n        \"num_unique_values\": 2950,\n        \"samples\": [\n          \"Krazy-eyes Kat needs a kick in the ku... #MKR #mkr2015\"\n        ],\n        \"semantic_type\": \"\",\n        \"description\": \"\"\n      }\n    }\n  ]\n}"
            }
          },
          "metadata": {},
          "execution_count": 5
        }
      ],
      "source": [
        "df.head()"
      ]
    },
    {
      "cell_type": "code",
      "execution_count": null,
      "metadata": {
        "id": "qkiAi8s7z7gc"
      },
      "outputs": [],
      "source": [
        "def drop_columns(df, columns):\n",
        "    return df.drop(columns=columns, inplace=False)\n",
        "\n",
        "columns_to_drop = ['input', 'text']\n",
        "df = drop_columns(df, columns_to_drop)"
      ]
    },
    {
      "cell_type": "code",
      "execution_count": null,
      "metadata": {
        "colab": {
          "base_uri": "https://localhost:8080/"
        },
        "id": "6egZ8rcF0AWQ",
        "outputId": "418f9739-c265-4c15-b1a3-63b6eb27ee0c"
      },
      "outputs": [
        {
          "output_type": "execute_result",
          "data": {
            "text/plain": [
              "output\n",
              "gender                 612\n",
              "religion               562\n",
              "other_cyberbullying    483\n",
              "not_cyberbullying      434\n",
              "age                    433\n",
              "ethnicity              432\n",
              "Name: count, dtype: int64"
            ]
          },
          "metadata": {},
          "execution_count": 7
        }
      ],
      "source": [
        "df['output'].value_counts()"
      ]
    },
    {
      "cell_type": "code",
      "execution_count": null,
      "metadata": {
        "colab": {
          "base_uri": "https://localhost:8080/"
        },
        "id": "PMVPp9DB0C5B",
        "outputId": "ba0cf4d0-da54-42ff-b803-0f8d4f842ca0"
      },
      "outputs": [
        {
          "output_type": "stream",
          "name": "stderr",
          "text": [
            "[nltk_data] Downloading package punkt to /root/nltk_data...\n",
            "[nltk_data]   Unzipping tokenizers/punkt.zip.\n",
            "[nltk_data] Downloading package stopwords to /root/nltk_data...\n",
            "[nltk_data]   Unzipping corpora/stopwords.zip.\n",
            "[nltk_data] Downloading package wordnet to /root/nltk_data...\n"
          ]
        },
        {
          "output_type": "execute_result",
          "data": {
            "text/plain": [
              "True"
            ]
          },
          "metadata": {},
          "execution_count": 8
        }
      ],
      "source": [
        "import re\n",
        "import string\n",
        "import nltk\n",
        "from nltk.tokenize import word_tokenize\n",
        "from nltk.corpus import stopwords\n",
        "\n",
        "# Download NLTK resources\n",
        "nltk.download('punkt')\n",
        "nltk.download('stopwords')\n",
        "nltk.download('wordnet')"
      ]
    },
    {
      "cell_type": "code",
      "execution_count": null,
      "metadata": {
        "id": "hsmIiDhb0GBX"
      },
      "outputs": [],
      "source": [
        "# Assign values to cyberbullying types\n",
        "cyberbullying_type_mapping = {\n",
        "    \"age\": 1,\n",
        "    \"ethnicity\": 2,\n",
        "    \"gender\": 3,\n",
        "    \"not_cyberbullying\": 4,\n",
        "    \"other_cyberbullying\": 5,\n",
        "    \"religion\": 6\n",
        "}\n",
        "df['output'] = df['output'].map(cyberbullying_type_mapping)"
      ]
    },
    {
      "cell_type": "code",
      "execution_count": null,
      "metadata": {
        "colab": {
          "base_uri": "https://localhost:8080/"
        },
        "id": "FKE6n99A0L45",
        "outputId": "9f900266-896a-4d0d-8789-2cd212c45b33"
      },
      "outputs": [
        {
          "output_type": "stream",
          "name": "stdout",
          "text": [
            "   output                                        instruction\n",
            "0       4                            words food crapilicious\n",
            "1       4                            words food crapilicious\n",
            "2       4                                              white\n",
            "3       4                   classy whore red velvet cupcakes\n",
            "4       4  meh p thanks heads concerned another angry dud...\n"
          ]
        }
      ],
      "source": [
        "\n",
        "def preprocess_text(text):\n",
        "\n",
        "    # Lowercasing\n",
        "    text = text.lower()\n",
        "\n",
        "    # Replace links with 'link'\n",
        "    text = re.sub(r'http\\S+|www\\S+', 'link', text)\n",
        "\n",
        "    # Remove mentions (words starting with @)\n",
        "    text = re.sub(r'@\\w+', '', text)\n",
        "\n",
        "    #remove hashtags\n",
        "    text = re.sub(r'#\\w+', '', text)\n",
        "\n",
        "    # Tokenization\n",
        "    tokens = word_tokenize(text)\n",
        "\n",
        "    # Removing Punctuation and Special Characters\n",
        "    tokens = [word for word in tokens if word.isalnum()]\n",
        "\n",
        "    # Removing Stopwords\n",
        "    stop_words = set(stopwords.words('english'))\n",
        "    tokens = [word for word in tokens if word not in stop_words]\n",
        "\n",
        "    # Join tokens back into a single string\n",
        "    preprocessed_text = ' '.join(tokens)\n",
        "\n",
        "    return preprocessed_text\n",
        "\n",
        "# Applying text preprocessing to the 'instruction' column in the DataFrame\n",
        "df['instruction'] = df['instruction'].apply(preprocess_text)\n",
        "\n",
        "print(df.head())"
      ]
    },
    {
      "cell_type": "code",
      "execution_count": null,
      "metadata": {
        "colab": {
          "base_uri": "https://localhost:8080/"
        },
        "id": "1Uq10Jkm0-IF",
        "outputId": "ccddc052-be07-4c8e-8d64-73738d1c1e4b"
      },
      "outputs": [
        {
          "output_type": "stream",
          "name": "stdout",
          "text": [
            "                                         instruction  \\\n",
            "0                            words food crapilicious   \n",
            "1                            words food crapilicious   \n",
            "2                                              white   \n",
            "3                   classy whore red velvet cupcakes   \n",
            "4  meh p thanks heads concerned another angry dud...   \n",
            "\n",
            "                                              tokens  \n",
            "0                        [words, food, crapilicious]  \n",
            "1                        [words, food, crapilicious]  \n",
            "2                                            [white]  \n",
            "3             [classy, whore, red, velvet, cupcakes]  \n",
            "4  [meh, p, thanks, heads, concerned, another, an...  \n"
          ]
        }
      ],
      "source": [
        "\n",
        "#Tokenize data\n",
        "from nltk.tokenize import word_tokenize\n",
        "\n",
        "df['tokens'] = df['instruction'].apply(word_tokenize)\n",
        "\n",
        "# Display the DataFrame with tokenized text\n",
        "print(df[['instruction', 'tokens']].head())"
      ]
    },
    {
      "cell_type": "code",
      "execution_count": null,
      "metadata": {
        "colab": {
          "base_uri": "https://localhost:8080/"
        },
        "id": "e8d8C86x1GJO",
        "outputId": "198720b7-0948-4e35-a3f6-bcb14c8ea996"
      },
      "outputs": [
        {
          "output_type": "stream",
          "name": "stderr",
          "text": [
            "[nltk_data] Downloading package stopwords to /root/nltk_data...\n",
            "[nltk_data]   Package stopwords is already up-to-date!\n"
          ]
        }
      ],
      "source": [
        "# NLTK stopwords\n",
        "nltk.download('stopwords')\n",
        "stop_words = set(stopwords.words('english'))\n",
        "# Function to remove stopwords\n",
        "def remove_stopwords(text):\n",
        "    return ' '.join(word for word in text.split() if word.lower() not in stop_words)\n",
        "\n",
        "df['instruction'] = df['instruction'].apply(remove_stopwords)"
      ]
    },
    {
      "cell_type": "code",
      "execution_count": null,
      "metadata": {
        "colab": {
          "base_uri": "https://localhost:8080/"
        },
        "id": "FtRuhsy91Qp8",
        "outputId": "36a4c11f-07f3-4a57-e928-2ad052584540"
      },
      "outputs": [
        {
          "output_type": "execute_result",
          "data": {
            "text/plain": [
              "0                                 words food crapilicious\n",
              "1                                 words food crapilicious\n",
              "2                                                   white\n",
              "3                        classy whore red velvet cupcakes\n",
              "4       meh p thanks heads concerned another angry dud...\n",
              "                              ...                        \n",
              "2951    u tell ppl ok someone ridiculed ur race cuz so...\n",
              "2952    right battle dumb fuck cuz whites see nigger e...\n",
              "2953                    mad rt fuck obama dumb ass nigger\n",
              "2954    fuck dumb nigger would never stand fuckin show...\n",
              "2955    pussy ass bitch dumb muthafuker like fuck u ni...\n",
              "Name: instruction, Length: 2956, dtype: object"
            ]
          },
          "metadata": {},
          "execution_count": 13
        }
      ],
      "source": [
        "df['instruction']"
      ]
    },
    {
      "cell_type": "code",
      "execution_count": null,
      "metadata": {
        "id": "lfXi3eqv1c4T"
      },
      "outputs": [],
      "source": [
        "import pandas as pd\n",
        "from sklearn.feature_extraction.text import TfidfVectorizer\n"
      ]
    },
    {
      "cell_type": "code",
      "execution_count": null,
      "metadata": {
        "colab": {
          "base_uri": "https://localhost:8080/"
        },
        "id": "8MHd5EYv3oXq",
        "outputId": "e84e3287-9b52-4215-b5e2-6f2037e49629"
      },
      "outputs": [
        {
          "name": "stdout",
          "output_type": "stream",
          "text": [
            "[[0. 0. 0. ... 0. 0. 0.]\n",
            " [0. 0. 0. ... 0. 0. 0.]\n",
            " [0. 0. 0. ... 0. 0. 0.]\n",
            " ...\n",
            " [0. 0. 0. ... 0. 0. 0.]\n",
            " [0. 0. 0. ... 0. 0. 0.]\n",
            " [0. 0. 0. ... 0. 0. 0.]]\n"
          ]
        }
      ],
      "source": [
        "\n",
        "# Initialize TF-IDF vectorizer\n",
        "tfidf_vectorizer = TfidfVectorizer()\n",
        "\n",
        "# Fit the vectorizer to your data\n",
        "tfidf_matrix = tfidf_vectorizer.fit_transform(df['instruction'])\n",
        "tfidf_features = tfidf_matrix.toarray()\n",
        "\n",
        "print(tfidf_features)"
      ]
    },
    {
      "cell_type": "code",
      "execution_count": null,
      "metadata": {
        "id": "pS8jlW1i3vus"
      },
      "outputs": [],
      "source": [
        "from sklearn.model_selection import train_test_split\n",
        "from sklearn.svm import SVC\n",
        "from sklearn.metrics import accuracy_score\n",
        "from sklearn.metrics import accuracy_score, precision_score, recall_score, f1_score\n",
        "\n",
        "# Splitting the data into training and testing sets\n",
        "X_train, X_test, y_train, y_test = train_test_split(tfidf_features, df['output'], test_size=0.2, random_state=42)\n"
      ]
    },
    {
      "cell_type": "code",
      "execution_count": null,
      "metadata": {
        "colab": {
          "background_save": true
        },
        "id": "dZL0cAlJ4Kto",
        "outputId": "42e8dae5-c5db-46d7-b16d-e3a359288ba0"
      },
      "outputs": [
        {
          "name": "stdout",
          "output_type": "stream",
          "text": [
            "Training Metrics:\n",
            "Accuracy: 0.9758883248730964\n",
            "Precision: 0.9764320484424392\n",
            "Recall: 0.9758883248730964\n",
            "F1-Score: 0.9758465951565614\n"
          ]
        }
      ],
      "source": [
        "# Train the SVC model\n",
        "svc_model = SVC(kernel='linear')\n",
        "svc_model.fit(X_train, y_train)\n",
        "\n",
        "# Predictting outputs for the training data\n",
        "y_train_pred = svc_model.predict(X_train)\n",
        "\n",
        "# Calculate metrics for the training data\n",
        "train_accuracy = accuracy_score(y_train, y_train_pred)\n",
        "train_precision = precision_score(y_train, y_train_pred, average='weighted')\n",
        "train_recall = recall_score(y_train, y_train_pred, average='weighted')\n",
        "train_f1_score = f1_score(y_train, y_train_pred, average='weighted')\n",
        "\n",
        "print(\"Training Metrics:\")\n",
        "print(\"Accuracy:\", train_accuracy)\n",
        "print(\"Precision:\", train_precision)\n",
        "print(\"Recall:\", train_recall)\n",
        "print(\"F1-Score:\", train_f1_score)"
      ]
    },
    {
      "cell_type": "code",
      "execution_count": null,
      "metadata": {
        "colab": {
          "background_save": true
        },
        "id": "91Ry3HZX4lw9",
        "outputId": "b1470fcb-87a4-4e6d-f7ac-d7fa9f0edf03"
      },
      "outputs": [
        {
          "name": "stdout",
          "output_type": "stream",
          "text": [
            "\n",
            "Test Metrics:\n",
            "Accuracy: 0.793918918918919\n",
            "Precision: 0.8120842796933005\n",
            "Recall: 0.793918918918919\n",
            "F1-Score: 0.7952599358660396\n"
          ]
        }
      ],
      "source": [
        "# Predict outputs for the test data\n",
        "y_test_pred = svc_model.predict(X_test)\n",
        "\n",
        "# Calculate metrics for the test data\n",
        "test_accuracy = accuracy_score(y_test, y_test_pred)\n",
        "test_precision = precision_score(y_test, y_test_pred, average='weighted')\n",
        "test_recall = recall_score(y_test, y_test_pred, average='weighted')\n",
        "test_f1_score = f1_score(y_test, y_test_pred, average='weighted')\n",
        "\n",
        "print(\"\\nTest Metrics:\")\n",
        "print(\"Accuracy:\", test_accuracy)\n",
        "print(\"Precision:\", test_precision)\n",
        "print(\"Recall:\", test_recall)\n",
        "print(\"F1-Score:\", test_f1_score)\n"
      ]
    },
    {
      "cell_type": "code",
      "execution_count": null,
      "metadata": {
        "colab": {
          "background_save": true
        },
        "id": "Wf67eQUC5N1k"
      },
      "outputs": [],
      "source": [
        "import tensorflow as tf\n",
        "from tensorflow.keras.models import Sequential\n",
        "from tensorflow.keras.layers import Dense\n",
        "import numpy as np\n",
        "from sklearn.linear_model import LogisticRegression\n",
        "from sklearn.linear_model import LinearRegression\n",
        "from tensorflow.keras.layers import Dense, Dropout\n",
        "from tensorflow.keras.optimizers import Adam\n",
        "from sklearn.metrics import accuracy_score, precision_score, recall_score, f1_score\n",
        "from sklearn.preprocessing import LabelEncoder"
      ]
    },
    {
      "cell_type": "code",
      "execution_count": null,
      "metadata": {
        "colab": {
          "background_save": true
        },
        "id": "f-aXKftY75kv",
        "outputId": "77ce1086-813b-4a9b-8de0-36707d0f25ce"
      },
      "outputs": [
        {
          "name": "stdout",
          "output_type": "stream",
          "text": [
            "Train Set Metrics:\n",
            "Accuracy: 0.1484771573604061\n",
            "Precision: 0.022045466257826794\n",
            "Recall: 0.1484771573604061\n",
            "F1-Score: 0.03839077880920998\n"
          ]
        },
        {
          "name": "stderr",
          "output_type": "stream",
          "text": [
            "/usr/local/lib/python3.10/dist-packages/sklearn/metrics/_classification.py:1344: UndefinedMetricWarning: Precision is ill-defined and being set to 0.0 in labels with no predicted samples. Use `zero_division` parameter to control this behavior.\n",
            "  _warn_prf(average, modifier, msg_start, len(result))\n"
          ]
        }
      ],
      "source": [
        "# Define and train the linear regression model\n",
        "linear_regression = LinearRegression()\n",
        "linear_regression.fit(X_train, y_train)\n",
        "\n",
        "# Predict probabilities for the training set\n",
        "y_train_pred_prob = linear_regression.predict(X_train)\n",
        "\n",
        "# Define a threshold for binarizing the predictions\n",
        "threshold = 0.5\n",
        "\n",
        "# Binarize the predictions based on the threshold\n",
        "y_train_pred = (y_train_pred_prob > threshold).astype(int)\n",
        "\n",
        "# Evaluate train set metrics\n",
        "train_accuracy = accuracy_score(y_train, y_train_pred)\n",
        "train_precision = precision_score(y_train, y_train_pred, average='weighted')\n",
        "train_recall = recall_score(y_train, y_train_pred, average='weighted')\n",
        "train_f1 = f1_score(y_train, y_train_pred, average='weighted')\n",
        "\n",
        "# Print train set evaluation metrics\n",
        "print(\"Train Set Metrics:\")\n",
        "print(\"Accuracy:\", train_accuracy)\n",
        "print(\"Precision:\", train_precision)\n",
        "print(\"Recall:\", train_recall)\n",
        "print(\"F1-Score:\", train_f1)"
      ]
    },
    {
      "cell_type": "code",
      "execution_count": null,
      "metadata": {
        "colab": {
          "background_save": true
        },
        "id": "DwvP07Ki8GCv",
        "outputId": "cdb2f2d6-6450-4e41-d912-7abd4b064166"
      },
      "outputs": [
        {
          "name": "stdout",
          "output_type": "stream",
          "text": [
            "\n",
            "Test Set Metrics:\n",
            "Accuracy: 0.07432432432432433\n",
            "Precision: 0.020383259513694296\n",
            "Recall: 0.07432432432432433\n",
            "F1-Score: 0.03199262254380365\n"
          ]
        },
        {
          "name": "stderr",
          "output_type": "stream",
          "text": [
            "/usr/local/lib/python3.10/dist-packages/sklearn/metrics/_classification.py:1344: UndefinedMetricWarning: Precision is ill-defined and being set to 0.0 in labels with no predicted samples. Use `zero_division` parameter to control this behavior.\n",
            "  _warn_prf(average, modifier, msg_start, len(result))\n",
            "/usr/local/lib/python3.10/dist-packages/sklearn/metrics/_classification.py:1344: UndefinedMetricWarning: Recall is ill-defined and being set to 0.0 in labels with no true samples. Use `zero_division` parameter to control this behavior.\n",
            "  _warn_prf(average, modifier, msg_start, len(result))\n"
          ]
        }
      ],
      "source": [
        "#TEST PREDICTION OF LINEAR REG MODEL\n",
        "\n",
        "# Predict on the test set\n",
        "y_test_pred_prob = linear_regression.predict(X_test)\n",
        "y_test_pred = (y_test_pred_prob > threshold).astype(int)\n",
        "\n",
        "# Evaluate test set metrics\n",
        "test_accuracy = accuracy_score(y_test, y_test_pred)\n",
        "test_precision = precision_score(y_test, y_test_pred, average='weighted')\n",
        "test_recall = recall_score(y_test, y_test_pred, average='weighted')\n",
        "test_f1 = f1_score(y_test, y_test_pred, average='weighted')\n",
        "\n",
        "# Print test set evaluation metrics\n",
        "print(\"\\nTest Set Metrics:\")\n",
        "print(\"Accuracy:\", test_accuracy)\n",
        "print(\"Precision:\", test_precision)\n",
        "print(\"Recall:\", test_recall)\n",
        "print(\"F1-Score:\", test_f1)"
      ]
    },
    {
      "cell_type": "code",
      "execution_count": null,
      "metadata": {
        "colab": {
          "background_save": true
        },
        "id": "IHs3H3Qb1uAf"
      },
      "outputs": [],
      "source": [
        "import tensorflow as tf\n",
        "from tensorflow.keras.models import Sequential\n",
        "from tensorflow.keras.layers import LSTM, Dense, Embedding, SpatialDropout1D\n",
        "from tensorflow.keras.preprocessing.sequence import pad_sequences\n",
        "from sklearn.metrics import accuracy_score, precision_score, recall_score, f1_score\n",
        "from sklearn.model_selection import train_test_split\n"
      ]
    },
    {
      "cell_type": "code",
      "execution_count": null,
      "metadata": {
        "colab": {
          "background_save": true
        },
        "id": "3dxvPa1EmqHr",
        "outputId": "32abf264-f5a3-43ab-ef73-d53f5b9d749e"
      },
      "outputs": [
        {
          "name": "stdout",
          "output_type": "stream",
          "text": [
            "Unique Labels: [1 2 3 4 5 6]\n"
          ]
        }
      ],
      "source": [
        "import numpy as np\n",
        "\n",
        "unique_labels = np.unique(y_train)\n",
        "print(\"Unique Labels:\", unique_labels)"
      ]
    },
    {
      "cell_type": "code",
      "execution_count": null,
      "metadata": {
        "colab": {
          "background_save": true
        },
        "id": "XgJNSbPWm7F5",
        "outputId": "d70b5bfd-f612-4d20-aa89-7e4743ffb63e"
      },
      "outputs": [
        {
          "name": "stdout",
          "output_type": "stream",
          "text": [
            "Epoch 1/20\n",
            "60/60 [==============================] - 2s 14ms/step - loss: 1.7803 - accuracy: 0.2152 - val_loss: 1.7495 - val_accuracy: 0.3679\n",
            "Epoch 2/20\n",
            "60/60 [==============================] - 1s 9ms/step - loss: 1.6784 - accuracy: 0.3961 - val_loss: 1.5572 - val_accuracy: 0.6681\n",
            "Epoch 3/20\n",
            "60/60 [==============================] - 1s 13ms/step - loss: 1.3906 - accuracy: 0.5769 - val_loss: 1.1617 - val_accuracy: 0.7463\n",
            "Epoch 4/20\n",
            "60/60 [==============================] - 1s 13ms/step - loss: 1.0093 - accuracy: 0.6965 - val_loss: 0.8573 - val_accuracy: 0.7674\n",
            "Epoch 5/20\n",
            "60/60 [==============================] - 1s 14ms/step - loss: 0.7131 - accuracy: 0.7673 - val_loss: 0.7056 - val_accuracy: 0.7780\n",
            "Epoch 6/20\n",
            "60/60 [==============================] - 1s 12ms/step - loss: 0.5735 - accuracy: 0.8033 - val_loss: 0.6287 - val_accuracy: 0.7970\n",
            "Epoch 7/20\n",
            "60/60 [==============================] - 1s 12ms/step - loss: 0.5070 - accuracy: 0.8213 - val_loss: 0.5866 - val_accuracy: 0.7886\n",
            "Epoch 8/20\n",
            "60/60 [==============================] - 1s 12ms/step - loss: 0.4255 - accuracy: 0.8657 - val_loss: 0.5682 - val_accuracy: 0.7949\n",
            "Epoch 9/20\n",
            "60/60 [==============================] - 1s 16ms/step - loss: 0.3828 - accuracy: 0.8726 - val_loss: 0.5556 - val_accuracy: 0.7822\n",
            "Epoch 10/20\n",
            "60/60 [==============================] - 1s 11ms/step - loss: 0.3314 - accuracy: 0.9011 - val_loss: 0.5487 - val_accuracy: 0.7844\n",
            "Epoch 11/20\n",
            "60/60 [==============================] - 1s 17ms/step - loss: 0.3081 - accuracy: 0.9069 - val_loss: 0.5405 - val_accuracy: 0.8013\n",
            "Epoch 12/20\n",
            "60/60 [==============================] - 1s 14ms/step - loss: 0.2683 - accuracy: 0.9207 - val_loss: 0.5379 - val_accuracy: 0.7970\n",
            "Epoch 13/20\n",
            "60/60 [==============================] - 1s 15ms/step - loss: 0.2437 - accuracy: 0.9355 - val_loss: 0.5386 - val_accuracy: 0.7865\n",
            "Epoch 14/20\n",
            "60/60 [==============================] - 1s 11ms/step - loss: 0.2108 - accuracy: 0.9418 - val_loss: 0.5448 - val_accuracy: 0.7865\n",
            "Epoch 15/20\n",
            "60/60 [==============================] - 1s 11ms/step - loss: 0.2058 - accuracy: 0.9471 - val_loss: 0.5472 - val_accuracy: 0.7844\n",
            "Epoch 16/20\n",
            "60/60 [==============================] - 1s 12ms/step - loss: 0.1796 - accuracy: 0.9519 - val_loss: 0.5541 - val_accuracy: 0.7822\n",
            "Epoch 17/20\n",
            "60/60 [==============================] - 1s 12ms/step - loss: 0.1728 - accuracy: 0.9524 - val_loss: 0.5578 - val_accuracy: 0.7801\n",
            "Epoch 18/20\n",
            "60/60 [==============================] - 1s 10ms/step - loss: 0.1659 - accuracy: 0.9561 - val_loss: 0.5695 - val_accuracy: 0.7759\n",
            "Epoch 19/20\n",
            "60/60 [==============================] - 1s 11ms/step - loss: 0.1329 - accuracy: 0.9640 - val_loss: 0.5808 - val_accuracy: 0.7759\n",
            "Epoch 20/20\n",
            "60/60 [==============================] - 1s 15ms/step - loss: 0.1354 - accuracy: 0.9651 - val_loss: 0.5816 - val_accuracy: 0.7801\n",
            "74/74 [==============================] - 1s 5ms/step\n",
            "Train Set Metrics:\n",
            "Accuracy: 0.8210659898477157\n",
            "Precision: 0.8872535066338236\n",
            "Recall: 0.8210659898477157\n",
            "F1-Score: 0.7888727857355349\n"
          ]
        }
      ],
      "source": [
        "# Encode the target variable\n",
        "label_encoder = LabelEncoder()\n",
        "y_train_encoded = label_encoder.fit_transform(y_train)  # No need to subtract 1 here\n",
        "y_test_encoded = label_encoder.transform(y_test)  # No need to subtract 1 here\n",
        "\n",
        "# Define a neural network model\n",
        "model = Sequential([\n",
        "    Dense(64, activation='relu', input_shape=(X_train.shape[1],)),\n",
        "    Dropout(0.5),\n",
        "    Dense(32, activation='relu'),\n",
        "    Dropout(0.5),\n",
        "    Dense(6, activation='sigmoid')  # 6 output neurons for 6 categories\n",
        "])\n",
        "\n",
        "# Compile the model\n",
        "model.compile(optimizer=Adam(learning_rate=0.001),\n",
        "              loss='sparse_categorical_crossentropy',  # Use sparse categorical crossentropy\n",
        "              metrics=['accuracy'])\n",
        "\n",
        "# Train the model\n",
        "history = model.fit(X_train, y_train_encoded, epochs=20, batch_size=32, validation_split=0.2, verbose=1)\n",
        "\n",
        "# Predict probabilities for the training set using the neural network model\n",
        "y_train_pred_prob = model.predict(X_train)\n",
        "threshold = 0.5  # Define the threshold for binarizing the predictions\n",
        "y_train_pred = (y_train_pred_prob > threshold).astype(int)\n",
        "\n",
        "# Convert predicted probabilities to class labels\n",
        "y_train_pred_labels = np.argmax(y_train_pred, axis=1)\n",
        "\n",
        "# Evaluate train set metrics\n",
        "train_accuracy = accuracy_score(y_train_encoded, y_train_pred_labels)\n",
        "train_precision = precision_score(y_train_encoded, y_train_pred_labels, average='weighted')\n",
        "train_recall = recall_score(y_train_encoded, y_train_pred_labels, average='weighted')\n",
        "train_f1 = f1_score(y_train_encoded, y_train_pred_labels, average='weighted')\n",
        "\n",
        "# Print train set evaluation metrics\n",
        "print(\"Train Set Metrics:\")\n",
        "print(\"Accuracy:\", train_accuracy)\n",
        "print(\"Precision:\", train_precision)\n",
        "print(\"Recall:\", train_recall)\n",
        "print(\"F1-Score:\", train_f1)"
      ]
    },
    {
      "cell_type": "code",
      "execution_count": null,
      "metadata": {
        "colab": {
          "base_uri": "https://localhost:8080/"
        },
        "id": "ZDlYBWTP8Gmw",
        "outputId": "32f781f9-6540-41f5-c965-41a315ee8839"
      },
      "outputs": [
        {
          "name": "stdout",
          "output_type": "stream",
          "text": [
            "19/19 [==============================] - 0s 3ms/step\n",
            "Test Set Metrics:\n",
            "Accuracy: 0.785472972972973\n",
            "Precision: 0.7801876601417694\n",
            "Recall: 0.785472972972973\n",
            "F1-Score: 0.7821415499485611\n"
          ]
        }
      ],
      "source": [
        "# Predict probabilities for the test set using the neural network model\n",
        "y_test_pred = model.predict(X_test)\n",
        "\n",
        "# Convert predicted probabilities to class labels\n",
        "y_test_pred_labels = np.argmax(y_test_pred, axis=1)\n",
        "\n",
        "# Evaluate test set metrics\n",
        "test_accuracy = accuracy_score(y_test_encoded, y_test_pred_labels)\n",
        "test_precision = precision_score(y_test_encoded, y_test_pred_labels, average='weighted')\n",
        "test_recall = recall_score(y_test_encoded, y_test_pred_labels, average='weighted')\n",
        "test_f1 = f1_score(y_test_encoded, y_test_pred_labels, average='weighted')\n",
        "\n",
        "# Print test set evaluation metrics\n",
        "print(\"Test Set Metrics:\")\n",
        "print(\"Accuracy:\", test_accuracy)\n",
        "print(\"Precision:\", test_precision)\n",
        "print(\"Recall:\", test_recall)\n",
        "print(\"F1-Score:\", test_f1)"
      ]
    },
    {
      "cell_type": "code",
      "execution_count": null,
      "metadata": {
        "id": "bbubpccTqglZ"
      },
      "outputs": [],
      "source": [
        "from keras.preprocessing.text import Tokenizer\n",
        "from keras.preprocessing.sequence import pad_sequences\n",
        "from keras.models import Sequential\n",
        "from keras.layers import Embedding, LSTM, Dense"
      ]
    },
    {
      "cell_type": "code",
      "execution_count": null,
      "metadata": {
        "colab": {
          "base_uri": "https://localhost:8080/"
        },
        "id": "-qU4gPKD1wbh",
        "outputId": "75ba74b3-d811-488e-824f-280c3608022f"
      },
      "outputs": [
        {
          "name": "stdout",
          "output_type": "stream",
          "text": [
            "Epoch 1/10\n",
            "74/74 [==============================] - 6s 47ms/step - loss: -9.2310 - accuracy: 0.1459\n",
            "Epoch 2/10\n",
            "74/74 [==============================] - 3s 46ms/step - loss: -25.8391 - accuracy: 0.1485\n",
            "Epoch 3/10\n",
            "74/74 [==============================] - 3s 40ms/step - loss: -34.5346 - accuracy: 0.1485\n",
            "Epoch 4/10\n",
            "74/74 [==============================] - 3s 39ms/step - loss: -41.9639 - accuracy: 0.1485\n",
            "Epoch 5/10\n",
            "74/74 [==============================] - 3s 46ms/step - loss: -48.9948 - accuracy: 0.1485\n",
            "Epoch 6/10\n",
            "74/74 [==============================] - 4s 47ms/step - loss: -55.8446 - accuracy: 0.1485\n",
            "Epoch 7/10\n",
            "74/74 [==============================] - 3s 40ms/step - loss: -62.5722 - accuracy: 0.1485\n",
            "Epoch 8/10\n",
            "74/74 [==============================] - 3s 40ms/step - loss: -69.2268 - accuracy: 0.1485\n",
            "Epoch 9/10\n",
            "74/74 [==============================] - 4s 47ms/step - loss: -75.8227 - accuracy: 0.1485\n",
            "Epoch 10/10\n",
            "74/74 [==============================] - 3s 46ms/step - loss: -82.3816 - accuracy: 0.1485\n",
            "74/74 [==============================] - 2s 14ms/step\n",
            "Train Set Metrics:\n",
            "Accuracy: 0.1484771573604061\n",
            "Precision: 0.022045466257826794\n",
            "Recall: 0.1484771573604061\n",
            "F1-Score: 0.03839077880920998\n"
          ]
        },
        {
          "name": "stderr",
          "output_type": "stream",
          "text": [
            "/usr/local/lib/python3.10/dist-packages/sklearn/metrics/_classification.py:1344: UndefinedMetricWarning: Precision is ill-defined and being set to 0.0 in labels with no predicted samples. Use `zero_division` parameter to control this behavior.\n",
            "  _warn_prf(average, modifier, msg_start, len(result))\n"
          ]
        }
      ],
      "source": [
        "#LSTN MODEL\n",
        "\n",
        "\n",
        "# Convert X_train and X_test to lists of strings\n",
        "X_train_texts = [str(text) for text in X_train]\n",
        "X_test_texts = [str(text) for text in X_test]\n",
        "\n",
        "# Tokenization and Padding for LSTM\n",
        "maxlen = 100  # Maximum sequence length\n",
        "max_words = 10000  # Maximum number of words to consider as features\n",
        "\n",
        "tokenizer = Tokenizer(num_words=max_words)\n",
        "tokenizer.fit_on_texts(X_train_texts)\n",
        "\n",
        "# Tokenization and Padding for LSTM on train dataset\n",
        "X_train_lstm = tokenizer.texts_to_sequences(X_train_texts)\n",
        "X_train_lstm = pad_sequences(X_train_lstm, maxlen=maxlen)\n",
        "\n",
        "# Tokenization and Padding for LSTM on test dataset\n",
        "X_test_lstm = tokenizer.texts_to_sequences(X_test_texts)\n",
        "X_test_lstm = pad_sequences(X_test_lstm, maxlen=maxlen)\n",
        "\n",
        "# Define LSTM model architecture\n",
        "lstm_model = Sequential()\n",
        "lstm_model.add(Embedding(max_words, 32, input_length=maxlen))\n",
        "lstm_model.add(LSTM(32))\n",
        "lstm_model.add(Dense(1, activation='sigmoid'))\n",
        "\n",
        "# Compile and train LSTM model\n",
        "lstm_model.compile(optimizer='adam', loss='binary_crossentropy', metrics=['accuracy'])\n",
        "lstm_model.fit(X_train_lstm, y_train, epochs=10, batch_size=32)\n",
        "\n",
        "# Make predictions on train set\n",
        "lstm_train_preds = (lstm_model.predict(X_train_lstm) > 0.5).astype(int)\n",
        "\n",
        "# Calculate evaluation metrics for train set\n",
        "train_accuracy = accuracy_score(y_train, lstm_train_preds)\n",
        "train_precision = precision_score(y_train, lstm_train_preds, average='weighted')\n",
        "train_recall = recall_score(y_train, lstm_train_preds, average='weighted')\n",
        "train_f1 = f1_score(y_train, lstm_train_preds, average='weighted')\n",
        "\n",
        "# Print evaluation metrics for train set\n",
        "print(\"Train Set Metrics:\")\n",
        "print(\"Accuracy:\", train_accuracy)\n",
        "print(\"Precision:\", train_precision)\n",
        "print(\"Recall:\", train_recall)\n",
        "print(\"F1-Score:\", train_f1)"
      ]
    },
    {
      "cell_type": "code",
      "execution_count": null,
      "metadata": {
        "id": "hAvJv_7ylFIV"
      },
      "outputs": [],
      "source": []
    }
  ],
  "metadata": {
    "colab": {
      "provenance": []
    },
    "kernelspec": {
      "display_name": "Python 3",
      "name": "python3"
    },
    "language_info": {
      "name": "python"
    },
    "widgets": {
      "application/vnd.jupyter.widget-state+json": {
        "050e90a295eb4b18b7c891417ea29562": {
          "model_module": "@jupyter-widgets/controls",
          "model_name": "HBoxModel",
          "model_module_version": "1.5.0",
          "state": {
            "_dom_classes": [],
            "_model_module": "@jupyter-widgets/controls",
            "_model_module_version": "1.5.0",
            "_model_name": "HBoxModel",
            "_view_count": null,
            "_view_module": "@jupyter-widgets/controls",
            "_view_module_version": "1.5.0",
            "_view_name": "HBoxView",
            "box_style": "",
            "children": [
              "IPY_MODEL_59d3c86442a248039dac53f07c65b32b",
              "IPY_MODEL_f8e1fdad023446e6b9fb6c903e5c1779",
              "IPY_MODEL_ded8e2e9f3ac44d7a974dbfc61e759fd"
            ],
            "layout": "IPY_MODEL_270edfdaa26a433f895354f8f5b0db78"
          }
        },
        "59d3c86442a248039dac53f07c65b32b": {
          "model_module": "@jupyter-widgets/controls",
          "model_name": "HTMLModel",
          "model_module_version": "1.5.0",
          "state": {
            "_dom_classes": [],
            "_model_module": "@jupyter-widgets/controls",
            "_model_module_version": "1.5.0",
            "_model_name": "HTMLModel",
            "_view_count": null,
            "_view_module": "@jupyter-widgets/controls",
            "_view_module_version": "1.5.0",
            "_view_name": "HTMLView",
            "description": "",
            "description_tooltip": null,
            "layout": "IPY_MODEL_30f7998542044f6da965ab977e8d2694",
            "placeholder": "​",
            "style": "IPY_MODEL_79d4f53907fd4031b0107c6aecba7767",
            "value": "Downloading data: 100%"
          }
        },
        "f8e1fdad023446e6b9fb6c903e5c1779": {
          "model_module": "@jupyter-widgets/controls",
          "model_name": "FloatProgressModel",
          "model_module_version": "1.5.0",
          "state": {
            "_dom_classes": [],
            "_model_module": "@jupyter-widgets/controls",
            "_model_module_version": "1.5.0",
            "_model_name": "FloatProgressModel",
            "_view_count": null,
            "_view_module": "@jupyter-widgets/controls",
            "_view_module_version": "1.5.0",
            "_view_name": "ProgressView",
            "bar_style": "success",
            "description": "",
            "description_tooltip": null,
            "layout": "IPY_MODEL_25ab8e327b804b75afa2325a38a24fcc",
            "max": 1028799,
            "min": 0,
            "orientation": "horizontal",
            "style": "IPY_MODEL_117de15f7446404897687f1167c92c3b",
            "value": 1028799
          }
        },
        "ded8e2e9f3ac44d7a974dbfc61e759fd": {
          "model_module": "@jupyter-widgets/controls",
          "model_name": "HTMLModel",
          "model_module_version": "1.5.0",
          "state": {
            "_dom_classes": [],
            "_model_module": "@jupyter-widgets/controls",
            "_model_module_version": "1.5.0",
            "_model_name": "HTMLModel",
            "_view_count": null,
            "_view_module": "@jupyter-widgets/controls",
            "_view_module_version": "1.5.0",
            "_view_name": "HTMLView",
            "description": "",
            "description_tooltip": null,
            "layout": "IPY_MODEL_8b6de37ee59d494d92eaab9c92c59cef",
            "placeholder": "​",
            "style": "IPY_MODEL_61bde91ed4724dbc859b20478086decf",
            "value": " 1.03M/1.03M [00:00&lt;00:00, 6.68MB/s]"
          }
        },
        "270edfdaa26a433f895354f8f5b0db78": {
          "model_module": "@jupyter-widgets/base",
          "model_name": "LayoutModel",
          "model_module_version": "1.2.0",
          "state": {
            "_model_module": "@jupyter-widgets/base",
            "_model_module_version": "1.2.0",
            "_model_name": "LayoutModel",
            "_view_count": null,
            "_view_module": "@jupyter-widgets/base",
            "_view_module_version": "1.2.0",
            "_view_name": "LayoutView",
            "align_content": null,
            "align_items": null,
            "align_self": null,
            "border": null,
            "bottom": null,
            "display": null,
            "flex": null,
            "flex_flow": null,
            "grid_area": null,
            "grid_auto_columns": null,
            "grid_auto_flow": null,
            "grid_auto_rows": null,
            "grid_column": null,
            "grid_gap": null,
            "grid_row": null,
            "grid_template_areas": null,
            "grid_template_columns": null,
            "grid_template_rows": null,
            "height": null,
            "justify_content": null,
            "justify_items": null,
            "left": null,
            "margin": null,
            "max_height": null,
            "max_width": null,
            "min_height": null,
            "min_width": null,
            "object_fit": null,
            "object_position": null,
            "order": null,
            "overflow": null,
            "overflow_x": null,
            "overflow_y": null,
            "padding": null,
            "right": null,
            "top": null,
            "visibility": null,
            "width": null
          }
        },
        "30f7998542044f6da965ab977e8d2694": {
          "model_module": "@jupyter-widgets/base",
          "model_name": "LayoutModel",
          "model_module_version": "1.2.0",
          "state": {
            "_model_module": "@jupyter-widgets/base",
            "_model_module_version": "1.2.0",
            "_model_name": "LayoutModel",
            "_view_count": null,
            "_view_module": "@jupyter-widgets/base",
            "_view_module_version": "1.2.0",
            "_view_name": "LayoutView",
            "align_content": null,
            "align_items": null,
            "align_self": null,
            "border": null,
            "bottom": null,
            "display": null,
            "flex": null,
            "flex_flow": null,
            "grid_area": null,
            "grid_auto_columns": null,
            "grid_auto_flow": null,
            "grid_auto_rows": null,
            "grid_column": null,
            "grid_gap": null,
            "grid_row": null,
            "grid_template_areas": null,
            "grid_template_columns": null,
            "grid_template_rows": null,
            "height": null,
            "justify_content": null,
            "justify_items": null,
            "left": null,
            "margin": null,
            "max_height": null,
            "max_width": null,
            "min_height": null,
            "min_width": null,
            "object_fit": null,
            "object_position": null,
            "order": null,
            "overflow": null,
            "overflow_x": null,
            "overflow_y": null,
            "padding": null,
            "right": null,
            "top": null,
            "visibility": null,
            "width": null
          }
        },
        "79d4f53907fd4031b0107c6aecba7767": {
          "model_module": "@jupyter-widgets/controls",
          "model_name": "DescriptionStyleModel",
          "model_module_version": "1.5.0",
          "state": {
            "_model_module": "@jupyter-widgets/controls",
            "_model_module_version": "1.5.0",
            "_model_name": "DescriptionStyleModel",
            "_view_count": null,
            "_view_module": "@jupyter-widgets/base",
            "_view_module_version": "1.2.0",
            "_view_name": "StyleView",
            "description_width": ""
          }
        },
        "25ab8e327b804b75afa2325a38a24fcc": {
          "model_module": "@jupyter-widgets/base",
          "model_name": "LayoutModel",
          "model_module_version": "1.2.0",
          "state": {
            "_model_module": "@jupyter-widgets/base",
            "_model_module_version": "1.2.0",
            "_model_name": "LayoutModel",
            "_view_count": null,
            "_view_module": "@jupyter-widgets/base",
            "_view_module_version": "1.2.0",
            "_view_name": "LayoutView",
            "align_content": null,
            "align_items": null,
            "align_self": null,
            "border": null,
            "bottom": null,
            "display": null,
            "flex": null,
            "flex_flow": null,
            "grid_area": null,
            "grid_auto_columns": null,
            "grid_auto_flow": null,
            "grid_auto_rows": null,
            "grid_column": null,
            "grid_gap": null,
            "grid_row": null,
            "grid_template_areas": null,
            "grid_template_columns": null,
            "grid_template_rows": null,
            "height": null,
            "justify_content": null,
            "justify_items": null,
            "left": null,
            "margin": null,
            "max_height": null,
            "max_width": null,
            "min_height": null,
            "min_width": null,
            "object_fit": null,
            "object_position": null,
            "order": null,
            "overflow": null,
            "overflow_x": null,
            "overflow_y": null,
            "padding": null,
            "right": null,
            "top": null,
            "visibility": null,
            "width": null
          }
        },
        "117de15f7446404897687f1167c92c3b": {
          "model_module": "@jupyter-widgets/controls",
          "model_name": "ProgressStyleModel",
          "model_module_version": "1.5.0",
          "state": {
            "_model_module": "@jupyter-widgets/controls",
            "_model_module_version": "1.5.0",
            "_model_name": "ProgressStyleModel",
            "_view_count": null,
            "_view_module": "@jupyter-widgets/base",
            "_view_module_version": "1.2.0",
            "_view_name": "StyleView",
            "bar_color": null,
            "description_width": ""
          }
        },
        "8b6de37ee59d494d92eaab9c92c59cef": {
          "model_module": "@jupyter-widgets/base",
          "model_name": "LayoutModel",
          "model_module_version": "1.2.0",
          "state": {
            "_model_module": "@jupyter-widgets/base",
            "_model_module_version": "1.2.0",
            "_model_name": "LayoutModel",
            "_view_count": null,
            "_view_module": "@jupyter-widgets/base",
            "_view_module_version": "1.2.0",
            "_view_name": "LayoutView",
            "align_content": null,
            "align_items": null,
            "align_self": null,
            "border": null,
            "bottom": null,
            "display": null,
            "flex": null,
            "flex_flow": null,
            "grid_area": null,
            "grid_auto_columns": null,
            "grid_auto_flow": null,
            "grid_auto_rows": null,
            "grid_column": null,
            "grid_gap": null,
            "grid_row": null,
            "grid_template_areas": null,
            "grid_template_columns": null,
            "grid_template_rows": null,
            "height": null,
            "justify_content": null,
            "justify_items": null,
            "left": null,
            "margin": null,
            "max_height": null,
            "max_width": null,
            "min_height": null,
            "min_width": null,
            "object_fit": null,
            "object_position": null,
            "order": null,
            "overflow": null,
            "overflow_x": null,
            "overflow_y": null,
            "padding": null,
            "right": null,
            "top": null,
            "visibility": null,
            "width": null
          }
        },
        "61bde91ed4724dbc859b20478086decf": {
          "model_module": "@jupyter-widgets/controls",
          "model_name": "DescriptionStyleModel",
          "model_module_version": "1.5.0",
          "state": {
            "_model_module": "@jupyter-widgets/controls",
            "_model_module_version": "1.5.0",
            "_model_name": "DescriptionStyleModel",
            "_view_count": null,
            "_view_module": "@jupyter-widgets/base",
            "_view_module_version": "1.2.0",
            "_view_name": "StyleView",
            "description_width": ""
          }
        },
        "6413eba8c9df4746939e0120444e2d26": {
          "model_module": "@jupyter-widgets/controls",
          "model_name": "HBoxModel",
          "model_module_version": "1.5.0",
          "state": {
            "_dom_classes": [],
            "_model_module": "@jupyter-widgets/controls",
            "_model_module_version": "1.5.0",
            "_model_name": "HBoxModel",
            "_view_count": null,
            "_view_module": "@jupyter-widgets/controls",
            "_view_module_version": "1.5.0",
            "_view_name": "HBoxView",
            "box_style": "",
            "children": [
              "IPY_MODEL_1179cfea891c4647a12793ceb14ab3eb",
              "IPY_MODEL_3b2f8e72ab7c4547852b6015956aa2a0",
              "IPY_MODEL_265363e55346404285762bdd3db407cb"
            ],
            "layout": "IPY_MODEL_8ffdfc2040e4428d808d24a567e6e7fd"
          }
        },
        "1179cfea891c4647a12793ceb14ab3eb": {
          "model_module": "@jupyter-widgets/controls",
          "model_name": "HTMLModel",
          "model_module_version": "1.5.0",
          "state": {
            "_dom_classes": [],
            "_model_module": "@jupyter-widgets/controls",
            "_model_module_version": "1.5.0",
            "_model_name": "HTMLModel",
            "_view_count": null,
            "_view_module": "@jupyter-widgets/controls",
            "_view_module_version": "1.5.0",
            "_view_name": "HTMLView",
            "description": "",
            "description_tooltip": null,
            "layout": "IPY_MODEL_2d02aa8e0fc04768a95a5fa02ff7c763",
            "placeholder": "​",
            "style": "IPY_MODEL_a1e76f9a0d424e77b87db8954bb07243",
            "value": "Generating train split: "
          }
        },
        "3b2f8e72ab7c4547852b6015956aa2a0": {
          "model_module": "@jupyter-widgets/controls",
          "model_name": "FloatProgressModel",
          "model_module_version": "1.5.0",
          "state": {
            "_dom_classes": [],
            "_model_module": "@jupyter-widgets/controls",
            "_model_module_version": "1.5.0",
            "_model_name": "FloatProgressModel",
            "_view_count": null,
            "_view_module": "@jupyter-widgets/controls",
            "_view_module_version": "1.5.0",
            "_view_name": "ProgressView",
            "bar_style": "success",
            "description": "",
            "description_tooltip": null,
            "layout": "IPY_MODEL_10152e2a16fd42ef9106fa77d74f4ed9",
            "max": 1,
            "min": 0,
            "orientation": "horizontal",
            "style": "IPY_MODEL_e2c5d87bbb8c4989a2a60bd421ee9571",
            "value": 1
          }
        },
        "265363e55346404285762bdd3db407cb": {
          "model_module": "@jupyter-widgets/controls",
          "model_name": "HTMLModel",
          "model_module_version": "1.5.0",
          "state": {
            "_dom_classes": [],
            "_model_module": "@jupyter-widgets/controls",
            "_model_module_version": "1.5.0",
            "_model_name": "HTMLModel",
            "_view_count": null,
            "_view_module": "@jupyter-widgets/controls",
            "_view_module_version": "1.5.0",
            "_view_name": "HTMLView",
            "description": "",
            "description_tooltip": null,
            "layout": "IPY_MODEL_91ca1372aef6497eac001233a80fa6ba",
            "placeholder": "​",
            "style": "IPY_MODEL_62f7cbf46f6a40068a003f23fc8b25de",
            "value": " 2956/0 [00:00&lt;00:00, 22460.84 examples/s]"
          }
        },
        "8ffdfc2040e4428d808d24a567e6e7fd": {
          "model_module": "@jupyter-widgets/base",
          "model_name": "LayoutModel",
          "model_module_version": "1.2.0",
          "state": {
            "_model_module": "@jupyter-widgets/base",
            "_model_module_version": "1.2.0",
            "_model_name": "LayoutModel",
            "_view_count": null,
            "_view_module": "@jupyter-widgets/base",
            "_view_module_version": "1.2.0",
            "_view_name": "LayoutView",
            "align_content": null,
            "align_items": null,
            "align_self": null,
            "border": null,
            "bottom": null,
            "display": null,
            "flex": null,
            "flex_flow": null,
            "grid_area": null,
            "grid_auto_columns": null,
            "grid_auto_flow": null,
            "grid_auto_rows": null,
            "grid_column": null,
            "grid_gap": null,
            "grid_row": null,
            "grid_template_areas": null,
            "grid_template_columns": null,
            "grid_template_rows": null,
            "height": null,
            "justify_content": null,
            "justify_items": null,
            "left": null,
            "margin": null,
            "max_height": null,
            "max_width": null,
            "min_height": null,
            "min_width": null,
            "object_fit": null,
            "object_position": null,
            "order": null,
            "overflow": null,
            "overflow_x": null,
            "overflow_y": null,
            "padding": null,
            "right": null,
            "top": null,
            "visibility": null,
            "width": null
          }
        },
        "2d02aa8e0fc04768a95a5fa02ff7c763": {
          "model_module": "@jupyter-widgets/base",
          "model_name": "LayoutModel",
          "model_module_version": "1.2.0",
          "state": {
            "_model_module": "@jupyter-widgets/base",
            "_model_module_version": "1.2.0",
            "_model_name": "LayoutModel",
            "_view_count": null,
            "_view_module": "@jupyter-widgets/base",
            "_view_module_version": "1.2.0",
            "_view_name": "LayoutView",
            "align_content": null,
            "align_items": null,
            "align_self": null,
            "border": null,
            "bottom": null,
            "display": null,
            "flex": null,
            "flex_flow": null,
            "grid_area": null,
            "grid_auto_columns": null,
            "grid_auto_flow": null,
            "grid_auto_rows": null,
            "grid_column": null,
            "grid_gap": null,
            "grid_row": null,
            "grid_template_areas": null,
            "grid_template_columns": null,
            "grid_template_rows": null,
            "height": null,
            "justify_content": null,
            "justify_items": null,
            "left": null,
            "margin": null,
            "max_height": null,
            "max_width": null,
            "min_height": null,
            "min_width": null,
            "object_fit": null,
            "object_position": null,
            "order": null,
            "overflow": null,
            "overflow_x": null,
            "overflow_y": null,
            "padding": null,
            "right": null,
            "top": null,
            "visibility": null,
            "width": null
          }
        },
        "a1e76f9a0d424e77b87db8954bb07243": {
          "model_module": "@jupyter-widgets/controls",
          "model_name": "DescriptionStyleModel",
          "model_module_version": "1.5.0",
          "state": {
            "_model_module": "@jupyter-widgets/controls",
            "_model_module_version": "1.5.0",
            "_model_name": "DescriptionStyleModel",
            "_view_count": null,
            "_view_module": "@jupyter-widgets/base",
            "_view_module_version": "1.2.0",
            "_view_name": "StyleView",
            "description_width": ""
          }
        },
        "10152e2a16fd42ef9106fa77d74f4ed9": {
          "model_module": "@jupyter-widgets/base",
          "model_name": "LayoutModel",
          "model_module_version": "1.2.0",
          "state": {
            "_model_module": "@jupyter-widgets/base",
            "_model_module_version": "1.2.0",
            "_model_name": "LayoutModel",
            "_view_count": null,
            "_view_module": "@jupyter-widgets/base",
            "_view_module_version": "1.2.0",
            "_view_name": "LayoutView",
            "align_content": null,
            "align_items": null,
            "align_self": null,
            "border": null,
            "bottom": null,
            "display": null,
            "flex": null,
            "flex_flow": null,
            "grid_area": null,
            "grid_auto_columns": null,
            "grid_auto_flow": null,
            "grid_auto_rows": null,
            "grid_column": null,
            "grid_gap": null,
            "grid_row": null,
            "grid_template_areas": null,
            "grid_template_columns": null,
            "grid_template_rows": null,
            "height": null,
            "justify_content": null,
            "justify_items": null,
            "left": null,
            "margin": null,
            "max_height": null,
            "max_width": null,
            "min_height": null,
            "min_width": null,
            "object_fit": null,
            "object_position": null,
            "order": null,
            "overflow": null,
            "overflow_x": null,
            "overflow_y": null,
            "padding": null,
            "right": null,
            "top": null,
            "visibility": null,
            "width": "20px"
          }
        },
        "e2c5d87bbb8c4989a2a60bd421ee9571": {
          "model_module": "@jupyter-widgets/controls",
          "model_name": "ProgressStyleModel",
          "model_module_version": "1.5.0",
          "state": {
            "_model_module": "@jupyter-widgets/controls",
            "_model_module_version": "1.5.0",
            "_model_name": "ProgressStyleModel",
            "_view_count": null,
            "_view_module": "@jupyter-widgets/base",
            "_view_module_version": "1.2.0",
            "_view_name": "StyleView",
            "bar_color": null,
            "description_width": ""
          }
        },
        "91ca1372aef6497eac001233a80fa6ba": {
          "model_module": "@jupyter-widgets/base",
          "model_name": "LayoutModel",
          "model_module_version": "1.2.0",
          "state": {
            "_model_module": "@jupyter-widgets/base",
            "_model_module_version": "1.2.0",
            "_model_name": "LayoutModel",
            "_view_count": null,
            "_view_module": "@jupyter-widgets/base",
            "_view_module_version": "1.2.0",
            "_view_name": "LayoutView",
            "align_content": null,
            "align_items": null,
            "align_self": null,
            "border": null,
            "bottom": null,
            "display": null,
            "flex": null,
            "flex_flow": null,
            "grid_area": null,
            "grid_auto_columns": null,
            "grid_auto_flow": null,
            "grid_auto_rows": null,
            "grid_column": null,
            "grid_gap": null,
            "grid_row": null,
            "grid_template_areas": null,
            "grid_template_columns": null,
            "grid_template_rows": null,
            "height": null,
            "justify_content": null,
            "justify_items": null,
            "left": null,
            "margin": null,
            "max_height": null,
            "max_width": null,
            "min_height": null,
            "min_width": null,
            "object_fit": null,
            "object_position": null,
            "order": null,
            "overflow": null,
            "overflow_x": null,
            "overflow_y": null,
            "padding": null,
            "right": null,
            "top": null,
            "visibility": null,
            "width": null
          }
        },
        "62f7cbf46f6a40068a003f23fc8b25de": {
          "model_module": "@jupyter-widgets/controls",
          "model_name": "DescriptionStyleModel",
          "model_module_version": "1.5.0",
          "state": {
            "_model_module": "@jupyter-widgets/controls",
            "_model_module_version": "1.5.0",
            "_model_name": "DescriptionStyleModel",
            "_view_count": null,
            "_view_module": "@jupyter-widgets/base",
            "_view_module_version": "1.2.0",
            "_view_name": "StyleView",
            "description_width": ""
          }
        }
      }
    }
  },
  "nbformat": 4,
  "nbformat_minor": 0
}