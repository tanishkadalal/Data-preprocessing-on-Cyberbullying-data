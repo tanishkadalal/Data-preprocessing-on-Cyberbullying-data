{
  "cells": [
    {
      "cell_type": "code",
      "execution_count": null,
      "metadata": {
        "colab": {
          "base_uri": "https://localhost:8080/"
        },
        "id": "_fqJ-TYZzbUN",
        "outputId": "d397f542-8030-48b8-f89d-c5ddb5025bcf"
      },
      "outputs": [
        {
          "output_type": "stream",
          "name": "stdout",
          "text": [
            "Collecting datasets\n",
            "  Downloading datasets-2.19.0-py3-none-any.whl (542 kB)\n",
            "\u001b[2K     \u001b[90m━━━━━━━━━━━━━━━━━━━━━━━━━━━━━━━━━━━━━━━━\u001b[0m \u001b[32m542.0/542.0 kB\u001b[0m \u001b[31m4.8 MB/s\u001b[0m eta \u001b[36m0:00:00\u001b[0m\n",
            "\u001b[?25hRequirement already satisfied: filelock in /usr/local/lib/python3.10/dist-packages (from datasets) (3.13.4)\n",
            "Requirement already satisfied: numpy>=1.17 in /usr/local/lib/python3.10/dist-packages (from datasets) (1.25.2)\n",
            "Requirement already satisfied: pyarrow>=12.0.0 in /usr/local/lib/python3.10/dist-packages (from datasets) (14.0.2)\n",
            "Requirement already satisfied: pyarrow-hotfix in /usr/local/lib/python3.10/dist-packages (from datasets) (0.6)\n",
            "Collecting dill<0.3.9,>=0.3.0 (from datasets)\n",
            "  Downloading dill-0.3.8-py3-none-any.whl (116 kB)\n",
            "\u001b[2K     \u001b[90m━━━━━━━━━━━━━━━━━━━━━━━━━━━━━━━━━━━━━━━━\u001b[0m \u001b[32m116.3/116.3 kB\u001b[0m \u001b[31m7.8 MB/s\u001b[0m eta \u001b[36m0:00:00\u001b[0m\n",
            "\u001b[?25hRequirement already satisfied: pandas in /usr/local/lib/python3.10/dist-packages (from datasets) (2.0.3)\n",
            "Requirement already satisfied: requests>=2.19.0 in /usr/local/lib/python3.10/dist-packages (from datasets) (2.31.0)\n",
            "Requirement already satisfied: tqdm>=4.62.1 in /usr/local/lib/python3.10/dist-packages (from datasets) (4.66.2)\n",
            "Collecting xxhash (from datasets)\n",
            "  Downloading xxhash-3.4.1-cp310-cp310-manylinux_2_17_x86_64.manylinux2014_x86_64.whl (194 kB)\n",
            "\u001b[2K     \u001b[90m━━━━━━━━━━━━━━━━━━━━━━━━━━━━━━━━━━━━━━━━\u001b[0m \u001b[32m194.1/194.1 kB\u001b[0m \u001b[31m6.5 MB/s\u001b[0m eta \u001b[36m0:00:00\u001b[0m\n",
            "\u001b[?25hCollecting multiprocess (from datasets)\n",
            "  Downloading multiprocess-0.70.16-py310-none-any.whl (134 kB)\n",
            "\u001b[2K     \u001b[90m━━━━━━━━━━━━━━━━━━━━━━━━━━━━━━━━━━━━━━━━\u001b[0m \u001b[32m134.8/134.8 kB\u001b[0m \u001b[31m5.9 MB/s\u001b[0m eta \u001b[36m0:00:00\u001b[0m\n",
            "\u001b[?25hRequirement already satisfied: fsspec[http]<=2024.3.1,>=2023.1.0 in /usr/local/lib/python3.10/dist-packages (from datasets) (2023.6.0)\n",
            "Requirement already satisfied: aiohttp in /usr/local/lib/python3.10/dist-packages (from datasets) (3.9.5)\n",
            "Collecting huggingface-hub>=0.21.2 (from datasets)\n",
            "  Downloading huggingface_hub-0.22.2-py3-none-any.whl (388 kB)\n",
            "\u001b[2K     \u001b[90m━━━━━━━━━━━━━━━━━━━━━━━━━━━━━━━━━━━━━━━━\u001b[0m \u001b[32m388.9/388.9 kB\u001b[0m \u001b[31m11.5 MB/s\u001b[0m eta \u001b[36m0:00:00\u001b[0m\n",
            "\u001b[?25hRequirement already satisfied: packaging in /usr/local/lib/python3.10/dist-packages (from datasets) (24.0)\n",
            "Requirement already satisfied: pyyaml>=5.1 in /usr/local/lib/python3.10/dist-packages (from datasets) (6.0.1)\n",
            "Requirement already satisfied: aiosignal>=1.1.2 in /usr/local/lib/python3.10/dist-packages (from aiohttp->datasets) (1.3.1)\n",
            "Requirement already satisfied: attrs>=17.3.0 in /usr/local/lib/python3.10/dist-packages (from aiohttp->datasets) (23.2.0)\n",
            "Requirement already satisfied: frozenlist>=1.1.1 in /usr/local/lib/python3.10/dist-packages (from aiohttp->datasets) (1.4.1)\n",
            "Requirement already satisfied: multidict<7.0,>=4.5 in /usr/local/lib/python3.10/dist-packages (from aiohttp->datasets) (6.0.5)\n",
            "Requirement already satisfied: yarl<2.0,>=1.0 in /usr/local/lib/python3.10/dist-packages (from aiohttp->datasets) (1.9.4)\n",
            "Requirement already satisfied: async-timeout<5.0,>=4.0 in /usr/local/lib/python3.10/dist-packages (from aiohttp->datasets) (4.0.3)\n",
            "Requirement already satisfied: typing-extensions>=3.7.4.3 in /usr/local/lib/python3.10/dist-packages (from huggingface-hub>=0.21.2->datasets) (4.11.0)\n",
            "Requirement already satisfied: charset-normalizer<4,>=2 in /usr/local/lib/python3.10/dist-packages (from requests>=2.19.0->datasets) (3.3.2)\n",
            "Requirement already satisfied: idna<4,>=2.5 in /usr/local/lib/python3.10/dist-packages (from requests>=2.19.0->datasets) (3.7)\n",
            "Requirement already satisfied: urllib3<3,>=1.21.1 in /usr/local/lib/python3.10/dist-packages (from requests>=2.19.0->datasets) (2.0.7)\n",
            "Requirement already satisfied: certifi>=2017.4.17 in /usr/local/lib/python3.10/dist-packages (from requests>=2.19.0->datasets) (2024.2.2)\n",
            "Requirement already satisfied: python-dateutil>=2.8.2 in /usr/local/lib/python3.10/dist-packages (from pandas->datasets) (2.8.2)\n",
            "Requirement already satisfied: pytz>=2020.1 in /usr/local/lib/python3.10/dist-packages (from pandas->datasets) (2023.4)\n",
            "Requirement already satisfied: tzdata>=2022.1 in /usr/local/lib/python3.10/dist-packages (from pandas->datasets) (2024.1)\n",
            "Requirement already satisfied: six>=1.5 in /usr/local/lib/python3.10/dist-packages (from python-dateutil>=2.8.2->pandas->datasets) (1.16.0)\n",
            "Installing collected packages: xxhash, dill, multiprocess, huggingface-hub, datasets\n",
            "  Attempting uninstall: huggingface-hub\n",
            "    Found existing installation: huggingface-hub 0.20.3\n",
            "    Uninstalling huggingface-hub-0.20.3:\n",
            "      Successfully uninstalled huggingface-hub-0.20.3\n",
            "Successfully installed datasets-2.19.0 dill-0.3.8 huggingface-hub-0.22.2 multiprocess-0.70.16 xxhash-3.4.1\n",
            "Requirement already satisfied: transformers in /usr/local/lib/python3.10/dist-packages (4.40.0)\n",
            "Requirement already satisfied: filelock in /usr/local/lib/python3.10/dist-packages (from transformers) (3.13.4)\n",
            "Requirement already satisfied: huggingface-hub<1.0,>=0.19.3 in /usr/local/lib/python3.10/dist-packages (from transformers) (0.22.2)\n",
            "Requirement already satisfied: numpy>=1.17 in /usr/local/lib/python3.10/dist-packages (from transformers) (1.25.2)\n",
            "Requirement already satisfied: packaging>=20.0 in /usr/local/lib/python3.10/dist-packages (from transformers) (24.0)\n",
            "Requirement already satisfied: pyyaml>=5.1 in /usr/local/lib/python3.10/dist-packages (from transformers) (6.0.1)\n",
            "Requirement already satisfied: regex!=2019.12.17 in /usr/local/lib/python3.10/dist-packages (from transformers) (2023.12.25)\n",
            "Requirement already satisfied: requests in /usr/local/lib/python3.10/dist-packages (from transformers) (2.31.0)\n",
            "Requirement already satisfied: tokenizers<0.20,>=0.19 in /usr/local/lib/python3.10/dist-packages (from transformers) (0.19.1)\n",
            "Requirement already satisfied: safetensors>=0.4.1 in /usr/local/lib/python3.10/dist-packages (from transformers) (0.4.3)\n",
            "Requirement already satisfied: tqdm>=4.27 in /usr/local/lib/python3.10/dist-packages (from transformers) (4.66.2)\n",
            "Requirement already satisfied: fsspec>=2023.5.0 in /usr/local/lib/python3.10/dist-packages (from huggingface-hub<1.0,>=0.19.3->transformers) (2023.6.0)\n",
            "Requirement already satisfied: typing-extensions>=3.7.4.3 in /usr/local/lib/python3.10/dist-packages (from huggingface-hub<1.0,>=0.19.3->transformers) (4.11.0)\n",
            "Requirement already satisfied: charset-normalizer<4,>=2 in /usr/local/lib/python3.10/dist-packages (from requests->transformers) (3.3.2)\n",
            "Requirement already satisfied: idna<4,>=2.5 in /usr/local/lib/python3.10/dist-packages (from requests->transformers) (3.7)\n",
            "Requirement already satisfied: urllib3<3,>=1.21.1 in /usr/local/lib/python3.10/dist-packages (from requests->transformers) (2.0.7)\n",
            "Requirement already satisfied: certifi>=2017.4.17 in /usr/local/lib/python3.10/dist-packages (from requests->transformers) (2024.2.2)\n"
          ]
        }
      ],
      "source": [
        "!pip install datasets\n",
        "!pip install transformers"
      ]
    },
    {
      "cell_type": "code",
      "execution_count": null,
      "metadata": {
        "id": "9xlR9EvwzhRo"
      },
      "outputs": [],
      "source": [
        "from datasets import load_dataset\n",
        "import pandas as pd\n",
        "\n",
        "pd.options.display.max_columns= None"
      ]
    },
    {
      "cell_type": "code",
      "execution_count": null,
      "metadata": {
        "id": "zXbCXJY8ztkb",
        "colab": {
          "base_uri": "https://localhost:8080/",
          "height": 205,
          "referenced_widgets": [
            "d2ff91ba5b66424eaeec342c51195deb",
            "0d11e8dd71d6438292219a99c0483906",
            "50305a7b31054965860edffd1e84c8b4",
            "9b9f01d49a5949c888f5230f4ca9261e",
            "4beaecc850e04328b9a57eaeeb7a59fc",
            "5068b83d0ded4ae487f0a04c4bde28b4",
            "e8d72767e788499b8ee985fbc39b5380",
            "9c42f74062c64e6cb07936415d38ca02",
            "2fe689ab8a534624b6abefbc03356b1d",
            "5eb444851bfa4d01ba92148aa82e4b09",
            "5393df74f8184558893c1bbff19b8ad0",
            "5b6ea20e5ed2421c91a67a0e29831203",
            "35ef8f72fe8d4788a4cde178b29df963",
            "fe630ea8b08c4391b4f3a62a9b0cb80e",
            "6db53701ee434744991c8979fe6dc7f6",
            "514f34ebff344776ad280ebfc78c294d",
            "80b0bdb3291446c395ce0db2b7086cbf",
            "57389b64d3dd4b85b840561fcd542fa6",
            "56f74b9f1992449a904bf887451c579e",
            "24f462976de644f48a31d72ac42b7b70",
            "2ca90f9ba0bc472d86edbfff63472643",
            "7298943343574381960dfcafdf2cc11b"
          ]
        },
        "outputId": "60cc5d1b-c093-4b56-a662-b0de257c2e1a"
      },
      "outputs": [
        {
          "output_type": "stream",
          "name": "stderr",
          "text": [
            "/usr/local/lib/python3.10/dist-packages/huggingface_hub/utils/_token.py:89: UserWarning: \n",
            "The secret `HF_TOKEN` does not exist in your Colab secrets.\n",
            "To authenticate with the Hugging Face Hub, create a token in your settings tab (https://huggingface.co/settings/tokens), set it as secret in your Google Colab and restart your session.\n",
            "You will be able to reuse this secret in all of your notebooks.\n",
            "Please note that authentication is recommended but still optional to access public models or datasets.\n",
            "  warnings.warn(\n"
          ]
        },
        {
          "output_type": "display_data",
          "data": {
            "text/plain": [
              "Downloading data:   0%|          | 0.00/1.03M [00:00<?, ?B/s]"
            ],
            "application/vnd.jupyter.widget-view+json": {
              "version_major": 2,
              "version_minor": 0,
              "model_id": "d2ff91ba5b66424eaeec342c51195deb"
            }
          },
          "metadata": {}
        },
        {
          "output_type": "display_data",
          "data": {
            "text/plain": [
              "Generating train split:   0%|          | 0/2956 [00:00<?, ? examples/s]"
            ],
            "application/vnd.jupyter.widget-view+json": {
              "version_major": 2,
              "version_minor": 0,
              "model_id": "5b6ea20e5ed2421c91a67a0e29831203"
            }
          },
          "metadata": {}
        }
      ],
      "source": [
        "dataset = load_dataset(\"AnikaBasu/CyberbullyingDataset\")"
      ]
    },
    {
      "cell_type": "code",
      "execution_count": null,
      "metadata": {
        "id": "61qCiI9pzytA"
      },
      "outputs": [],
      "source": [
        "df = pd.DataFrame(dataset['train'])"
      ]
    },
    {
      "cell_type": "code",
      "execution_count": null,
      "metadata": {
        "colab": {
          "base_uri": "https://localhost:8080/",
          "height": 206
        },
        "id": "4f8rNagsz4f7",
        "outputId": "996260ff-d271-4537-8a20-ed59926b9809"
      },
      "outputs": [
        {
          "output_type": "execute_result",
          "data": {
            "text/plain": [
              "  input                                               text  \\\n",
              "0        Here is a classification that determines wheth...   \n",
              "1        Here is a classification that determines wheth...   \n",
              "2        Here is a classification that determines wheth...   \n",
              "3        Here is a classification that determines wheth...   \n",
              "4        Here is a classification that determines wheth...   \n",
              "\n",
              "                                         instruction             output  \n",
              "0  In other words #katandandre, your food was cra...  not_cyberbullying  \n",
              "1  In other words #katandandre, your food was cra...  not_cyberbullying  \n",
              "2  Why is #aussietv so white? #MKR #theblock #ImA...  not_cyberbullying  \n",
              "3  @XochitlSuckkks a classy whore? Or more red ve...  not_cyberbullying  \n",
              "4  @Jason_Gio meh. :P  thanks for the heads up, b...  not_cyberbullying  "
            ],
            "text/html": [
              "\n",
              "  <div id=\"df-dda831b1-9e39-40ff-8c10-2c50475440ed\" class=\"colab-df-container\">\n",
              "    <div>\n",
              "<style scoped>\n",
              "    .dataframe tbody tr th:only-of-type {\n",
              "        vertical-align: middle;\n",
              "    }\n",
              "\n",
              "    .dataframe tbody tr th {\n",
              "        vertical-align: top;\n",
              "    }\n",
              "\n",
              "    .dataframe thead th {\n",
              "        text-align: right;\n",
              "    }\n",
              "</style>\n",
              "<table border=\"1\" class=\"dataframe\">\n",
              "  <thead>\n",
              "    <tr style=\"text-align: right;\">\n",
              "      <th></th>\n",
              "      <th>input</th>\n",
              "      <th>text</th>\n",
              "      <th>instruction</th>\n",
              "      <th>output</th>\n",
              "    </tr>\n",
              "  </thead>\n",
              "  <tbody>\n",
              "    <tr>\n",
              "      <th>0</th>\n",
              "      <td></td>\n",
              "      <td>Here is a classification that determines wheth...</td>\n",
              "      <td>In other words #katandandre, your food was cra...</td>\n",
              "      <td>not_cyberbullying</td>\n",
              "    </tr>\n",
              "    <tr>\n",
              "      <th>1</th>\n",
              "      <td></td>\n",
              "      <td>Here is a classification that determines wheth...</td>\n",
              "      <td>In other words #katandandre, your food was cra...</td>\n",
              "      <td>not_cyberbullying</td>\n",
              "    </tr>\n",
              "    <tr>\n",
              "      <th>2</th>\n",
              "      <td></td>\n",
              "      <td>Here is a classification that determines wheth...</td>\n",
              "      <td>Why is #aussietv so white? #MKR #theblock #ImA...</td>\n",
              "      <td>not_cyberbullying</td>\n",
              "    </tr>\n",
              "    <tr>\n",
              "      <th>3</th>\n",
              "      <td></td>\n",
              "      <td>Here is a classification that determines wheth...</td>\n",
              "      <td>@XochitlSuckkks a classy whore? Or more red ve...</td>\n",
              "      <td>not_cyberbullying</td>\n",
              "    </tr>\n",
              "    <tr>\n",
              "      <th>4</th>\n",
              "      <td></td>\n",
              "      <td>Here is a classification that determines wheth...</td>\n",
              "      <td>@Jason_Gio meh. :P  thanks for the heads up, b...</td>\n",
              "      <td>not_cyberbullying</td>\n",
              "    </tr>\n",
              "  </tbody>\n",
              "</table>\n",
              "</div>\n",
              "    <div class=\"colab-df-buttons\">\n",
              "\n",
              "  <div class=\"colab-df-container\">\n",
              "    <button class=\"colab-df-convert\" onclick=\"convertToInteractive('df-dda831b1-9e39-40ff-8c10-2c50475440ed')\"\n",
              "            title=\"Convert this dataframe to an interactive table.\"\n",
              "            style=\"display:none;\">\n",
              "\n",
              "  <svg xmlns=\"http://www.w3.org/2000/svg\" height=\"24px\" viewBox=\"0 -960 960 960\">\n",
              "    <path d=\"M120-120v-720h720v720H120Zm60-500h600v-160H180v160Zm220 220h160v-160H400v160Zm0 220h160v-160H400v160ZM180-400h160v-160H180v160Zm440 0h160v-160H620v160ZM180-180h160v-160H180v160Zm440 0h160v-160H620v160Z\"/>\n",
              "  </svg>\n",
              "    </button>\n",
              "\n",
              "  <style>\n",
              "    .colab-df-container {\n",
              "      display:flex;\n",
              "      gap: 12px;\n",
              "    }\n",
              "\n",
              "    .colab-df-convert {\n",
              "      background-color: #E8F0FE;\n",
              "      border: none;\n",
              "      border-radius: 50%;\n",
              "      cursor: pointer;\n",
              "      display: none;\n",
              "      fill: #1967D2;\n",
              "      height: 32px;\n",
              "      padding: 0 0 0 0;\n",
              "      width: 32px;\n",
              "    }\n",
              "\n",
              "    .colab-df-convert:hover {\n",
              "      background-color: #E2EBFA;\n",
              "      box-shadow: 0px 1px 2px rgba(60, 64, 67, 0.3), 0px 1px 3px 1px rgba(60, 64, 67, 0.15);\n",
              "      fill: #174EA6;\n",
              "    }\n",
              "\n",
              "    .colab-df-buttons div {\n",
              "      margin-bottom: 4px;\n",
              "    }\n",
              "\n",
              "    [theme=dark] .colab-df-convert {\n",
              "      background-color: #3B4455;\n",
              "      fill: #D2E3FC;\n",
              "    }\n",
              "\n",
              "    [theme=dark] .colab-df-convert:hover {\n",
              "      background-color: #434B5C;\n",
              "      box-shadow: 0px 1px 3px 1px rgba(0, 0, 0, 0.15);\n",
              "      filter: drop-shadow(0px 1px 2px rgba(0, 0, 0, 0.3));\n",
              "      fill: #FFFFFF;\n",
              "    }\n",
              "  </style>\n",
              "\n",
              "    <script>\n",
              "      const buttonEl =\n",
              "        document.querySelector('#df-dda831b1-9e39-40ff-8c10-2c50475440ed button.colab-df-convert');\n",
              "      buttonEl.style.display =\n",
              "        google.colab.kernel.accessAllowed ? 'block' : 'none';\n",
              "\n",
              "      async function convertToInteractive(key) {\n",
              "        const element = document.querySelector('#df-dda831b1-9e39-40ff-8c10-2c50475440ed');\n",
              "        const dataTable =\n",
              "          await google.colab.kernel.invokeFunction('convertToInteractive',\n",
              "                                                    [key], {});\n",
              "        if (!dataTable) return;\n",
              "\n",
              "        const docLinkHtml = 'Like what you see? Visit the ' +\n",
              "          '<a target=\"_blank\" href=https://colab.research.google.com/notebooks/data_table.ipynb>data table notebook</a>'\n",
              "          + ' to learn more about interactive tables.';\n",
              "        element.innerHTML = '';\n",
              "        dataTable['output_type'] = 'display_data';\n",
              "        await google.colab.output.renderOutput(dataTable, element);\n",
              "        const docLink = document.createElement('div');\n",
              "        docLink.innerHTML = docLinkHtml;\n",
              "        element.appendChild(docLink);\n",
              "      }\n",
              "    </script>\n",
              "  </div>\n",
              "\n",
              "\n",
              "<div id=\"df-aee3ed43-fdb0-4d5f-8af0-d69ee98b10a8\">\n",
              "  <button class=\"colab-df-quickchart\" onclick=\"quickchart('df-aee3ed43-fdb0-4d5f-8af0-d69ee98b10a8')\"\n",
              "            title=\"Suggest charts\"\n",
              "            style=\"display:none;\">\n",
              "\n",
              "<svg xmlns=\"http://www.w3.org/2000/svg\" height=\"24px\"viewBox=\"0 0 24 24\"\n",
              "     width=\"24px\">\n",
              "    <g>\n",
              "        <path d=\"M19 3H5c-1.1 0-2 .9-2 2v14c0 1.1.9 2 2 2h14c1.1 0 2-.9 2-2V5c0-1.1-.9-2-2-2zM9 17H7v-7h2v7zm4 0h-2V7h2v10zm4 0h-2v-4h2v4z\"/>\n",
              "    </g>\n",
              "</svg>\n",
              "  </button>\n",
              "\n",
              "<style>\n",
              "  .colab-df-quickchart {\n",
              "      --bg-color: #E8F0FE;\n",
              "      --fill-color: #1967D2;\n",
              "      --hover-bg-color: #E2EBFA;\n",
              "      --hover-fill-color: #174EA6;\n",
              "      --disabled-fill-color: #AAA;\n",
              "      --disabled-bg-color: #DDD;\n",
              "  }\n",
              "\n",
              "  [theme=dark] .colab-df-quickchart {\n",
              "      --bg-color: #3B4455;\n",
              "      --fill-color: #D2E3FC;\n",
              "      --hover-bg-color: #434B5C;\n",
              "      --hover-fill-color: #FFFFFF;\n",
              "      --disabled-bg-color: #3B4455;\n",
              "      --disabled-fill-color: #666;\n",
              "  }\n",
              "\n",
              "  .colab-df-quickchart {\n",
              "    background-color: var(--bg-color);\n",
              "    border: none;\n",
              "    border-radius: 50%;\n",
              "    cursor: pointer;\n",
              "    display: none;\n",
              "    fill: var(--fill-color);\n",
              "    height: 32px;\n",
              "    padding: 0;\n",
              "    width: 32px;\n",
              "  }\n",
              "\n",
              "  .colab-df-quickchart:hover {\n",
              "    background-color: var(--hover-bg-color);\n",
              "    box-shadow: 0 1px 2px rgba(60, 64, 67, 0.3), 0 1px 3px 1px rgba(60, 64, 67, 0.15);\n",
              "    fill: var(--button-hover-fill-color);\n",
              "  }\n",
              "\n",
              "  .colab-df-quickchart-complete:disabled,\n",
              "  .colab-df-quickchart-complete:disabled:hover {\n",
              "    background-color: var(--disabled-bg-color);\n",
              "    fill: var(--disabled-fill-color);\n",
              "    box-shadow: none;\n",
              "  }\n",
              "\n",
              "  .colab-df-spinner {\n",
              "    border: 2px solid var(--fill-color);\n",
              "    border-color: transparent;\n",
              "    border-bottom-color: var(--fill-color);\n",
              "    animation:\n",
              "      spin 1s steps(1) infinite;\n",
              "  }\n",
              "\n",
              "  @keyframes spin {\n",
              "    0% {\n",
              "      border-color: transparent;\n",
              "      border-bottom-color: var(--fill-color);\n",
              "      border-left-color: var(--fill-color);\n",
              "    }\n",
              "    20% {\n",
              "      border-color: transparent;\n",
              "      border-left-color: var(--fill-color);\n",
              "      border-top-color: var(--fill-color);\n",
              "    }\n",
              "    30% {\n",
              "      border-color: transparent;\n",
              "      border-left-color: var(--fill-color);\n",
              "      border-top-color: var(--fill-color);\n",
              "      border-right-color: var(--fill-color);\n",
              "    }\n",
              "    40% {\n",
              "      border-color: transparent;\n",
              "      border-right-color: var(--fill-color);\n",
              "      border-top-color: var(--fill-color);\n",
              "    }\n",
              "    60% {\n",
              "      border-color: transparent;\n",
              "      border-right-color: var(--fill-color);\n",
              "    }\n",
              "    80% {\n",
              "      border-color: transparent;\n",
              "      border-right-color: var(--fill-color);\n",
              "      border-bottom-color: var(--fill-color);\n",
              "    }\n",
              "    90% {\n",
              "      border-color: transparent;\n",
              "      border-bottom-color: var(--fill-color);\n",
              "    }\n",
              "  }\n",
              "</style>\n",
              "\n",
              "  <script>\n",
              "    async function quickchart(key) {\n",
              "      const quickchartButtonEl =\n",
              "        document.querySelector('#' + key + ' button');\n",
              "      quickchartButtonEl.disabled = true;  // To prevent multiple clicks.\n",
              "      quickchartButtonEl.classList.add('colab-df-spinner');\n",
              "      try {\n",
              "        const charts = await google.colab.kernel.invokeFunction(\n",
              "            'suggestCharts', [key], {});\n",
              "      } catch (error) {\n",
              "        console.error('Error during call to suggestCharts:', error);\n",
              "      }\n",
              "      quickchartButtonEl.classList.remove('colab-df-spinner');\n",
              "      quickchartButtonEl.classList.add('colab-df-quickchart-complete');\n",
              "    }\n",
              "    (() => {\n",
              "      let quickchartButtonEl =\n",
              "        document.querySelector('#df-aee3ed43-fdb0-4d5f-8af0-d69ee98b10a8 button');\n",
              "      quickchartButtonEl.style.display =\n",
              "        google.colab.kernel.accessAllowed ? 'block' : 'none';\n",
              "    })();\n",
              "  </script>\n",
              "</div>\n",
              "\n",
              "    </div>\n",
              "  </div>\n"
            ],
            "application/vnd.google.colaboratory.intrinsic+json": {
              "type": "dataframe",
              "variable_name": "df",
              "summary": "{\n  \"name\": \"df\",\n  \"rows\": 2956,\n  \"fields\": [\n    {\n      \"column\": \"input\",\n      \"properties\": {\n        \"dtype\": \"object\",\n        \"num_unique_values\": 1,\n        \"samples\": [\n          \"\"\n        ],\n        \"semantic_type\": \"\",\n        \"description\": \"\"\n      }\n    },\n    {\n      \"column\": \"text\",\n      \"properties\": {\n        \"dtype\": \"category\",\n        \"num_unique_values\": 1,\n        \"samples\": [\n          \"Here is a classification that determines whether a given text is considered cyberbullying or not; and if so, which kind. \"\n        ],\n        \"semantic_type\": \"\",\n        \"description\": \"\"\n      }\n    },\n    {\n      \"column\": \"instruction\",\n      \"properties\": {\n        \"dtype\": \"string\",\n        \"num_unique_values\": 2950,\n        \"samples\": [\n          \"Krazy-eyes Kat needs a kick in the ku... #MKR #mkr2015\"\n        ],\n        \"semantic_type\": \"\",\n        \"description\": \"\"\n      }\n    },\n    {\n      \"column\": \"output\",\n      \"properties\": {\n        \"dtype\": \"category\",\n        \"num_unique_values\": 6,\n        \"samples\": [\n          \"not_cyberbullying\"\n        ],\n        \"semantic_type\": \"\",\n        \"description\": \"\"\n      }\n    }\n  ]\n}"
            }
          },
          "metadata": {},
          "execution_count": 6
        }
      ],
      "source": [
        "df.head()"
      ]
    },
    {
      "cell_type": "code",
      "execution_count": null,
      "metadata": {
        "id": "qkiAi8s7z7gc"
      },
      "outputs": [],
      "source": [
        "def drop_columns(df, columns):\n",
        "    return df.drop(columns=columns, inplace=False)\n",
        "\n",
        "columns_to_drop = ['input', 'text']\n",
        "df = drop_columns(df, columns_to_drop)"
      ]
    },
    {
      "cell_type": "code",
      "execution_count": null,
      "metadata": {
        "colab": {
          "base_uri": "https://localhost:8080/"
        },
        "id": "6egZ8rcF0AWQ",
        "outputId": "25f18548-b53f-4df3-fbdd-9319353deac4"
      },
      "outputs": [
        {
          "output_type": "execute_result",
          "data": {
            "text/plain": [
              "output\n",
              "gender                 612\n",
              "religion               562\n",
              "other_cyberbullying    483\n",
              "not_cyberbullying      434\n",
              "age                    433\n",
              "ethnicity              432\n",
              "Name: count, dtype: int64"
            ]
          },
          "metadata": {},
          "execution_count": 8
        }
      ],
      "source": [
        "df['output'].value_counts()"
      ]
    },
    {
      "cell_type": "code",
      "execution_count": null,
      "metadata": {
        "colab": {
          "base_uri": "https://localhost:8080/"
        },
        "id": "PMVPp9DB0C5B",
        "outputId": "ed8575f9-597d-4dad-85ed-6b7be219537b"
      },
      "outputs": [
        {
          "output_type": "stream",
          "name": "stderr",
          "text": [
            "[nltk_data] Downloading package punkt to /root/nltk_data...\n",
            "[nltk_data]   Unzipping tokenizers/punkt.zip.\n",
            "[nltk_data] Downloading package stopwords to /root/nltk_data...\n",
            "[nltk_data]   Unzipping corpora/stopwords.zip.\n",
            "[nltk_data] Downloading package wordnet to /root/nltk_data...\n"
          ]
        },
        {
          "output_type": "execute_result",
          "data": {
            "text/plain": [
              "True"
            ]
          },
          "metadata": {},
          "execution_count": 9
        }
      ],
      "source": [
        "import re\n",
        "import string\n",
        "import nltk\n",
        "from nltk.tokenize import word_tokenize\n",
        "from nltk.corpus import stopwords\n",
        "\n",
        "# Download NLTK resources\n",
        "nltk.download('punkt')\n",
        "nltk.download('stopwords')\n",
        "nltk.download('wordnet')"
      ]
    },
    {
      "cell_type": "code",
      "execution_count": null,
      "metadata": {
        "id": "hsmIiDhb0GBX"
      },
      "outputs": [],
      "source": [
        "# Assign values to cyberbullying types\n",
        "cyberbullying_type_mapping = {\n",
        "    \"age\": 1,\n",
        "    \"ethnicity\": 2,\n",
        "    \"gender\": 3,\n",
        "    \"not_cyberbullying\": 4,\n",
        "    \"other_cyberbullying\": 5,\n",
        "    \"religion\": 6\n",
        "}\n",
        "df['output'] = df['output'].map(cyberbullying_type_mapping)"
      ]
    },
    {
      "cell_type": "code",
      "execution_count": null,
      "metadata": {
        "colab": {
          "base_uri": "https://localhost:8080/"
        },
        "id": "FKE6n99A0L45",
        "outputId": "856f1238-b756-4357-c5c7-2c1b4f3108de"
      },
      "outputs": [
        {
          "output_type": "stream",
          "name": "stdout",
          "text": [
            "                                         instruction  output\n",
            "0                            words food crapilicious       4\n",
            "1                            words food crapilicious       4\n",
            "2                                              white       4\n",
            "3                   classy whore red velvet cupcakes       4\n",
            "4  meh p thanks heads concerned another angry dud...       4\n"
          ]
        }
      ],
      "source": [
        "\n",
        "def preprocess_text(text):\n",
        "\n",
        "    # Lowercasing\n",
        "    text = text.lower()\n",
        "\n",
        "    # Replace links with 'link'\n",
        "    text = re.sub(r'http\\S+|www\\S+', 'link', text)\n",
        "\n",
        "    # Remove mentions (words starting with @)\n",
        "    text = re.sub(r'@\\w+', '', text)\n",
        "\n",
        "    #remove hashtags\n",
        "    text = re.sub(r'#\\w+', '', text)\n",
        "\n",
        "    #remove emoticons\n",
        "    text = re.sub(r'(?::|;|=)(?:-)?(?:\\)|\\(|D|P)', '', text)\n",
        "\n",
        "    # Tokenization\n",
        "    tokens = word_tokenize(text)\n",
        "\n",
        "    # Removing Punctuation and Special Characters\n",
        "    tokens = [word for word in tokens if word.isalnum()]\n",
        "\n",
        "    # Removing Stopwords\n",
        "    stop_words = set(stopwords.words('english'))\n",
        "    tokens = [word for word in tokens if word not in stop_words]\n",
        "\n",
        "    # Join tokens back into a single string\n",
        "    preprocessed_text = ' '.join(tokens)\n",
        "\n",
        "    return preprocessed_text\n",
        "\n",
        "# Applying text preprocessing to the 'instruction' column in the DataFrame\n",
        "df['instruction'] = df['instruction'].apply(preprocess_text)\n",
        "\n",
        "# Function to remove extra whitespaces from text\n",
        "def remove_extra_whitespaces(text):\n",
        "    return ' '.join(text.strip().split())\n",
        "\n",
        "df['instruction'] = df['instruction'].apply(remove_extra_whitespaces)\n",
        "print(df.head())"
      ]
    },
    {
      "cell_type": "code",
      "execution_count": null,
      "metadata": {
        "id": "1Uq10Jkm0-IF",
        "colab": {
          "base_uri": "https://localhost:8080/"
        },
        "outputId": "8e501860-3527-486d-cf6a-4bfe703bfa8f"
      },
      "outputs": [
        {
          "output_type": "stream",
          "name": "stdout",
          "text": [
            "                                         instruction  \\\n",
            "0                            words food crapilicious   \n",
            "1                            words food crapilicious   \n",
            "2                                              white   \n",
            "3                   classy whore red velvet cupcakes   \n",
            "4  meh p thanks heads concerned another angry dud...   \n",
            "\n",
            "                                              tokens  \n",
            "0                        [words, food, crapilicious]  \n",
            "1                        [words, food, crapilicious]  \n",
            "2                                            [white]  \n",
            "3             [classy, whore, red, velvet, cupcakes]  \n",
            "4  [meh, p, thanks, heads, concerned, another, an...  \n"
          ]
        }
      ],
      "source": [
        "\n",
        "#Tokenize data\n",
        "from nltk.tokenize import word_tokenize\n",
        "\n",
        "df['tokens'] = df['instruction'].apply(word_tokenize)\n",
        "\n",
        "# Display the DataFrame with tokenized text\n",
        "print(df[['instruction', 'tokens']].head())"
      ]
    },
    {
      "cell_type": "code",
      "execution_count": null,
      "metadata": {
        "id": "e8d8C86x1GJO",
        "colab": {
          "base_uri": "https://localhost:8080/"
        },
        "outputId": "684513d2-3eb5-48ae-ac11-80ad88c1e41d"
      },
      "outputs": [
        {
          "output_type": "stream",
          "name": "stderr",
          "text": [
            "[nltk_data] Downloading package stopwords to /root/nltk_data...\n",
            "[nltk_data]   Package stopwords is already up-to-date!\n"
          ]
        }
      ],
      "source": [
        "# NLTK stopwords\n",
        "nltk.download('stopwords')\n",
        "stop_words = set(stopwords.words('english'))\n",
        "# Function to remove stopwords\n",
        "def remove_stopwords(text):\n",
        "    return ' '.join(word for word in text.split() if word.lower() not in stop_words)\n",
        "\n",
        "df['instruction'] = df['instruction'].apply(remove_stopwords)"
      ]
    },
    {
      "cell_type": "code",
      "execution_count": null,
      "metadata": {
        "id": "FtRuhsy91Qp8",
        "colab": {
          "base_uri": "https://localhost:8080/"
        },
        "outputId": "c66cf9d4-f98e-4959-8604-67dc0e583887"
      },
      "outputs": [
        {
          "output_type": "execute_result",
          "data": {
            "text/plain": [
              "0                                 words food crapilicious\n",
              "1                                 words food crapilicious\n",
              "2                                                   white\n",
              "3                        classy whore red velvet cupcakes\n",
              "4       meh p thanks heads concerned another angry dud...\n",
              "                              ...                        \n",
              "2951    u tell ppl ok someone ridiculed ur race cuz so...\n",
              "2952    right battle dumb fuck cuz whites see nigger e...\n",
              "2953                    mad rt fuck obama dumb ass nigger\n",
              "2954    fuck dumb nigger would never stand fuckin show...\n",
              "2955    pussy ass bitch dumb muthafuker like fuck u ni...\n",
              "Name: instruction, Length: 2956, dtype: object"
            ]
          },
          "metadata": {},
          "execution_count": 14
        }
      ],
      "source": [
        "df['instruction']"
      ]
    },
    {
      "cell_type": "code",
      "source": [
        "#Split in train, test and validation\n",
        "from sklearn.model_selection import train_test_split\n",
        "\n",
        "# Split data into train and test sets (80% train, 20% test)\n",
        "train_df, test_df = train_test_split(df, test_size=0.2, random_state=42)\n",
        "\n",
        "#Making x_train and y_train columns\n",
        "X_train = train_df['instruction']\n",
        "y_train = train_df['output']\n",
        "\n",
        "#Making y_test columns\n",
        "X_test = test_df['instruction']\n",
        "y_test = test_df['output']"
      ],
      "metadata": {
        "id": "eHyk9HLJWuTc"
      },
      "execution_count": null,
      "outputs": []
    },
    {
      "cell_type": "code",
      "source": [
        "# Add new columns to main DataFrame for X_train, y_train, X_test, and y_test\n",
        "df['X_train'] = X_train\n",
        "df['y_train'] = y_train\n",
        "df['X_test'] = X_test\n",
        "df['y_test'] = y_test\n",
        "\n",
        "# Save the modified DataFrame to a CSV file\n",
        "df.to_csv('main_data_with_splits.csv', index=False)\n"
      ],
      "metadata": {
        "id": "ehw4lRtsSWvM"
      },
      "execution_count": null,
      "outputs": []
    },
    {
      "cell_type": "code",
      "source": [
        "!pip install gensim"
      ],
      "metadata": {
        "colab": {
          "base_uri": "https://localhost:8080/"
        },
        "id": "kOlQ3n_GYFIk",
        "outputId": "5f9f34e1-461c-467e-eeea-dcfa6afcbe10"
      },
      "execution_count": null,
      "outputs": [
        {
          "output_type": "stream",
          "name": "stdout",
          "text": [
            "Requirement already satisfied: gensim in /usr/local/lib/python3.10/dist-packages (4.3.2)\n",
            "Requirement already satisfied: numpy>=1.18.5 in /usr/local/lib/python3.10/dist-packages (from gensim) (1.25.2)\n",
            "Requirement already satisfied: scipy>=1.7.0 in /usr/local/lib/python3.10/dist-packages (from gensim) (1.11.4)\n",
            "Requirement already satisfied: smart-open>=1.8.1 in /usr/local/lib/python3.10/dist-packages (from gensim) (6.4.0)\n"
          ]
        }
      ]
    },
    {
      "cell_type": "code",
      "source": [
        "from gensim.models import Word2Vec\n",
        "from nltk.tokenize import word_tokenize\n",
        "import pandas as pd"
      ],
      "metadata": {
        "id": "0KfvgB60XDxx"
      },
      "execution_count": null,
      "outputs": []
    },
    {
      "cell_type": "code",
      "source": [
        "# Tokenize the sentences in the 'instruction' column\n",
        "tokenized_instructions = [word_tokenize(sentence.lower()) for sentence in df['instruction']]\n",
        "\n",
        "# Train Word2Vec model\n",
        "model = Word2Vec(sentences=tokenized_instructions, vector_size=100, window=5, min_count=1, workers=4)\n",
        "\n",
        "# Example: Get vector representation for the word 'document'\n",
        "word = 'funny'\n",
        "if word in model.wv:\n",
        "    vector_representation = model.wv[word]\n",
        "    print(f\"Vector Representation for '{word}': {vector_representation}\")\n",
        "else:\n",
        "    print(f\"Word '{word}' is not present in the vocabulary.\")"
      ],
      "metadata": {
        "colab": {
          "base_uri": "https://localhost:8080/"
        },
        "id": "i8yRvYJBXHJ7",
        "outputId": "47bbf5ae-d110-48b3-8c06-578f142943ad"
      },
      "execution_count": null,
      "outputs": [
        {
          "output_type": "stream",
          "name": "stdout",
          "text": [
            "Vector Representation for 'funny': [-0.03751611  0.06452203 -0.02186869  0.00585577  0.05335483 -0.21411765\n",
            "  0.04922131  0.2578973  -0.08609331 -0.06855959 -0.06158377 -0.18535167\n",
            " -0.04983553  0.06307922  0.03210637 -0.07114465 -0.00731555 -0.08967033\n",
            "  0.02096597 -0.25634673  0.08709929  0.08608868  0.06220416 -0.07909789\n",
            "  0.02961295 -0.01879383 -0.07316502 -0.07874826 -0.1336306  -0.00218034\n",
            "  0.16122015  0.05447409  0.05388979 -0.12111138 -0.04750177  0.13774405\n",
            "  0.01788874 -0.10989689 -0.05186755 -0.2506227   0.00872856 -0.13900103\n",
            " -0.05736784 -0.02622901  0.14907835  0.00132204 -0.10551232 -0.03239736\n",
            "  0.05475273  0.09145422  0.08250487 -0.1316005  -0.07896489 -0.02421799\n",
            " -0.08260739  0.06598065 -0.01502464 -0.0277908  -0.1303557   0.02447626\n",
            "  0.09821928  0.06734305 -0.04075884  0.00588388 -0.11809616  0.15566872\n",
            "  0.02177693  0.06047384 -0.13622284  0.18504404 -0.11642493  0.08963665\n",
            "  0.15351424 -0.05166678  0.17727341  0.06077969  0.0134224  -0.01922006\n",
            " -0.04898158  0.04819415 -0.05927108 -0.05775158 -0.189476    0.14568135\n",
            " -0.06700914 -0.03932189  0.03704848  0.12859076  0.13261129  0.06528275\n",
            "  0.11834134  0.052696    0.06169314  0.03894882  0.21052904  0.09828722\n",
            "  0.09883983 -0.08842632 -0.01233408 -0.01976905]\n"
          ]
        }
      ]
    },
    {
      "cell_type": "code",
      "source": [
        "# Tokenize the documents (test data)\n",
        "tokenized_documents = [word_tokenize(sentence.lower()) for sentence in test_df['instruction']]\n",
        "\n",
        "# Train Word2Vec model\n",
        "model = Word2Vec(sentences=tokenized_documents, vector_size=100, window=5, min_count=1, workers=4)\n",
        "\n",
        "# Example: Get vector representation for the word 'document'\n",
        "vector_representation = model.wv['funny']\n",
        "print(\"Vector Representation for 'document':\", vector_representation)"
      ],
      "metadata": {
        "colab": {
          "base_uri": "https://localhost:8080/"
        },
        "id": "n7QIRO4CiDK1",
        "outputId": "9602685d-2f61-46ff-84c7-561d5a719896"
      },
      "execution_count": null,
      "outputs": [
        {
          "output_type": "stream",
          "name": "stdout",
          "text": [
            "Vector Representation for 'document': [ 5.5988291e-03 -5.1964680e-03  8.0693308e-03  6.6305045e-03\n",
            " -7.1736057e-03 -9.3747312e-03 -6.2638875e-03 -5.8589205e-03\n",
            "  7.2525167e-03  3.2825251e-03 -9.6451994e-03 -6.9406861e-04\n",
            " -9.6254284e-03 -4.2355978e-03 -3.4052413e-03  9.4269559e-04\n",
            "  4.8786765e-03 -6.5500853e-03  1.1262280e-03 -5.0327796e-03\n",
            "  2.5653387e-03  2.2930715e-03 -1.4162185e-03  7.3727448e-03\n",
            "  6.2394231e-03  4.1047228e-03  4.8389887e-03  2.6239892e-03\n",
            " -2.9911424e-03  5.0245770e-03 -1.0800774e-03 -2.3107708e-03\n",
            "  3.6596865e-03  9.1353366e-03 -5.0258526e-04  2.8666120e-03\n",
            " -9.2095984e-03 -5.3261491e-03 -4.1585234e-03 -1.0268232e-02\n",
            "  9.9928817e-03 -8.2253357e-03 -7.3876730e-03 -6.1279340e-03\n",
            "  3.1728437e-03  4.7464953e-03 -4.3718121e-03  6.2713488e-03\n",
            " -7.9288511e-05  9.0606278e-03 -2.8761432e-03  2.2330473e-03\n",
            "  5.9018251e-03 -4.2238641e-03 -3.1818827e-03  7.1901623e-03\n",
            " -2.4823246e-03  8.9776991e-03 -2.3066974e-03  4.0544672e-03\n",
            " -4.2728200e-03 -8.4045958e-03  3.4808961e-04 -1.9126157e-03\n",
            "  4.5174564e-04 -4.4245338e-03  9.5461924e-03  9.3357610e-03\n",
            "  7.4552945e-03  7.1138539e-03  3.6539678e-03 -8.2767345e-03\n",
            "  8.3058579e-03  2.0754316e-03 -4.9328185e-03  9.9693891e-03\n",
            "  9.8830964e-03  2.9407584e-04 -3.7905548e-03  7.9855435e-03\n",
            " -7.0608952e-03  6.1957347e-03  8.8365553e-03  3.0031279e-04\n",
            " -8.9069707e-03 -1.2110996e-03  5.0410531e-03 -6.3265464e-03\n",
            " -7.8697503e-03 -2.7516813e-03  6.2353921e-04 -6.0579707e-03\n",
            "  2.3842300e-03  7.1451338e-03 -7.7064219e-03  2.5771623e-03\n",
            "  1.6017311e-03  8.1726266e-03 -8.9494549e-03 -1.8307258e-03]\n"
          ]
        }
      ]
    },
    {
      "cell_type": "code",
      "source": [
        "from gensim.models import Word2Vec\n",
        "from nltk.tokenize import word_tokenize\n",
        "from sklearn.linear_model import LogisticRegression\n",
        "from sklearn.svm import SVC\n",
        "from sklearn.neural_network import MLPClassifier\n",
        "from sklearn.metrics import accuracy_score, precision_score, recall_score, f1_score\n",
        "from keras.models import Sequential\n",
        "from keras.layers import Embedding, LSTM, Dense\n",
        "from keras.preprocessing.text import Tokenizer\n",
        "from keras.preprocessing.sequence import pad_sequences\n",
        "import pandas as pd\n"
      ],
      "metadata": {
        "id": "PAnLrr7DXLQ2"
      },
      "execution_count": null,
      "outputs": []
    },
    {
      "cell_type": "code",
      "source": [
        "# Tokenize the documents\n",
        "tokenized_train_documents = [word_tokenize(sentence.lower()) for sentence in X_train]\n",
        "tokenized_test_documents = [word_tokenize(sentence.lower()) for sentence in X_test]\n",
        "\n",
        "# Train Word2Vec model\n",
        "word2vec_model = Word2Vec(sentences=tokenized_train_documents, vector_size=100, window=5, min_count=1, workers=4)\n",
        "\n",
        "# Get Word2Vec embeddings for each document in train and test sets\n",
        "X_train_word2vec = [[word2vec_model.wv[token] for token in tokens if token in word2vec_model.wv.key_to_index] for tokens in tokenized_train_documents]\n",
        "X_test_word2vec = [[word2vec_model.wv[token] for token in tokens if token in word2vec_model.wv.key_to_index] for tokens in tokenized_test_documents]\n",
        "\n",
        "# Average Word2Vec embeddings for each document\n",
        "X_train_word2vec = [sum(embeddings) / len(embeddings) if embeddings else [0] * 100 for embeddings in X_train_word2vec]\n",
        "X_test_word2vec = [sum(embeddings) / len(embeddings) if embeddings else [0] * 100 for embeddings in X_test_word2vec]"
      ],
      "metadata": {
        "id": "SOZXFLVGhmsm"
      },
      "execution_count": null,
      "outputs": []
    },
    {
      "cell_type": "code",
      "source": [
        "# Logistic Regression\n",
        "logistic_regression = LogisticRegression(max_iter=1000)\n",
        "logistic_regression.fit(X_train_word2vec, y_train)\n",
        "logistic_regression_predictions_train = logistic_regression.predict(X_train_word2vec)\n",
        "\n",
        "# Evaluation\n",
        "logistic_regression_accuracy_train = accuracy_score(y_train, logistic_regression_predictions_train)\n",
        "logistic_regression_precision_train = precision_score(y_train, logistic_regression_predictions_train, average='weighted')\n",
        "logistic_regression_recall_train = recall_score(y_train, logistic_regression_predictions_train, average='weighted')\n",
        "logistic_regression_f1_train = f1_score(y_train, logistic_regression_predictions_train, average='weighted')\n",
        "\n",
        "print(\"Logistic Regression Scores (Training Set):\")\n",
        "print(\"Accuracy:\", logistic_regression_accuracy_train)\n",
        "print(\"Precision:\", logistic_regression_precision_train)\n",
        "print(\"Recall:\", logistic_regression_recall_train)\n",
        "print(\"F1-Score:\", logistic_regression_f1_train)\n",
        "print()"
      ],
      "metadata": {
        "colab": {
          "base_uri": "https://localhost:8080/"
        },
        "id": "WOtuPiQzmktr",
        "outputId": "788a59f4-478d-4537-99e2-c0ae143acb0f"
      },
      "execution_count": null,
      "outputs": [
        {
          "output_type": "stream",
          "name": "stdout",
          "text": [
            "Logistic Regression Scores (Training Set):\n",
            "Accuracy: 0.3460236886632826\n",
            "Precision: 0.4164422897194835\n",
            "Recall: 0.3460236886632826\n",
            "F1-Score: 0.337519172883348\n",
            "\n"
          ]
        }
      ]
    },
    {
      "cell_type": "code",
      "source": [
        "# Logistic Regression\n",
        "logistic_regression = LogisticRegression(max_iter=1000)\n",
        "logistic_regression.fit(X_test_word2vec, y_test)\n",
        "logistic_regression_predictions_test = logistic_regression.predict(X_test_word2vec)\n",
        "\n",
        "# Evaluation\n",
        "logistic_regression_accuracy_test = accuracy_score(y_test, logistic_regression_predictions_test)\n",
        "logistic_regression_precision_test = precision_score(y_test, logistic_regression_predictions_test, average='weighted')\n",
        "logistic_regression_recall_test = recall_score(y_test, logistic_regression_predictions_test, average='weighted')\n",
        "logistic_regression_f1_test = f1_score(y_test, logistic_regression_predictions_test, average='weighted')\n",
        "\n",
        "print(\"Logistic Regression Scores (Test Set):\")\n",
        "print(\"Accuracy:\", logistic_regression_accuracy_test)\n",
        "print(\"Precision:\", logistic_regression_precision_test)\n",
        "print(\"Recall:\", logistic_regression_recall_test)\n",
        "print(\"F1-Score:\", logistic_regression_f1_test)\n",
        "print()"
      ],
      "metadata": {
        "colab": {
          "base_uri": "https://localhost:8080/"
        },
        "id": "UA1bwTg5mysZ",
        "outputId": "e62d693a-9481-4aae-d9a5-e1fae8ee88b4"
      },
      "execution_count": null,
      "outputs": [
        {
          "output_type": "stream",
          "name": "stdout",
          "text": [
            "Logistic Regression Scores (Test Set):\n",
            "Accuracy: 0.3125\n",
            "Precision: 0.3894417414342569\n",
            "Recall: 0.3125\n",
            "F1-Score: 0.25287389791303005\n",
            "\n"
          ]
        },
        {
          "output_type": "stream",
          "name": "stderr",
          "text": [
            "/usr/local/lib/python3.10/dist-packages/sklearn/metrics/_classification.py:1344: UndefinedMetricWarning: Precision is ill-defined and being set to 0.0 in labels with no predicted samples. Use `zero_division` parameter to control this behavior.\n",
            "  _warn_prf(average, modifier, msg_start, len(result))\n"
          ]
        }
      ]
    },
    {
      "cell_type": "code",
      "source": [
        "# Support Vector Machine (SVM)\n",
        "svm = SVC()\n",
        "svm.fit(X_train_word2vec, y_train)\n",
        "svm_predictions_train = svm.predict(X_train_word2vec)\n",
        "\n",
        "# Evaluation\n",
        "svm_accuracy_train = accuracy_score(y_train, svm_predictions_train)\n",
        "svm_precision_train = precision_score(y_train, svm_predictions_train, average='weighted')\n",
        "svm_recall_train = recall_score(y_train, svm_predictions_train, average='weighted')\n",
        "svm_f1_train = f1_score(y_train, svm_predictions_train, average='weighted')\n",
        "\n",
        "print(\"SVM Scores (Training Set):\")\n",
        "print(\"Accuracy:\", svm_accuracy_train)\n",
        "print(\"Precision:\", svm_precision_train)\n",
        "print(\"Recall:\", svm_recall_train)\n",
        "print(\"F1-Score:\", svm_f1_train)\n",
        "print()\n",
        "\n",
        "# Support Vector Machine (SVM)\n",
        "svm = SVC()\n",
        "svm.fit(X_test_word2vec, y_test)\n",
        "svm_predictions_test = svm.predict(X_test_word2vec)\n",
        "\n",
        "# Evaluation\n",
        "svm_accuracy_test = accuracy_score(y_test, svm_predictions_test)\n",
        "svm_precision_test = precision_score(y_test, svm_predictions_test, average='weighted')\n",
        "svm_recall_test = recall_score(y_test, svm_predictions_test, average='weighted')\n",
        "svm_f1_test = f1_score(y_test, svm_predictions_test, average='weighted')\n",
        "\n",
        "print(\"SVM Scores (Test Set):\")\n",
        "print(\"Accuracy:\", svm_accuracy_test)\n",
        "print(\"Precision:\", svm_precision_test)\n",
        "print(\"Recall:\", svm_recall_test)\n",
        "print(\"F1-Score:\", svm_f1_test)\n",
        "print()"
      ],
      "metadata": {
        "colab": {
          "base_uri": "https://localhost:8080/"
        },
        "id": "UUiwNIRDoDFz",
        "outputId": "4ba03c5e-4eba-4e27-84e5-52b4f56f4dec"
      },
      "execution_count": null,
      "outputs": [
        {
          "output_type": "stream",
          "name": "stdout",
          "text": [
            "SVM Scores (Training Set):\n",
            "Accuracy: 0.4750423011844332\n",
            "Precision: 0.5615544007269011\n",
            "Recall: 0.4750423011844332\n",
            "F1-Score: 0.4851461304573575\n",
            "\n",
            "SVM Scores (Test Set):\n",
            "Accuracy: 0.38344594594594594\n",
            "Precision: 0.4232841653702801\n",
            "Recall: 0.38344594594594594\n",
            "F1-Score: 0.34894155570692126\n",
            "\n"
          ]
        },
        {
          "output_type": "stream",
          "name": "stderr",
          "text": [
            "/usr/local/lib/python3.10/dist-packages/sklearn/metrics/_classification.py:1344: UndefinedMetricWarning: Precision is ill-defined and being set to 0.0 in labels with no predicted samples. Use `zero_division` parameter to control this behavior.\n",
            "  _warn_prf(average, modifier, msg_start, len(result))\n"
          ]
        }
      ]
    },
    {
      "cell_type": "code",
      "source": [
        "# Neural Network\n",
        "nn_model = MLPClassifier(hidden_layer_sizes=(100,), max_iter=1000)\n",
        "nn_model.fit(X_train_word2vec, y_train)\n",
        "nn_predictions_train = nn_model.predict(X_train_word2vec)\n",
        "\n",
        "# Evaluation\n",
        "nn_accuracy_train = accuracy_score(y_train, nn_predictions_train)\n",
        "nn_precision_train = precision_score(y_train, nn_predictions_train, average='weighted')\n",
        "nn_recall_train = recall_score(y_train, nn_predictions_train, average='weighted')\n",
        "nn_f1_train = f1_score(y_train, nn_predictions_train, average='weighted')\n",
        "\n",
        "print(\"Neural Network Scores (Training Set):\")\n",
        "print(\"Accuracy:\", nn_accuracy_train)\n",
        "print(\"Precision:\", nn_precision_train)\n",
        "print(\"Recall:\", nn_recall_train)\n",
        "print(\"F1-Score:\", nn_f1_train)\n",
        "print()\n",
        "\n",
        "# Neural Network\n",
        "nn_model = MLPClassifier(hidden_layer_sizes=(100,), max_iter=1000)\n",
        "nn_model.fit(X_test_word2vec, y_test)\n",
        "nn_predictions_test = nn_model.predict(X_test_word2vec)\n",
        "\n",
        "# Evaluation\n",
        "nn_accuracy_test = accuracy_score(y_test, nn_predictions_test)\n",
        "nn_precision_test = precision_score(y_test, nn_predictions_test, average='weighted')\n",
        "nn_recall_test = recall_score(y_test, nn_predictions_test, average='weighted')\n",
        "nn_f1_test = f1_score(y_test, nn_predictions_test, average='weighted')\n",
        "\n",
        "print(\"Neural Network Scores (Test Set):\")\n",
        "print(\"Accuracy:\", nn_accuracy_test)\n",
        "print(\"Precision:\", nn_precision_test)\n",
        "print(\"Recall:\", nn_recall_test)\n",
        "print(\"F1-Score:\", nn_f1_test)\n",
        "print()"
      ],
      "metadata": {
        "colab": {
          "base_uri": "https://localhost:8080/"
        },
        "id": "rb1QS1jqoV3r",
        "outputId": "130078f5-8138-4908-e58b-5d9e9d4603d1"
      },
      "execution_count": null,
      "outputs": [
        {
          "output_type": "stream",
          "name": "stderr",
          "text": [
            "/usr/local/lib/python3.10/dist-packages/sklearn/neural_network/_multilayer_perceptron.py:686: ConvergenceWarning: Stochastic Optimizer: Maximum iterations (1000) reached and the optimization hasn't converged yet.\n",
            "  warnings.warn(\n"
          ]
        },
        {
          "output_type": "stream",
          "name": "stdout",
          "text": [
            "Neural Network Scores (Training Set):\n",
            "Accuracy: 0.6742808798646363\n",
            "Precision: 0.6669324944805682\n",
            "Recall: 0.6742808798646363\n",
            "F1-Score: 0.6656012468336602\n",
            "\n",
            "Neural Network Scores (Test Set):\n",
            "Accuracy: 0.6706081081081081\n",
            "Precision: 0.68198539483454\n",
            "Recall: 0.6706081081081081\n",
            "F1-Score: 0.6605537198046229\n",
            "\n"
          ]
        },
        {
          "output_type": "stream",
          "name": "stderr",
          "text": [
            "/usr/local/lib/python3.10/dist-packages/sklearn/neural_network/_multilayer_perceptron.py:686: ConvergenceWarning: Stochastic Optimizer: Maximum iterations (1000) reached and the optimization hasn't converged yet.\n",
            "  warnings.warn(\n"
          ]
        }
      ]
    },
    {
      "cell_type": "code",
      "source": [
        "# Tokenization and Padding for LSTM\n",
        "maxlen = 100  # Maximum sequence length\n",
        "max_words = 10000  # Maximum number of words to consider as features\n",
        "\n",
        "tokenizer = Tokenizer(num_words=max_words)\n",
        "tokenizer.fit_on_texts(X_train)\n",
        "\n",
        "X_train_lstm = tokenizer.texts_to_sequences(X_train)\n",
        "X_train_lstm = pad_sequences(X_train_lstm, maxlen=maxlen)\n",
        "\n",
        "# Define LSTM model architecture\n",
        "lstm_model = Sequential()\n",
        "lstm_model.add(Embedding(max_words, 32, input_length=maxlen))\n",
        "lstm_model.add(LSTM(32))\n",
        "lstm_model.add(Dense(1, activation='sigmoid'))\n",
        "\n",
        "# Compile and train LSTM model\n",
        "lstm_model.compile(optimizer='adam', loss='binary_crossentropy', metrics=['accuracy'])\n",
        "lstm_model.fit(X_train_lstm, y_train, epochs=10, batch_size=32)\n",
        "\n",
        "# Make predictions on train set\n",
        "lstm_train_preds = (lstm_model.predict(X_train_lstm) > 0.5).astype(int)\n",
        "\n",
        "# Evaluation\n",
        "lstm_accuracy_train = accuracy_score(y_train, lstm_train_preds.flatten())\n",
        "lstm_precision_train = precision_score(y_train, lstm_train_preds.flatten(), average='weighted')\n",
        "lstm_recall_train = recall_score(y_train, lstm_train_preds.flatten(), average='weighted')\n",
        "lstm_f1_train = f1_score(y_train, lstm_train_preds.flatten(), average='weighted')\n",
        "\n",
        "print(\"LSTM Scores (Training Set):\")\n",
        "print(\"Accuracy:\", lstm_accuracy_train)\n",
        "print(\"Precision:\", lstm_precision_train)\n",
        "print(\"Recall:\", lstm_recall_train)\n",
        "print(\"F1-Score:\", lstm_f1_train)\n",
        "print()\n",
        "\n"
      ],
      "metadata": {
        "colab": {
          "base_uri": "https://localhost:8080/"
        },
        "id": "1jmnIHuQpZc8",
        "outputId": "6d3facfe-84e4-454d-938e-caa49e4c2582"
      },
      "execution_count": null,
      "outputs": [
        {
          "output_type": "stream",
          "name": "stdout",
          "text": [
            "Epoch 1/10\n",
            "74/74 [==============================] - 18s 98ms/step - loss: -10.6393 - accuracy: 0.1459\n",
            "Epoch 2/10\n",
            "74/74 [==============================] - 6s 84ms/step - loss: -27.6945 - accuracy: 0.1485\n",
            "Epoch 3/10\n",
            "74/74 [==============================] - 3s 38ms/step - loss: -36.2965 - accuracy: 0.1485\n",
            "Epoch 4/10\n",
            "74/74 [==============================] - 3s 38ms/step - loss: -43.5698 - accuracy: 0.1485\n",
            "Epoch 5/10\n",
            "74/74 [==============================] - 3s 38ms/step - loss: -50.4423 - accuracy: 0.1485\n",
            "Epoch 6/10\n",
            "74/74 [==============================] - 4s 52ms/step - loss: -57.1059 - accuracy: 0.1485\n",
            "Epoch 7/10\n",
            "74/74 [==============================] - 3s 37ms/step - loss: -63.6385 - accuracy: 0.1485\n",
            "Epoch 8/10\n",
            "74/74 [==============================] - 3s 38ms/step - loss: -70.1094 - accuracy: 0.1485\n",
            "Epoch 9/10\n",
            "74/74 [==============================] - 3s 38ms/step - loss: -76.5155 - accuracy: 0.1485\n",
            "Epoch 10/10\n",
            "74/74 [==============================] - 4s 52ms/step - loss: -82.8823 - accuracy: 0.1485\n",
            "74/74 [==============================] - 1s 11ms/step\n",
            "LSTM Scores (Training Set):\n",
            "Accuracy: 0.1484771573604061\n",
            "Precision: 0.022045466257826794\n",
            "Recall: 0.1484771573604061\n",
            "F1-Score: 0.03839077880920998\n",
            "\n"
          ]
        },
        {
          "output_type": "stream",
          "name": "stderr",
          "text": [
            "/usr/local/lib/python3.10/dist-packages/sklearn/metrics/_classification.py:1344: UndefinedMetricWarning: Precision is ill-defined and being set to 0.0 in labels with no predicted samples. Use `zero_division` parameter to control this behavior.\n",
            "  _warn_prf(average, modifier, msg_start, len(result))\n"
          ]
        }
      ]
    },
    {
      "cell_type": "code",
      "source": [
        "# Tokenization and Padding for LSTM\n",
        "maxlen = 100  # Maximum sequence length\n",
        "max_words = 10000  # Maximum number of words to consider as features\n",
        "\n",
        "tokenizer = Tokenizer(num_words=max_words)\n",
        "tokenizer.fit_on_texts(X_test)\n",
        "\n",
        "X_test_lstm = tokenizer.texts_to_sequences(X_test)\n",
        "X_test_lstm = pad_sequences(X_test_lstm, maxlen=maxlen)\n",
        "\n",
        "# Define LSTM model architecture\n",
        "lstm_model = Sequential()\n",
        "lstm_model.add(Embedding(max_words, 32, input_length=maxlen))\n",
        "lstm_model.add(LSTM(32))\n",
        "lstm_model.add(Dense(1, activation='sigmoid'))\n",
        "\n",
        "# Compile and train LSTM model\n",
        "lstm_model.compile(optimizer='adam', loss='binary_crossentropy', metrics=['accuracy'])\n",
        "lstm_model.fit(X_test_lstm, y_test, epochs=10, batch_size=32)\n",
        "\n",
        "# Make predictions on train set\n",
        "lstm_test_preds = (lstm_model.predict(X_test_lstm) > 0.5).astype(int)\n",
        "\n",
        "# Evaluation\n",
        "lstm_accuracy_test = accuracy_score(y_test, lstm_test_preds.flatten())\n",
        "lstm_precision_test = precision_score(y_test, lstm_test_preds.flatten(), average='weighted')\n",
        "lstm_recall_test = recall_score(y_test, lstm_test_preds.flatten(), average='weighted')\n",
        "lstm_f1_test = f1_score(y_test, lstm_test_preds.flatten(), average='weighted')\n",
        "\n",
        "print(\"LSTM Scores (Test Set):\")\n",
        "print(\"Accuracy:\", lstm_accuracy_test)\n",
        "print(\"Precision:\", lstm_precision_test)\n",
        "print(\"Recall:\", lstm_recall_test)\n",
        "print(\"F1-Score:\", lstm_f1_test)\n",
        "print()"
      ],
      "metadata": {
        "colab": {
          "base_uri": "https://localhost:8080/"
        },
        "id": "L65SLAxWqvCc",
        "outputId": "d5663239-fc05-4521-eef8-1faeedebb027"
      },
      "execution_count": null,
      "outputs": [
        {
          "output_type": "stream",
          "name": "stdout",
          "text": [
            "Epoch 1/10\n",
            "19/19 [==============================] - 8s 83ms/step - loss: 0.2473 - accuracy: 0.1368\n",
            "Epoch 2/10\n",
            "19/19 [==============================] - 2s 87ms/step - loss: -5.9014 - accuracy: 0.1385\n",
            "Epoch 3/10\n",
            "19/19 [==============================] - 1s 38ms/step - loss: -13.2138 - accuracy: 0.1385\n",
            "Epoch 4/10\n",
            "19/19 [==============================] - 1s 38ms/step - loss: -17.8136 - accuracy: 0.1385\n",
            "Epoch 5/10\n",
            "19/19 [==============================] - 1s 44ms/step - loss: -21.6370 - accuracy: 0.1385\n",
            "Epoch 6/10\n",
            "19/19 [==============================] - 1s 63ms/step - loss: -24.6750 - accuracy: 0.1385\n",
            "Epoch 7/10\n",
            "19/19 [==============================] - 1s 64ms/step - loss: -27.2452 - accuracy: 0.1385\n",
            "Epoch 8/10\n",
            "19/19 [==============================] - 1s 38ms/step - loss: -29.5790 - accuracy: 0.1385\n",
            "Epoch 9/10\n",
            "19/19 [==============================] - 1s 39ms/step - loss: -31.7282 - accuracy: 0.1385\n",
            "Epoch 10/10\n",
            "19/19 [==============================] - 1s 39ms/step - loss: -33.8070 - accuracy: 0.1385\n",
            "19/19 [==============================] - 1s 11ms/step\n",
            "LSTM Scores (Test Set):\n",
            "Accuracy: 0.13851351351351351\n",
            "Precision: 0.01918599342585829\n",
            "Recall: 0.13851351351351351\n",
            "F1-Score: 0.033703584890528514\n",
            "\n"
          ]
        },
        {
          "output_type": "stream",
          "name": "stderr",
          "text": [
            "/usr/local/lib/python3.10/dist-packages/sklearn/metrics/_classification.py:1344: UndefinedMetricWarning: Precision is ill-defined and being set to 0.0 in labels with no predicted samples. Use `zero_division` parameter to control this behavior.\n",
            "  _warn_prf(average, modifier, msg_start, len(result))\n"
          ]
        }
      ]
    },
    {
      "cell_type": "code",
      "source": [],
      "metadata": {
        "id": "r5HGMmg6rUKo"
      },
      "execution_count": null,
      "outputs": []
    }
  ],
  "metadata": {
    "colab": {
      "provenance": []
    },
    "kernelspec": {
      "display_name": "Python 3",
      "name": "python3"
    },
    "language_info": {
      "name": "python"
    },
    "widgets": {
      "application/vnd.jupyter.widget-state+json": {
        "d2ff91ba5b66424eaeec342c51195deb": {
          "model_module": "@jupyter-widgets/controls",
          "model_name": "HBoxModel",
          "model_module_version": "1.5.0",
          "state": {
            "_dom_classes": [],
            "_model_module": "@jupyter-widgets/controls",
            "_model_module_version": "1.5.0",
            "_model_name": "HBoxModel",
            "_view_count": null,
            "_view_module": "@jupyter-widgets/controls",
            "_view_module_version": "1.5.0",
            "_view_name": "HBoxView",
            "box_style": "",
            "children": [
              "IPY_MODEL_0d11e8dd71d6438292219a99c0483906",
              "IPY_MODEL_50305a7b31054965860edffd1e84c8b4",
              "IPY_MODEL_9b9f01d49a5949c888f5230f4ca9261e"
            ],
            "layout": "IPY_MODEL_4beaecc850e04328b9a57eaeeb7a59fc"
          }
        },
        "0d11e8dd71d6438292219a99c0483906": {
          "model_module": "@jupyter-widgets/controls",
          "model_name": "HTMLModel",
          "model_module_version": "1.5.0",
          "state": {
            "_dom_classes": [],
            "_model_module": "@jupyter-widgets/controls",
            "_model_module_version": "1.5.0",
            "_model_name": "HTMLModel",
            "_view_count": null,
            "_view_module": "@jupyter-widgets/controls",
            "_view_module_version": "1.5.0",
            "_view_name": "HTMLView",
            "description": "",
            "description_tooltip": null,
            "layout": "IPY_MODEL_5068b83d0ded4ae487f0a04c4bde28b4",
            "placeholder": "​",
            "style": "IPY_MODEL_e8d72767e788499b8ee985fbc39b5380",
            "value": "Downloading data: 100%"
          }
        },
        "50305a7b31054965860edffd1e84c8b4": {
          "model_module": "@jupyter-widgets/controls",
          "model_name": "FloatProgressModel",
          "model_module_version": "1.5.0",
          "state": {
            "_dom_classes": [],
            "_model_module": "@jupyter-widgets/controls",
            "_model_module_version": "1.5.0",
            "_model_name": "FloatProgressModel",
            "_view_count": null,
            "_view_module": "@jupyter-widgets/controls",
            "_view_module_version": "1.5.0",
            "_view_name": "ProgressView",
            "bar_style": "success",
            "description": "",
            "description_tooltip": null,
            "layout": "IPY_MODEL_9c42f74062c64e6cb07936415d38ca02",
            "max": 1028799,
            "min": 0,
            "orientation": "horizontal",
            "style": "IPY_MODEL_2fe689ab8a534624b6abefbc03356b1d",
            "value": 1028799
          }
        },
        "9b9f01d49a5949c888f5230f4ca9261e": {
          "model_module": "@jupyter-widgets/controls",
          "model_name": "HTMLModel",
          "model_module_version": "1.5.0",
          "state": {
            "_dom_classes": [],
            "_model_module": "@jupyter-widgets/controls",
            "_model_module_version": "1.5.0",
            "_model_name": "HTMLModel",
            "_view_count": null,
            "_view_module": "@jupyter-widgets/controls",
            "_view_module_version": "1.5.0",
            "_view_name": "HTMLView",
            "description": "",
            "description_tooltip": null,
            "layout": "IPY_MODEL_5eb444851bfa4d01ba92148aa82e4b09",
            "placeholder": "​",
            "style": "IPY_MODEL_5393df74f8184558893c1bbff19b8ad0",
            "value": " 1.03M/1.03M [00:00&lt;00:00, 2.07MB/s]"
          }
        },
        "4beaecc850e04328b9a57eaeeb7a59fc": {
          "model_module": "@jupyter-widgets/base",
          "model_name": "LayoutModel",
          "model_module_version": "1.2.0",
          "state": {
            "_model_module": "@jupyter-widgets/base",
            "_model_module_version": "1.2.0",
            "_model_name": "LayoutModel",
            "_view_count": null,
            "_view_module": "@jupyter-widgets/base",
            "_view_module_version": "1.2.0",
            "_view_name": "LayoutView",
            "align_content": null,
            "align_items": null,
            "align_self": null,
            "border": null,
            "bottom": null,
            "display": null,
            "flex": null,
            "flex_flow": null,
            "grid_area": null,
            "grid_auto_columns": null,
            "grid_auto_flow": null,
            "grid_auto_rows": null,
            "grid_column": null,
            "grid_gap": null,
            "grid_row": null,
            "grid_template_areas": null,
            "grid_template_columns": null,
            "grid_template_rows": null,
            "height": null,
            "justify_content": null,
            "justify_items": null,
            "left": null,
            "margin": null,
            "max_height": null,
            "max_width": null,
            "min_height": null,
            "min_width": null,
            "object_fit": null,
            "object_position": null,
            "order": null,
            "overflow": null,
            "overflow_x": null,
            "overflow_y": null,
            "padding": null,
            "right": null,
            "top": null,
            "visibility": null,
            "width": null
          }
        },
        "5068b83d0ded4ae487f0a04c4bde28b4": {
          "model_module": "@jupyter-widgets/base",
          "model_name": "LayoutModel",
          "model_module_version": "1.2.0",
          "state": {
            "_model_module": "@jupyter-widgets/base",
            "_model_module_version": "1.2.0",
            "_model_name": "LayoutModel",
            "_view_count": null,
            "_view_module": "@jupyter-widgets/base",
            "_view_module_version": "1.2.0",
            "_view_name": "LayoutView",
            "align_content": null,
            "align_items": null,
            "align_self": null,
            "border": null,
            "bottom": null,
            "display": null,
            "flex": null,
            "flex_flow": null,
            "grid_area": null,
            "grid_auto_columns": null,
            "grid_auto_flow": null,
            "grid_auto_rows": null,
            "grid_column": null,
            "grid_gap": null,
            "grid_row": null,
            "grid_template_areas": null,
            "grid_template_columns": null,
            "grid_template_rows": null,
            "height": null,
            "justify_content": null,
            "justify_items": null,
            "left": null,
            "margin": null,
            "max_height": null,
            "max_width": null,
            "min_height": null,
            "min_width": null,
            "object_fit": null,
            "object_position": null,
            "order": null,
            "overflow": null,
            "overflow_x": null,
            "overflow_y": null,
            "padding": null,
            "right": null,
            "top": null,
            "visibility": null,
            "width": null
          }
        },
        "e8d72767e788499b8ee985fbc39b5380": {
          "model_module": "@jupyter-widgets/controls",
          "model_name": "DescriptionStyleModel",
          "model_module_version": "1.5.0",
          "state": {
            "_model_module": "@jupyter-widgets/controls",
            "_model_module_version": "1.5.0",
            "_model_name": "DescriptionStyleModel",
            "_view_count": null,
            "_view_module": "@jupyter-widgets/base",
            "_view_module_version": "1.2.0",
            "_view_name": "StyleView",
            "description_width": ""
          }
        },
        "9c42f74062c64e6cb07936415d38ca02": {
          "model_module": "@jupyter-widgets/base",
          "model_name": "LayoutModel",
          "model_module_version": "1.2.0",
          "state": {
            "_model_module": "@jupyter-widgets/base",
            "_model_module_version": "1.2.0",
            "_model_name": "LayoutModel",
            "_view_count": null,
            "_view_module": "@jupyter-widgets/base",
            "_view_module_version": "1.2.0",
            "_view_name": "LayoutView",
            "align_content": null,
            "align_items": null,
            "align_self": null,
            "border": null,
            "bottom": null,
            "display": null,
            "flex": null,
            "flex_flow": null,
            "grid_area": null,
            "grid_auto_columns": null,
            "grid_auto_flow": null,
            "grid_auto_rows": null,
            "grid_column": null,
            "grid_gap": null,
            "grid_row": null,
            "grid_template_areas": null,
            "grid_template_columns": null,
            "grid_template_rows": null,
            "height": null,
            "justify_content": null,
            "justify_items": null,
            "left": null,
            "margin": null,
            "max_height": null,
            "max_width": null,
            "min_height": null,
            "min_width": null,
            "object_fit": null,
            "object_position": null,
            "order": null,
            "overflow": null,
            "overflow_x": null,
            "overflow_y": null,
            "padding": null,
            "right": null,
            "top": null,
            "visibility": null,
            "width": null
          }
        },
        "2fe689ab8a534624b6abefbc03356b1d": {
          "model_module": "@jupyter-widgets/controls",
          "model_name": "ProgressStyleModel",
          "model_module_version": "1.5.0",
          "state": {
            "_model_module": "@jupyter-widgets/controls",
            "_model_module_version": "1.5.0",
            "_model_name": "ProgressStyleModel",
            "_view_count": null,
            "_view_module": "@jupyter-widgets/base",
            "_view_module_version": "1.2.0",
            "_view_name": "StyleView",
            "bar_color": null,
            "description_width": ""
          }
        },
        "5eb444851bfa4d01ba92148aa82e4b09": {
          "model_module": "@jupyter-widgets/base",
          "model_name": "LayoutModel",
          "model_module_version": "1.2.0",
          "state": {
            "_model_module": "@jupyter-widgets/base",
            "_model_module_version": "1.2.0",
            "_model_name": "LayoutModel",
            "_view_count": null,
            "_view_module": "@jupyter-widgets/base",
            "_view_module_version": "1.2.0",
            "_view_name": "LayoutView",
            "align_content": null,
            "align_items": null,
            "align_self": null,
            "border": null,
            "bottom": null,
            "display": null,
            "flex": null,
            "flex_flow": null,
            "grid_area": null,
            "grid_auto_columns": null,
            "grid_auto_flow": null,
            "grid_auto_rows": null,
            "grid_column": null,
            "grid_gap": null,
            "grid_row": null,
            "grid_template_areas": null,
            "grid_template_columns": null,
            "grid_template_rows": null,
            "height": null,
            "justify_content": null,
            "justify_items": null,
            "left": null,
            "margin": null,
            "max_height": null,
            "max_width": null,
            "min_height": null,
            "min_width": null,
            "object_fit": null,
            "object_position": null,
            "order": null,
            "overflow": null,
            "overflow_x": null,
            "overflow_y": null,
            "padding": null,
            "right": null,
            "top": null,
            "visibility": null,
            "width": null
          }
        },
        "5393df74f8184558893c1bbff19b8ad0": {
          "model_module": "@jupyter-widgets/controls",
          "model_name": "DescriptionStyleModel",
          "model_module_version": "1.5.0",
          "state": {
            "_model_module": "@jupyter-widgets/controls",
            "_model_module_version": "1.5.0",
            "_model_name": "DescriptionStyleModel",
            "_view_count": null,
            "_view_module": "@jupyter-widgets/base",
            "_view_module_version": "1.2.0",
            "_view_name": "StyleView",
            "description_width": ""
          }
        },
        "5b6ea20e5ed2421c91a67a0e29831203": {
          "model_module": "@jupyter-widgets/controls",
          "model_name": "HBoxModel",
          "model_module_version": "1.5.0",
          "state": {
            "_dom_classes": [],
            "_model_module": "@jupyter-widgets/controls",
            "_model_module_version": "1.5.0",
            "_model_name": "HBoxModel",
            "_view_count": null,
            "_view_module": "@jupyter-widgets/controls",
            "_view_module_version": "1.5.0",
            "_view_name": "HBoxView",
            "box_style": "",
            "children": [
              "IPY_MODEL_35ef8f72fe8d4788a4cde178b29df963",
              "IPY_MODEL_fe630ea8b08c4391b4f3a62a9b0cb80e",
              "IPY_MODEL_6db53701ee434744991c8979fe6dc7f6"
            ],
            "layout": "IPY_MODEL_514f34ebff344776ad280ebfc78c294d"
          }
        },
        "35ef8f72fe8d4788a4cde178b29df963": {
          "model_module": "@jupyter-widgets/controls",
          "model_name": "HTMLModel",
          "model_module_version": "1.5.0",
          "state": {
            "_dom_classes": [],
            "_model_module": "@jupyter-widgets/controls",
            "_model_module_version": "1.5.0",
            "_model_name": "HTMLModel",
            "_view_count": null,
            "_view_module": "@jupyter-widgets/controls",
            "_view_module_version": "1.5.0",
            "_view_name": "HTMLView",
            "description": "",
            "description_tooltip": null,
            "layout": "IPY_MODEL_80b0bdb3291446c395ce0db2b7086cbf",
            "placeholder": "​",
            "style": "IPY_MODEL_57389b64d3dd4b85b840561fcd542fa6",
            "value": "Generating train split: 100%"
          }
        },
        "fe630ea8b08c4391b4f3a62a9b0cb80e": {
          "model_module": "@jupyter-widgets/controls",
          "model_name": "FloatProgressModel",
          "model_module_version": "1.5.0",
          "state": {
            "_dom_classes": [],
            "_model_module": "@jupyter-widgets/controls",
            "_model_module_version": "1.5.0",
            "_model_name": "FloatProgressModel",
            "_view_count": null,
            "_view_module": "@jupyter-widgets/controls",
            "_view_module_version": "1.5.0",
            "_view_name": "ProgressView",
            "bar_style": "success",
            "description": "",
            "description_tooltip": null,
            "layout": "IPY_MODEL_56f74b9f1992449a904bf887451c579e",
            "max": 2956,
            "min": 0,
            "orientation": "horizontal",
            "style": "IPY_MODEL_24f462976de644f48a31d72ac42b7b70",
            "value": 2956
          }
        },
        "6db53701ee434744991c8979fe6dc7f6": {
          "model_module": "@jupyter-widgets/controls",
          "model_name": "HTMLModel",
          "model_module_version": "1.5.0",
          "state": {
            "_dom_classes": [],
            "_model_module": "@jupyter-widgets/controls",
            "_model_module_version": "1.5.0",
            "_model_name": "HTMLModel",
            "_view_count": null,
            "_view_module": "@jupyter-widgets/controls",
            "_view_module_version": "1.5.0",
            "_view_name": "HTMLView",
            "description": "",
            "description_tooltip": null,
            "layout": "IPY_MODEL_2ca90f9ba0bc472d86edbfff63472643",
            "placeholder": "​",
            "style": "IPY_MODEL_7298943343574381960dfcafdf2cc11b",
            "value": " 2956/2956 [00:00&lt;00:00, 17991.22 examples/s]"
          }
        },
        "514f34ebff344776ad280ebfc78c294d": {
          "model_module": "@jupyter-widgets/base",
          "model_name": "LayoutModel",
          "model_module_version": "1.2.0",
          "state": {
            "_model_module": "@jupyter-widgets/base",
            "_model_module_version": "1.2.0",
            "_model_name": "LayoutModel",
            "_view_count": null,
            "_view_module": "@jupyter-widgets/base",
            "_view_module_version": "1.2.0",
            "_view_name": "LayoutView",
            "align_content": null,
            "align_items": null,
            "align_self": null,
            "border": null,
            "bottom": null,
            "display": null,
            "flex": null,
            "flex_flow": null,
            "grid_area": null,
            "grid_auto_columns": null,
            "grid_auto_flow": null,
            "grid_auto_rows": null,
            "grid_column": null,
            "grid_gap": null,
            "grid_row": null,
            "grid_template_areas": null,
            "grid_template_columns": null,
            "grid_template_rows": null,
            "height": null,
            "justify_content": null,
            "justify_items": null,
            "left": null,
            "margin": null,
            "max_height": null,
            "max_width": null,
            "min_height": null,
            "min_width": null,
            "object_fit": null,
            "object_position": null,
            "order": null,
            "overflow": null,
            "overflow_x": null,
            "overflow_y": null,
            "padding": null,
            "right": null,
            "top": null,
            "visibility": null,
            "width": null
          }
        },
        "80b0bdb3291446c395ce0db2b7086cbf": {
          "model_module": "@jupyter-widgets/base",
          "model_name": "LayoutModel",
          "model_module_version": "1.2.0",
          "state": {
            "_model_module": "@jupyter-widgets/base",
            "_model_module_version": "1.2.0",
            "_model_name": "LayoutModel",
            "_view_count": null,
            "_view_module": "@jupyter-widgets/base",
            "_view_module_version": "1.2.0",
            "_view_name": "LayoutView",
            "align_content": null,
            "align_items": null,
            "align_self": null,
            "border": null,
            "bottom": null,
            "display": null,
            "flex": null,
            "flex_flow": null,
            "grid_area": null,
            "grid_auto_columns": null,
            "grid_auto_flow": null,
            "grid_auto_rows": null,
            "grid_column": null,
            "grid_gap": null,
            "grid_row": null,
            "grid_template_areas": null,
            "grid_template_columns": null,
            "grid_template_rows": null,
            "height": null,
            "justify_content": null,
            "justify_items": null,
            "left": null,
            "margin": null,
            "max_height": null,
            "max_width": null,
            "min_height": null,
            "min_width": null,
            "object_fit": null,
            "object_position": null,
            "order": null,
            "overflow": null,
            "overflow_x": null,
            "overflow_y": null,
            "padding": null,
            "right": null,
            "top": null,
            "visibility": null,
            "width": null
          }
        },
        "57389b64d3dd4b85b840561fcd542fa6": {
          "model_module": "@jupyter-widgets/controls",
          "model_name": "DescriptionStyleModel",
          "model_module_version": "1.5.0",
          "state": {
            "_model_module": "@jupyter-widgets/controls",
            "_model_module_version": "1.5.0",
            "_model_name": "DescriptionStyleModel",
            "_view_count": null,
            "_view_module": "@jupyter-widgets/base",
            "_view_module_version": "1.2.0",
            "_view_name": "StyleView",
            "description_width": ""
          }
        },
        "56f74b9f1992449a904bf887451c579e": {
          "model_module": "@jupyter-widgets/base",
          "model_name": "LayoutModel",
          "model_module_version": "1.2.0",
          "state": {
            "_model_module": "@jupyter-widgets/base",
            "_model_module_version": "1.2.0",
            "_model_name": "LayoutModel",
            "_view_count": null,
            "_view_module": "@jupyter-widgets/base",
            "_view_module_version": "1.2.0",
            "_view_name": "LayoutView",
            "align_content": null,
            "align_items": null,
            "align_self": null,
            "border": null,
            "bottom": null,
            "display": null,
            "flex": null,
            "flex_flow": null,
            "grid_area": null,
            "grid_auto_columns": null,
            "grid_auto_flow": null,
            "grid_auto_rows": null,
            "grid_column": null,
            "grid_gap": null,
            "grid_row": null,
            "grid_template_areas": null,
            "grid_template_columns": null,
            "grid_template_rows": null,
            "height": null,
            "justify_content": null,
            "justify_items": null,
            "left": null,
            "margin": null,
            "max_height": null,
            "max_width": null,
            "min_height": null,
            "min_width": null,
            "object_fit": null,
            "object_position": null,
            "order": null,
            "overflow": null,
            "overflow_x": null,
            "overflow_y": null,
            "padding": null,
            "right": null,
            "top": null,
            "visibility": null,
            "width": null
          }
        },
        "24f462976de644f48a31d72ac42b7b70": {
          "model_module": "@jupyter-widgets/controls",
          "model_name": "ProgressStyleModel",
          "model_module_version": "1.5.0",
          "state": {
            "_model_module": "@jupyter-widgets/controls",
            "_model_module_version": "1.5.0",
            "_model_name": "ProgressStyleModel",
            "_view_count": null,
            "_view_module": "@jupyter-widgets/base",
            "_view_module_version": "1.2.0",
            "_view_name": "StyleView",
            "bar_color": null,
            "description_width": ""
          }
        },
        "2ca90f9ba0bc472d86edbfff63472643": {
          "model_module": "@jupyter-widgets/base",
          "model_name": "LayoutModel",
          "model_module_version": "1.2.0",
          "state": {
            "_model_module": "@jupyter-widgets/base",
            "_model_module_version": "1.2.0",
            "_model_name": "LayoutModel",
            "_view_count": null,
            "_view_module": "@jupyter-widgets/base",
            "_view_module_version": "1.2.0",
            "_view_name": "LayoutView",
            "align_content": null,
            "align_items": null,
            "align_self": null,
            "border": null,
            "bottom": null,
            "display": null,
            "flex": null,
            "flex_flow": null,
            "grid_area": null,
            "grid_auto_columns": null,
            "grid_auto_flow": null,
            "grid_auto_rows": null,
            "grid_column": null,
            "grid_gap": null,
            "grid_row": null,
            "grid_template_areas": null,
            "grid_template_columns": null,
            "grid_template_rows": null,
            "height": null,
            "justify_content": null,
            "justify_items": null,
            "left": null,
            "margin": null,
            "max_height": null,
            "max_width": null,
            "min_height": null,
            "min_width": null,
            "object_fit": null,
            "object_position": null,
            "order": null,
            "overflow": null,
            "overflow_x": null,
            "overflow_y": null,
            "padding": null,
            "right": null,
            "top": null,
            "visibility": null,
            "width": null
          }
        },
        "7298943343574381960dfcafdf2cc11b": {
          "model_module": "@jupyter-widgets/controls",
          "model_name": "DescriptionStyleModel",
          "model_module_version": "1.5.0",
          "state": {
            "_model_module": "@jupyter-widgets/controls",
            "_model_module_version": "1.5.0",
            "_model_name": "DescriptionStyleModel",
            "_view_count": null,
            "_view_module": "@jupyter-widgets/base",
            "_view_module_version": "1.2.0",
            "_view_name": "StyleView",
            "description_width": ""
          }
        }
      }
    }
  },
  "nbformat": 4,
  "nbformat_minor": 0
}