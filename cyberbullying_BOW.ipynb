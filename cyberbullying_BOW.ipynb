{
  "cells": [
    {
      "cell_type": "code",
      "execution_count": null,
      "metadata": {
        "colab": {
          "base_uri": "https://localhost:8080/"
        },
        "id": "HSoLZXe9yYtN",
        "outputId": "d727535c-ccb3-4bc0-9746-0ff4f934a819"
      },
      "outputs": [
        {
          "output_type": "stream",
          "name": "stdout",
          "text": [
            "Collecting datasets\n",
            "  Downloading datasets-2.19.0-py3-none-any.whl (542 kB)\n",
            "\u001b[2K     \u001b[90m━━━━━━━━━━━━━━━━━━━━━━━━━━━━━━━━━━━━━━━━\u001b[0m \u001b[32m542.0/542.0 kB\u001b[0m \u001b[31m4.9 MB/s\u001b[0m eta \u001b[36m0:00:00\u001b[0m\n",
            "\u001b[?25hRequirement already satisfied: filelock in /usr/local/lib/python3.10/dist-packages (from datasets) (3.13.4)\n",
            "Requirement already satisfied: numpy>=1.17 in /usr/local/lib/python3.10/dist-packages (from datasets) (1.25.2)\n",
            "Requirement already satisfied: pyarrow>=12.0.0 in /usr/local/lib/python3.10/dist-packages (from datasets) (14.0.2)\n",
            "Requirement already satisfied: pyarrow-hotfix in /usr/local/lib/python3.10/dist-packages (from datasets) (0.6)\n",
            "Collecting dill<0.3.9,>=0.3.0 (from datasets)\n",
            "  Downloading dill-0.3.8-py3-none-any.whl (116 kB)\n",
            "\u001b[2K     \u001b[90m━━━━━━━━━━━━━━━━━━━━━━━━━━━━━━━━━━━━━━━━\u001b[0m \u001b[32m116.3/116.3 kB\u001b[0m \u001b[31m8.1 MB/s\u001b[0m eta \u001b[36m0:00:00\u001b[0m\n",
            "\u001b[?25hRequirement already satisfied: pandas in /usr/local/lib/python3.10/dist-packages (from datasets) (2.0.3)\n",
            "Requirement already satisfied: requests>=2.19.0 in /usr/local/lib/python3.10/dist-packages (from datasets) (2.31.0)\n",
            "Requirement already satisfied: tqdm>=4.62.1 in /usr/local/lib/python3.10/dist-packages (from datasets) (4.66.2)\n",
            "Collecting xxhash (from datasets)\n",
            "  Downloading xxhash-3.4.1-cp310-cp310-manylinux_2_17_x86_64.manylinux2014_x86_64.whl (194 kB)\n",
            "\u001b[2K     \u001b[90m━━━━━━━━━━━━━━━━━━━━━━━━━━━━━━━━━━━━━━━━\u001b[0m \u001b[32m194.1/194.1 kB\u001b[0m \u001b[31m5.1 MB/s\u001b[0m eta \u001b[36m0:00:00\u001b[0m\n",
            "\u001b[?25hCollecting multiprocess (from datasets)\n",
            "  Downloading multiprocess-0.70.16-py310-none-any.whl (134 kB)\n",
            "\u001b[2K     \u001b[90m━━━━━━━━━━━━━━━━━━━━━━━━━━━━━━━━━━━━━━━━\u001b[0m \u001b[32m134.8/134.8 kB\u001b[0m \u001b[31m5.5 MB/s\u001b[0m eta \u001b[36m0:00:00\u001b[0m\n",
            "\u001b[?25hRequirement already satisfied: fsspec[http]<=2024.3.1,>=2023.1.0 in /usr/local/lib/python3.10/dist-packages (from datasets) (2023.6.0)\n",
            "Requirement already satisfied: aiohttp in /usr/local/lib/python3.10/dist-packages (from datasets) (3.9.5)\n",
            "Collecting huggingface-hub>=0.21.2 (from datasets)\n",
            "  Downloading huggingface_hub-0.22.2-py3-none-any.whl (388 kB)\n",
            "\u001b[2K     \u001b[90m━━━━━━━━━━━━━━━━━━━━━━━━━━━━━━━━━━━━━━━━\u001b[0m \u001b[32m388.9/388.9 kB\u001b[0m \u001b[31m7.9 MB/s\u001b[0m eta \u001b[36m0:00:00\u001b[0m\n",
            "\u001b[?25hRequirement already satisfied: packaging in /usr/local/lib/python3.10/dist-packages (from datasets) (24.0)\n",
            "Requirement already satisfied: pyyaml>=5.1 in /usr/local/lib/python3.10/dist-packages (from datasets) (6.0.1)\n",
            "Requirement already satisfied: aiosignal>=1.1.2 in /usr/local/lib/python3.10/dist-packages (from aiohttp->datasets) (1.3.1)\n",
            "Requirement already satisfied: attrs>=17.3.0 in /usr/local/lib/python3.10/dist-packages (from aiohttp->datasets) (23.2.0)\n",
            "Requirement already satisfied: frozenlist>=1.1.1 in /usr/local/lib/python3.10/dist-packages (from aiohttp->datasets) (1.4.1)\n",
            "Requirement already satisfied: multidict<7.0,>=4.5 in /usr/local/lib/python3.10/dist-packages (from aiohttp->datasets) (6.0.5)\n",
            "Requirement already satisfied: yarl<2.0,>=1.0 in /usr/local/lib/python3.10/dist-packages (from aiohttp->datasets) (1.9.4)\n",
            "Requirement already satisfied: async-timeout<5.0,>=4.0 in /usr/local/lib/python3.10/dist-packages (from aiohttp->datasets) (4.0.3)\n",
            "Requirement already satisfied: typing-extensions>=3.7.4.3 in /usr/local/lib/python3.10/dist-packages (from huggingface-hub>=0.21.2->datasets) (4.11.0)\n",
            "Requirement already satisfied: charset-normalizer<4,>=2 in /usr/local/lib/python3.10/dist-packages (from requests>=2.19.0->datasets) (3.3.2)\n",
            "Requirement already satisfied: idna<4,>=2.5 in /usr/local/lib/python3.10/dist-packages (from requests>=2.19.0->datasets) (3.7)\n",
            "Requirement already satisfied: urllib3<3,>=1.21.1 in /usr/local/lib/python3.10/dist-packages (from requests>=2.19.0->datasets) (2.0.7)\n",
            "Requirement already satisfied: certifi>=2017.4.17 in /usr/local/lib/python3.10/dist-packages (from requests>=2.19.0->datasets) (2024.2.2)\n",
            "Requirement already satisfied: python-dateutil>=2.8.2 in /usr/local/lib/python3.10/dist-packages (from pandas->datasets) (2.8.2)\n",
            "Requirement already satisfied: pytz>=2020.1 in /usr/local/lib/python3.10/dist-packages (from pandas->datasets) (2023.4)\n",
            "Requirement already satisfied: tzdata>=2022.1 in /usr/local/lib/python3.10/dist-packages (from pandas->datasets) (2024.1)\n",
            "Requirement already satisfied: six>=1.5 in /usr/local/lib/python3.10/dist-packages (from python-dateutil>=2.8.2->pandas->datasets) (1.16.0)\n",
            "Installing collected packages: xxhash, dill, multiprocess, huggingface-hub, datasets\n",
            "  Attempting uninstall: huggingface-hub\n",
            "    Found existing installation: huggingface-hub 0.20.3\n",
            "    Uninstalling huggingface-hub-0.20.3:\n",
            "      Successfully uninstalled huggingface-hub-0.20.3\n",
            "Successfully installed datasets-2.19.0 dill-0.3.8 huggingface-hub-0.22.2 multiprocess-0.70.16 xxhash-3.4.1\n"
          ]
        }
      ],
      "source": [
        "!pip install datasets"
      ]
    },
    {
      "cell_type": "code",
      "execution_count": null,
      "metadata": {
        "colab": {
          "base_uri": "https://localhost:8080/"
        },
        "id": "Bf33sSjfycm-",
        "outputId": "a1b24028-4266-44fb-98e9-fcaf3a005a22"
      },
      "outputs": [
        {
          "output_type": "stream",
          "name": "stdout",
          "text": [
            "Requirement already satisfied: transformers in /usr/local/lib/python3.10/dist-packages (4.40.0)\n",
            "Requirement already satisfied: filelock in /usr/local/lib/python3.10/dist-packages (from transformers) (3.13.4)\n",
            "Requirement already satisfied: huggingface-hub<1.0,>=0.19.3 in /usr/local/lib/python3.10/dist-packages (from transformers) (0.22.2)\n",
            "Requirement already satisfied: numpy>=1.17 in /usr/local/lib/python3.10/dist-packages (from transformers) (1.25.2)\n",
            "Requirement already satisfied: packaging>=20.0 in /usr/local/lib/python3.10/dist-packages (from transformers) (24.0)\n",
            "Requirement already satisfied: pyyaml>=5.1 in /usr/local/lib/python3.10/dist-packages (from transformers) (6.0.1)\n",
            "Requirement already satisfied: regex!=2019.12.17 in /usr/local/lib/python3.10/dist-packages (from transformers) (2023.12.25)\n",
            "Requirement already satisfied: requests in /usr/local/lib/python3.10/dist-packages (from transformers) (2.31.0)\n",
            "Requirement already satisfied: tokenizers<0.20,>=0.19 in /usr/local/lib/python3.10/dist-packages (from transformers) (0.19.1)\n",
            "Requirement already satisfied: safetensors>=0.4.1 in /usr/local/lib/python3.10/dist-packages (from transformers) (0.4.3)\n",
            "Requirement already satisfied: tqdm>=4.27 in /usr/local/lib/python3.10/dist-packages (from transformers) (4.66.2)\n",
            "Requirement already satisfied: fsspec>=2023.5.0 in /usr/local/lib/python3.10/dist-packages (from huggingface-hub<1.0,>=0.19.3->transformers) (2023.6.0)\n",
            "Requirement already satisfied: typing-extensions>=3.7.4.3 in /usr/local/lib/python3.10/dist-packages (from huggingface-hub<1.0,>=0.19.3->transformers) (4.11.0)\n",
            "Requirement already satisfied: charset-normalizer<4,>=2 in /usr/local/lib/python3.10/dist-packages (from requests->transformers) (3.3.2)\n",
            "Requirement already satisfied: idna<4,>=2.5 in /usr/local/lib/python3.10/dist-packages (from requests->transformers) (3.7)\n",
            "Requirement already satisfied: urllib3<3,>=1.21.1 in /usr/local/lib/python3.10/dist-packages (from requests->transformers) (2.0.7)\n",
            "Requirement already satisfied: certifi>=2017.4.17 in /usr/local/lib/python3.10/dist-packages (from requests->transformers) (2024.2.2)\n"
          ]
        }
      ],
      "source": [
        "!pip install transformers"
      ]
    },
    {
      "cell_type": "code",
      "execution_count": null,
      "metadata": {
        "id": "nxHQq-FYynyT"
      },
      "outputs": [],
      "source": [
        "from datasets import load_dataset\n",
        "import pandas as pd\n",
        "\n",
        "pd.options.display.max_columns= None"
      ]
    },
    {
      "cell_type": "code",
      "execution_count": null,
      "metadata": {
        "id": "h6UyF0m7y49q",
        "colab": {
          "base_uri": "https://localhost:8080/",
          "height": 205,
          "referenced_widgets": [
            "e73eacd8fb2b4a5387154fb77fe466de",
            "955d0cee413b481f99babe6192388727",
            "19b2d7d7620d4565b98115158e057c89",
            "29bf667855e54a1b8847d1d8b5935a06",
            "96f1d6d8a8af4c74bf4fe7f292a61f73",
            "fbc2232f999e4b638f2568a8b96eed07",
            "fe6d169b18ec44889256adaf3b844911",
            "8283d01fafa6457c8a59001243b96bc7",
            "359169b128c24e1aa2ab6aa829380792",
            "959b01ecf6bb4a43bcb00e4ff69c85e2",
            "860025f5dfaa464d85e3b8e6360570e9",
            "c23423573e35484d94c499b54fb65119",
            "ff9c26c9f7414ad1b9f581771f9a553c",
            "29d037d249424f8ab0d362ca0d1edec5",
            "5be1b97333204c9e86fb5e178959115b",
            "c3d62d56bb9544dca75ffcb1a98e55ba",
            "ad73d8c0cf564bd5863ac8c7a8869468",
            "cd4b3d2ba0aa4ca9bdd3a574e5e34b96",
            "9876da97d66742f18f1f6a3bb0c309fa",
            "e256959f663848b893e2efbafaa41c50",
            "dff4147a04ed43b5be4da528ab07e236",
            "1dd0d38365c54474ae78b2147978057d"
          ]
        },
        "outputId": "ac62d7a9-55a0-4ab2-e4c5-78264385dac2"
      },
      "outputs": [
        {
          "output_type": "stream",
          "name": "stderr",
          "text": [
            "/usr/local/lib/python3.10/dist-packages/huggingface_hub/utils/_token.py:89: UserWarning: \n",
            "The secret `HF_TOKEN` does not exist in your Colab secrets.\n",
            "To authenticate with the Hugging Face Hub, create a token in your settings tab (https://huggingface.co/settings/tokens), set it as secret in your Google Colab and restart your session.\n",
            "You will be able to reuse this secret in all of your notebooks.\n",
            "Please note that authentication is recommended but still optional to access public models or datasets.\n",
            "  warnings.warn(\n"
          ]
        },
        {
          "output_type": "display_data",
          "data": {
            "text/plain": [
              "Downloading data:   0%|          | 0.00/1.03M [00:00<?, ?B/s]"
            ],
            "application/vnd.jupyter.widget-view+json": {
              "version_major": 2,
              "version_minor": 0,
              "model_id": "e73eacd8fb2b4a5387154fb77fe466de"
            }
          },
          "metadata": {}
        },
        {
          "output_type": "display_data",
          "data": {
            "text/plain": [
              "Generating train split:   0%|          | 0/2956 [00:00<?, ? examples/s]"
            ],
            "application/vnd.jupyter.widget-view+json": {
              "version_major": 2,
              "version_minor": 0,
              "model_id": "c23423573e35484d94c499b54fb65119"
            }
          },
          "metadata": {}
        }
      ],
      "source": [
        "dataset = load_dataset(\"AnikaBasu/CyberbullyingDataset\")"
      ]
    },
    {
      "cell_type": "code",
      "execution_count": null,
      "metadata": {
        "colab": {
          "base_uri": "https://localhost:8080/"
        },
        "id": "rNfgX63_zEmr",
        "outputId": "4ad47bf8-a380-443d-ba0e-e8ca65100fb6"
      },
      "outputs": [
        {
          "output_type": "execute_result",
          "data": {
            "text/plain": [
              "DatasetDict({\n",
              "    train: Dataset({\n",
              "        features: ['input', 'text', 'instruction', 'output'],\n",
              "        num_rows: 2956\n",
              "    })\n",
              "})"
            ]
          },
          "metadata": {},
          "execution_count": 5
        }
      ],
      "source": [
        "dataset"
      ]
    },
    {
      "cell_type": "code",
      "execution_count": null,
      "metadata": {
        "id": "ZJfWvk7o0I84"
      },
      "outputs": [],
      "source": [
        "df = pd.DataFrame(dataset['train'])"
      ]
    },
    {
      "cell_type": "code",
      "execution_count": null,
      "metadata": {
        "colab": {
          "base_uri": "https://localhost:8080/",
          "height": 206
        },
        "id": "FRPj_l3K0hYD",
        "outputId": "9acd75df-69c7-4100-ebdf-cbff469012c7"
      },
      "outputs": [
        {
          "output_type": "execute_result",
          "data": {
            "text/plain": [
              "  input                                               text  \\\n",
              "0        Here is a classification that determines wheth...   \n",
              "1        Here is a classification that determines wheth...   \n",
              "2        Here is a classification that determines wheth...   \n",
              "3        Here is a classification that determines wheth...   \n",
              "4        Here is a classification that determines wheth...   \n",
              "\n",
              "                                         instruction             output  \n",
              "0  In other words #katandandre, your food was cra...  not_cyberbullying  \n",
              "1  In other words #katandandre, your food was cra...  not_cyberbullying  \n",
              "2  Why is #aussietv so white? #MKR #theblock #ImA...  not_cyberbullying  \n",
              "3  @XochitlSuckkks a classy whore? Or more red ve...  not_cyberbullying  \n",
              "4  @Jason_Gio meh. :P  thanks for the heads up, b...  not_cyberbullying  "
            ],
            "text/html": [
              "\n",
              "  <div id=\"df-adbc53f1-6649-439a-beec-8a382b6ec861\" class=\"colab-df-container\">\n",
              "    <div>\n",
              "<style scoped>\n",
              "    .dataframe tbody tr th:only-of-type {\n",
              "        vertical-align: middle;\n",
              "    }\n",
              "\n",
              "    .dataframe tbody tr th {\n",
              "        vertical-align: top;\n",
              "    }\n",
              "\n",
              "    .dataframe thead th {\n",
              "        text-align: right;\n",
              "    }\n",
              "</style>\n",
              "<table border=\"1\" class=\"dataframe\">\n",
              "  <thead>\n",
              "    <tr style=\"text-align: right;\">\n",
              "      <th></th>\n",
              "      <th>input</th>\n",
              "      <th>text</th>\n",
              "      <th>instruction</th>\n",
              "      <th>output</th>\n",
              "    </tr>\n",
              "  </thead>\n",
              "  <tbody>\n",
              "    <tr>\n",
              "      <th>0</th>\n",
              "      <td></td>\n",
              "      <td>Here is a classification that determines wheth...</td>\n",
              "      <td>In other words #katandandre, your food was cra...</td>\n",
              "      <td>not_cyberbullying</td>\n",
              "    </tr>\n",
              "    <tr>\n",
              "      <th>1</th>\n",
              "      <td></td>\n",
              "      <td>Here is a classification that determines wheth...</td>\n",
              "      <td>In other words #katandandre, your food was cra...</td>\n",
              "      <td>not_cyberbullying</td>\n",
              "    </tr>\n",
              "    <tr>\n",
              "      <th>2</th>\n",
              "      <td></td>\n",
              "      <td>Here is a classification that determines wheth...</td>\n",
              "      <td>Why is #aussietv so white? #MKR #theblock #ImA...</td>\n",
              "      <td>not_cyberbullying</td>\n",
              "    </tr>\n",
              "    <tr>\n",
              "      <th>3</th>\n",
              "      <td></td>\n",
              "      <td>Here is a classification that determines wheth...</td>\n",
              "      <td>@XochitlSuckkks a classy whore? Or more red ve...</td>\n",
              "      <td>not_cyberbullying</td>\n",
              "    </tr>\n",
              "    <tr>\n",
              "      <th>4</th>\n",
              "      <td></td>\n",
              "      <td>Here is a classification that determines wheth...</td>\n",
              "      <td>@Jason_Gio meh. :P  thanks for the heads up, b...</td>\n",
              "      <td>not_cyberbullying</td>\n",
              "    </tr>\n",
              "  </tbody>\n",
              "</table>\n",
              "</div>\n",
              "    <div class=\"colab-df-buttons\">\n",
              "\n",
              "  <div class=\"colab-df-container\">\n",
              "    <button class=\"colab-df-convert\" onclick=\"convertToInteractive('df-adbc53f1-6649-439a-beec-8a382b6ec861')\"\n",
              "            title=\"Convert this dataframe to an interactive table.\"\n",
              "            style=\"display:none;\">\n",
              "\n",
              "  <svg xmlns=\"http://www.w3.org/2000/svg\" height=\"24px\" viewBox=\"0 -960 960 960\">\n",
              "    <path d=\"M120-120v-720h720v720H120Zm60-500h600v-160H180v160Zm220 220h160v-160H400v160Zm0 220h160v-160H400v160ZM180-400h160v-160H180v160Zm440 0h160v-160H620v160ZM180-180h160v-160H180v160Zm440 0h160v-160H620v160Z\"/>\n",
              "  </svg>\n",
              "    </button>\n",
              "\n",
              "  <style>\n",
              "    .colab-df-container {\n",
              "      display:flex;\n",
              "      gap: 12px;\n",
              "    }\n",
              "\n",
              "    .colab-df-convert {\n",
              "      background-color: #E8F0FE;\n",
              "      border: none;\n",
              "      border-radius: 50%;\n",
              "      cursor: pointer;\n",
              "      display: none;\n",
              "      fill: #1967D2;\n",
              "      height: 32px;\n",
              "      padding: 0 0 0 0;\n",
              "      width: 32px;\n",
              "    }\n",
              "\n",
              "    .colab-df-convert:hover {\n",
              "      background-color: #E2EBFA;\n",
              "      box-shadow: 0px 1px 2px rgba(60, 64, 67, 0.3), 0px 1px 3px 1px rgba(60, 64, 67, 0.15);\n",
              "      fill: #174EA6;\n",
              "    }\n",
              "\n",
              "    .colab-df-buttons div {\n",
              "      margin-bottom: 4px;\n",
              "    }\n",
              "\n",
              "    [theme=dark] .colab-df-convert {\n",
              "      background-color: #3B4455;\n",
              "      fill: #D2E3FC;\n",
              "    }\n",
              "\n",
              "    [theme=dark] .colab-df-convert:hover {\n",
              "      background-color: #434B5C;\n",
              "      box-shadow: 0px 1px 3px 1px rgba(0, 0, 0, 0.15);\n",
              "      filter: drop-shadow(0px 1px 2px rgba(0, 0, 0, 0.3));\n",
              "      fill: #FFFFFF;\n",
              "    }\n",
              "  </style>\n",
              "\n",
              "    <script>\n",
              "      const buttonEl =\n",
              "        document.querySelector('#df-adbc53f1-6649-439a-beec-8a382b6ec861 button.colab-df-convert');\n",
              "      buttonEl.style.display =\n",
              "        google.colab.kernel.accessAllowed ? 'block' : 'none';\n",
              "\n",
              "      async function convertToInteractive(key) {\n",
              "        const element = document.querySelector('#df-adbc53f1-6649-439a-beec-8a382b6ec861');\n",
              "        const dataTable =\n",
              "          await google.colab.kernel.invokeFunction('convertToInteractive',\n",
              "                                                    [key], {});\n",
              "        if (!dataTable) return;\n",
              "\n",
              "        const docLinkHtml = 'Like what you see? Visit the ' +\n",
              "          '<a target=\"_blank\" href=https://colab.research.google.com/notebooks/data_table.ipynb>data table notebook</a>'\n",
              "          + ' to learn more about interactive tables.';\n",
              "        element.innerHTML = '';\n",
              "        dataTable['output_type'] = 'display_data';\n",
              "        await google.colab.output.renderOutput(dataTable, element);\n",
              "        const docLink = document.createElement('div');\n",
              "        docLink.innerHTML = docLinkHtml;\n",
              "        element.appendChild(docLink);\n",
              "      }\n",
              "    </script>\n",
              "  </div>\n",
              "\n",
              "\n",
              "<div id=\"df-3095addd-cb77-42c7-98b3-34c3be7f4511\">\n",
              "  <button class=\"colab-df-quickchart\" onclick=\"quickchart('df-3095addd-cb77-42c7-98b3-34c3be7f4511')\"\n",
              "            title=\"Suggest charts\"\n",
              "            style=\"display:none;\">\n",
              "\n",
              "<svg xmlns=\"http://www.w3.org/2000/svg\" height=\"24px\"viewBox=\"0 0 24 24\"\n",
              "     width=\"24px\">\n",
              "    <g>\n",
              "        <path d=\"M19 3H5c-1.1 0-2 .9-2 2v14c0 1.1.9 2 2 2h14c1.1 0 2-.9 2-2V5c0-1.1-.9-2-2-2zM9 17H7v-7h2v7zm4 0h-2V7h2v10zm4 0h-2v-4h2v4z\"/>\n",
              "    </g>\n",
              "</svg>\n",
              "  </button>\n",
              "\n",
              "<style>\n",
              "  .colab-df-quickchart {\n",
              "      --bg-color: #E8F0FE;\n",
              "      --fill-color: #1967D2;\n",
              "      --hover-bg-color: #E2EBFA;\n",
              "      --hover-fill-color: #174EA6;\n",
              "      --disabled-fill-color: #AAA;\n",
              "      --disabled-bg-color: #DDD;\n",
              "  }\n",
              "\n",
              "  [theme=dark] .colab-df-quickchart {\n",
              "      --bg-color: #3B4455;\n",
              "      --fill-color: #D2E3FC;\n",
              "      --hover-bg-color: #434B5C;\n",
              "      --hover-fill-color: #FFFFFF;\n",
              "      --disabled-bg-color: #3B4455;\n",
              "      --disabled-fill-color: #666;\n",
              "  }\n",
              "\n",
              "  .colab-df-quickchart {\n",
              "    background-color: var(--bg-color);\n",
              "    border: none;\n",
              "    border-radius: 50%;\n",
              "    cursor: pointer;\n",
              "    display: none;\n",
              "    fill: var(--fill-color);\n",
              "    height: 32px;\n",
              "    padding: 0;\n",
              "    width: 32px;\n",
              "  }\n",
              "\n",
              "  .colab-df-quickchart:hover {\n",
              "    background-color: var(--hover-bg-color);\n",
              "    box-shadow: 0 1px 2px rgba(60, 64, 67, 0.3), 0 1px 3px 1px rgba(60, 64, 67, 0.15);\n",
              "    fill: var(--button-hover-fill-color);\n",
              "  }\n",
              "\n",
              "  .colab-df-quickchart-complete:disabled,\n",
              "  .colab-df-quickchart-complete:disabled:hover {\n",
              "    background-color: var(--disabled-bg-color);\n",
              "    fill: var(--disabled-fill-color);\n",
              "    box-shadow: none;\n",
              "  }\n",
              "\n",
              "  .colab-df-spinner {\n",
              "    border: 2px solid var(--fill-color);\n",
              "    border-color: transparent;\n",
              "    border-bottom-color: var(--fill-color);\n",
              "    animation:\n",
              "      spin 1s steps(1) infinite;\n",
              "  }\n",
              "\n",
              "  @keyframes spin {\n",
              "    0% {\n",
              "      border-color: transparent;\n",
              "      border-bottom-color: var(--fill-color);\n",
              "      border-left-color: var(--fill-color);\n",
              "    }\n",
              "    20% {\n",
              "      border-color: transparent;\n",
              "      border-left-color: var(--fill-color);\n",
              "      border-top-color: var(--fill-color);\n",
              "    }\n",
              "    30% {\n",
              "      border-color: transparent;\n",
              "      border-left-color: var(--fill-color);\n",
              "      border-top-color: var(--fill-color);\n",
              "      border-right-color: var(--fill-color);\n",
              "    }\n",
              "    40% {\n",
              "      border-color: transparent;\n",
              "      border-right-color: var(--fill-color);\n",
              "      border-top-color: var(--fill-color);\n",
              "    }\n",
              "    60% {\n",
              "      border-color: transparent;\n",
              "      border-right-color: var(--fill-color);\n",
              "    }\n",
              "    80% {\n",
              "      border-color: transparent;\n",
              "      border-right-color: var(--fill-color);\n",
              "      border-bottom-color: var(--fill-color);\n",
              "    }\n",
              "    90% {\n",
              "      border-color: transparent;\n",
              "      border-bottom-color: var(--fill-color);\n",
              "    }\n",
              "  }\n",
              "</style>\n",
              "\n",
              "  <script>\n",
              "    async function quickchart(key) {\n",
              "      const quickchartButtonEl =\n",
              "        document.querySelector('#' + key + ' button');\n",
              "      quickchartButtonEl.disabled = true;  // To prevent multiple clicks.\n",
              "      quickchartButtonEl.classList.add('colab-df-spinner');\n",
              "      try {\n",
              "        const charts = await google.colab.kernel.invokeFunction(\n",
              "            'suggestCharts', [key], {});\n",
              "      } catch (error) {\n",
              "        console.error('Error during call to suggestCharts:', error);\n",
              "      }\n",
              "      quickchartButtonEl.classList.remove('colab-df-spinner');\n",
              "      quickchartButtonEl.classList.add('colab-df-quickchart-complete');\n",
              "    }\n",
              "    (() => {\n",
              "      let quickchartButtonEl =\n",
              "        document.querySelector('#df-3095addd-cb77-42c7-98b3-34c3be7f4511 button');\n",
              "      quickchartButtonEl.style.display =\n",
              "        google.colab.kernel.accessAllowed ? 'block' : 'none';\n",
              "    })();\n",
              "  </script>\n",
              "</div>\n",
              "\n",
              "    </div>\n",
              "  </div>\n"
            ],
            "application/vnd.google.colaboratory.intrinsic+json": {
              "type": "dataframe",
              "variable_name": "df",
              "summary": "{\n  \"name\": \"df\",\n  \"rows\": 2956,\n  \"fields\": [\n    {\n      \"column\": \"input\",\n      \"properties\": {\n        \"dtype\": \"object\",\n        \"num_unique_values\": 1,\n        \"samples\": [\n          \"\"\n        ],\n        \"semantic_type\": \"\",\n        \"description\": \"\"\n      }\n    },\n    {\n      \"column\": \"text\",\n      \"properties\": {\n        \"dtype\": \"category\",\n        \"num_unique_values\": 1,\n        \"samples\": [\n          \"Here is a classification that determines whether a given text is considered cyberbullying or not; and if so, which kind. \"\n        ],\n        \"semantic_type\": \"\",\n        \"description\": \"\"\n      }\n    },\n    {\n      \"column\": \"instruction\",\n      \"properties\": {\n        \"dtype\": \"string\",\n        \"num_unique_values\": 2950,\n        \"samples\": [\n          \"Krazy-eyes Kat needs a kick in the ku... #MKR #mkr2015\"\n        ],\n        \"semantic_type\": \"\",\n        \"description\": \"\"\n      }\n    },\n    {\n      \"column\": \"output\",\n      \"properties\": {\n        \"dtype\": \"category\",\n        \"num_unique_values\": 6,\n        \"samples\": [\n          \"not_cyberbullying\"\n        ],\n        \"semantic_type\": \"\",\n        \"description\": \"\"\n      }\n    }\n  ]\n}"
            }
          },
          "metadata": {},
          "execution_count": 7
        }
      ],
      "source": [
        "df.head()"
      ]
    },
    {
      "cell_type": "code",
      "source": [
        "def drop_columns(df, columns):\n",
        "    return df.drop(columns=columns, inplace=False)\n",
        "\n",
        "columns_to_drop = ['input', 'text']\n",
        "df = drop_columns(df, columns_to_drop)\n"
      ],
      "metadata": {
        "id": "asVPOWDXfWeM"
      },
      "execution_count": null,
      "outputs": []
    },
    {
      "cell_type": "code",
      "source": [
        "df.head()"
      ],
      "metadata": {
        "colab": {
          "base_uri": "https://localhost:8080/",
          "height": 206
        },
        "id": "aEfOJPnTgJIm",
        "outputId": "127e3ea8-b745-4025-dca5-b82d4ce27e81"
      },
      "execution_count": null,
      "outputs": [
        {
          "output_type": "execute_result",
          "data": {
            "text/plain": [
              "                                         instruction             output\n",
              "0  In other words #katandandre, your food was cra...  not_cyberbullying\n",
              "1  In other words #katandandre, your food was cra...  not_cyberbullying\n",
              "2  Why is #aussietv so white? #MKR #theblock #ImA...  not_cyberbullying\n",
              "3  @XochitlSuckkks a classy whore? Or more red ve...  not_cyberbullying\n",
              "4  @Jason_Gio meh. :P  thanks for the heads up, b...  not_cyberbullying"
            ],
            "text/html": [
              "\n",
              "  <div id=\"df-3526a037-245d-4f57-9a9a-c1af038ad892\" class=\"colab-df-container\">\n",
              "    <div>\n",
              "<style scoped>\n",
              "    .dataframe tbody tr th:only-of-type {\n",
              "        vertical-align: middle;\n",
              "    }\n",
              "\n",
              "    .dataframe tbody tr th {\n",
              "        vertical-align: top;\n",
              "    }\n",
              "\n",
              "    .dataframe thead th {\n",
              "        text-align: right;\n",
              "    }\n",
              "</style>\n",
              "<table border=\"1\" class=\"dataframe\">\n",
              "  <thead>\n",
              "    <tr style=\"text-align: right;\">\n",
              "      <th></th>\n",
              "      <th>instruction</th>\n",
              "      <th>output</th>\n",
              "    </tr>\n",
              "  </thead>\n",
              "  <tbody>\n",
              "    <tr>\n",
              "      <th>0</th>\n",
              "      <td>In other words #katandandre, your food was cra...</td>\n",
              "      <td>not_cyberbullying</td>\n",
              "    </tr>\n",
              "    <tr>\n",
              "      <th>1</th>\n",
              "      <td>In other words #katandandre, your food was cra...</td>\n",
              "      <td>not_cyberbullying</td>\n",
              "    </tr>\n",
              "    <tr>\n",
              "      <th>2</th>\n",
              "      <td>Why is #aussietv so white? #MKR #theblock #ImA...</td>\n",
              "      <td>not_cyberbullying</td>\n",
              "    </tr>\n",
              "    <tr>\n",
              "      <th>3</th>\n",
              "      <td>@XochitlSuckkks a classy whore? Or more red ve...</td>\n",
              "      <td>not_cyberbullying</td>\n",
              "    </tr>\n",
              "    <tr>\n",
              "      <th>4</th>\n",
              "      <td>@Jason_Gio meh. :P  thanks for the heads up, b...</td>\n",
              "      <td>not_cyberbullying</td>\n",
              "    </tr>\n",
              "  </tbody>\n",
              "</table>\n",
              "</div>\n",
              "    <div class=\"colab-df-buttons\">\n",
              "\n",
              "  <div class=\"colab-df-container\">\n",
              "    <button class=\"colab-df-convert\" onclick=\"convertToInteractive('df-3526a037-245d-4f57-9a9a-c1af038ad892')\"\n",
              "            title=\"Convert this dataframe to an interactive table.\"\n",
              "            style=\"display:none;\">\n",
              "\n",
              "  <svg xmlns=\"http://www.w3.org/2000/svg\" height=\"24px\" viewBox=\"0 -960 960 960\">\n",
              "    <path d=\"M120-120v-720h720v720H120Zm60-500h600v-160H180v160Zm220 220h160v-160H400v160Zm0 220h160v-160H400v160ZM180-400h160v-160H180v160Zm440 0h160v-160H620v160ZM180-180h160v-160H180v160Zm440 0h160v-160H620v160Z\"/>\n",
              "  </svg>\n",
              "    </button>\n",
              "\n",
              "  <style>\n",
              "    .colab-df-container {\n",
              "      display:flex;\n",
              "      gap: 12px;\n",
              "    }\n",
              "\n",
              "    .colab-df-convert {\n",
              "      background-color: #E8F0FE;\n",
              "      border: none;\n",
              "      border-radius: 50%;\n",
              "      cursor: pointer;\n",
              "      display: none;\n",
              "      fill: #1967D2;\n",
              "      height: 32px;\n",
              "      padding: 0 0 0 0;\n",
              "      width: 32px;\n",
              "    }\n",
              "\n",
              "    .colab-df-convert:hover {\n",
              "      background-color: #E2EBFA;\n",
              "      box-shadow: 0px 1px 2px rgba(60, 64, 67, 0.3), 0px 1px 3px 1px rgba(60, 64, 67, 0.15);\n",
              "      fill: #174EA6;\n",
              "    }\n",
              "\n",
              "    .colab-df-buttons div {\n",
              "      margin-bottom: 4px;\n",
              "    }\n",
              "\n",
              "    [theme=dark] .colab-df-convert {\n",
              "      background-color: #3B4455;\n",
              "      fill: #D2E3FC;\n",
              "    }\n",
              "\n",
              "    [theme=dark] .colab-df-convert:hover {\n",
              "      background-color: #434B5C;\n",
              "      box-shadow: 0px 1px 3px 1px rgba(0, 0, 0, 0.15);\n",
              "      filter: drop-shadow(0px 1px 2px rgba(0, 0, 0, 0.3));\n",
              "      fill: #FFFFFF;\n",
              "    }\n",
              "  </style>\n",
              "\n",
              "    <script>\n",
              "      const buttonEl =\n",
              "        document.querySelector('#df-3526a037-245d-4f57-9a9a-c1af038ad892 button.colab-df-convert');\n",
              "      buttonEl.style.display =\n",
              "        google.colab.kernel.accessAllowed ? 'block' : 'none';\n",
              "\n",
              "      async function convertToInteractive(key) {\n",
              "        const element = document.querySelector('#df-3526a037-245d-4f57-9a9a-c1af038ad892');\n",
              "        const dataTable =\n",
              "          await google.colab.kernel.invokeFunction('convertToInteractive',\n",
              "                                                    [key], {});\n",
              "        if (!dataTable) return;\n",
              "\n",
              "        const docLinkHtml = 'Like what you see? Visit the ' +\n",
              "          '<a target=\"_blank\" href=https://colab.research.google.com/notebooks/data_table.ipynb>data table notebook</a>'\n",
              "          + ' to learn more about interactive tables.';\n",
              "        element.innerHTML = '';\n",
              "        dataTable['output_type'] = 'display_data';\n",
              "        await google.colab.output.renderOutput(dataTable, element);\n",
              "        const docLink = document.createElement('div');\n",
              "        docLink.innerHTML = docLinkHtml;\n",
              "        element.appendChild(docLink);\n",
              "      }\n",
              "    </script>\n",
              "  </div>\n",
              "\n",
              "\n",
              "<div id=\"df-5d1130d2-3e15-47f1-95fa-4111a9ab8434\">\n",
              "  <button class=\"colab-df-quickchart\" onclick=\"quickchart('df-5d1130d2-3e15-47f1-95fa-4111a9ab8434')\"\n",
              "            title=\"Suggest charts\"\n",
              "            style=\"display:none;\">\n",
              "\n",
              "<svg xmlns=\"http://www.w3.org/2000/svg\" height=\"24px\"viewBox=\"0 0 24 24\"\n",
              "     width=\"24px\">\n",
              "    <g>\n",
              "        <path d=\"M19 3H5c-1.1 0-2 .9-2 2v14c0 1.1.9 2 2 2h14c1.1 0 2-.9 2-2V5c0-1.1-.9-2-2-2zM9 17H7v-7h2v7zm4 0h-2V7h2v10zm4 0h-2v-4h2v4z\"/>\n",
              "    </g>\n",
              "</svg>\n",
              "  </button>\n",
              "\n",
              "<style>\n",
              "  .colab-df-quickchart {\n",
              "      --bg-color: #E8F0FE;\n",
              "      --fill-color: #1967D2;\n",
              "      --hover-bg-color: #E2EBFA;\n",
              "      --hover-fill-color: #174EA6;\n",
              "      --disabled-fill-color: #AAA;\n",
              "      --disabled-bg-color: #DDD;\n",
              "  }\n",
              "\n",
              "  [theme=dark] .colab-df-quickchart {\n",
              "      --bg-color: #3B4455;\n",
              "      --fill-color: #D2E3FC;\n",
              "      --hover-bg-color: #434B5C;\n",
              "      --hover-fill-color: #FFFFFF;\n",
              "      --disabled-bg-color: #3B4455;\n",
              "      --disabled-fill-color: #666;\n",
              "  }\n",
              "\n",
              "  .colab-df-quickchart {\n",
              "    background-color: var(--bg-color);\n",
              "    border: none;\n",
              "    border-radius: 50%;\n",
              "    cursor: pointer;\n",
              "    display: none;\n",
              "    fill: var(--fill-color);\n",
              "    height: 32px;\n",
              "    padding: 0;\n",
              "    width: 32px;\n",
              "  }\n",
              "\n",
              "  .colab-df-quickchart:hover {\n",
              "    background-color: var(--hover-bg-color);\n",
              "    box-shadow: 0 1px 2px rgba(60, 64, 67, 0.3), 0 1px 3px 1px rgba(60, 64, 67, 0.15);\n",
              "    fill: var(--button-hover-fill-color);\n",
              "  }\n",
              "\n",
              "  .colab-df-quickchart-complete:disabled,\n",
              "  .colab-df-quickchart-complete:disabled:hover {\n",
              "    background-color: var(--disabled-bg-color);\n",
              "    fill: var(--disabled-fill-color);\n",
              "    box-shadow: none;\n",
              "  }\n",
              "\n",
              "  .colab-df-spinner {\n",
              "    border: 2px solid var(--fill-color);\n",
              "    border-color: transparent;\n",
              "    border-bottom-color: var(--fill-color);\n",
              "    animation:\n",
              "      spin 1s steps(1) infinite;\n",
              "  }\n",
              "\n",
              "  @keyframes spin {\n",
              "    0% {\n",
              "      border-color: transparent;\n",
              "      border-bottom-color: var(--fill-color);\n",
              "      border-left-color: var(--fill-color);\n",
              "    }\n",
              "    20% {\n",
              "      border-color: transparent;\n",
              "      border-left-color: var(--fill-color);\n",
              "      border-top-color: var(--fill-color);\n",
              "    }\n",
              "    30% {\n",
              "      border-color: transparent;\n",
              "      border-left-color: var(--fill-color);\n",
              "      border-top-color: var(--fill-color);\n",
              "      border-right-color: var(--fill-color);\n",
              "    }\n",
              "    40% {\n",
              "      border-color: transparent;\n",
              "      border-right-color: var(--fill-color);\n",
              "      border-top-color: var(--fill-color);\n",
              "    }\n",
              "    60% {\n",
              "      border-color: transparent;\n",
              "      border-right-color: var(--fill-color);\n",
              "    }\n",
              "    80% {\n",
              "      border-color: transparent;\n",
              "      border-right-color: var(--fill-color);\n",
              "      border-bottom-color: var(--fill-color);\n",
              "    }\n",
              "    90% {\n",
              "      border-color: transparent;\n",
              "      border-bottom-color: var(--fill-color);\n",
              "    }\n",
              "  }\n",
              "</style>\n",
              "\n",
              "  <script>\n",
              "    async function quickchart(key) {\n",
              "      const quickchartButtonEl =\n",
              "        document.querySelector('#' + key + ' button');\n",
              "      quickchartButtonEl.disabled = true;  // To prevent multiple clicks.\n",
              "      quickchartButtonEl.classList.add('colab-df-spinner');\n",
              "      try {\n",
              "        const charts = await google.colab.kernel.invokeFunction(\n",
              "            'suggestCharts', [key], {});\n",
              "      } catch (error) {\n",
              "        console.error('Error during call to suggestCharts:', error);\n",
              "      }\n",
              "      quickchartButtonEl.classList.remove('colab-df-spinner');\n",
              "      quickchartButtonEl.classList.add('colab-df-quickchart-complete');\n",
              "    }\n",
              "    (() => {\n",
              "      let quickchartButtonEl =\n",
              "        document.querySelector('#df-5d1130d2-3e15-47f1-95fa-4111a9ab8434 button');\n",
              "      quickchartButtonEl.style.display =\n",
              "        google.colab.kernel.accessAllowed ? 'block' : 'none';\n",
              "    })();\n",
              "  </script>\n",
              "</div>\n",
              "\n",
              "    </div>\n",
              "  </div>\n"
            ],
            "application/vnd.google.colaboratory.intrinsic+json": {
              "type": "dataframe",
              "variable_name": "df",
              "summary": "{\n  \"name\": \"df\",\n  \"rows\": 2956,\n  \"fields\": [\n    {\n      \"column\": \"instruction\",\n      \"properties\": {\n        \"dtype\": \"string\",\n        \"num_unique_values\": 2950,\n        \"samples\": [\n          \"Krazy-eyes Kat needs a kick in the ku... #MKR #mkr2015\",\n          \"Shoutout to back when GamerGate thought forking #ggautoblocker's repo  excessively would make me renounce open source.\",\n          \"Abolish the police because the correct response when a concerned citizens calls because a black man is walking with a mask on is to point out that such behavior isn\\u2019t a crime, not send out the no. 1 employer of high school bullies.\"\n        ],\n        \"semantic_type\": \"\",\n        \"description\": \"\"\n      }\n    },\n    {\n      \"column\": \"output\",\n      \"properties\": {\n        \"dtype\": \"category\",\n        \"num_unique_values\": 6,\n        \"samples\": [\n          \"not_cyberbullying\",\n          \"gender\",\n          \"ethnicity\"\n        ],\n        \"semantic_type\": \"\",\n        \"description\": \"\"\n      }\n    }\n  ]\n}"
            }
          },
          "metadata": {},
          "execution_count": 9
        }
      ]
    },
    {
      "cell_type": "code",
      "execution_count": null,
      "metadata": {
        "colab": {
          "base_uri": "https://localhost:8080/"
        },
        "id": "vZfMyVT3OpPu",
        "outputId": "4127272f-c559-4183-ecd2-cf4cb256f7f4"
      },
      "outputs": [
        {
          "output_type": "execute_result",
          "data": {
            "text/plain": [
              "output\n",
              "gender                 612\n",
              "religion               562\n",
              "other_cyberbullying    483\n",
              "not_cyberbullying      434\n",
              "age                    433\n",
              "ethnicity              432\n",
              "Name: count, dtype: int64"
            ]
          },
          "metadata": {},
          "execution_count": 10
        }
      ],
      "source": [
        "df['output'].value_counts()"
      ]
    },
    {
      "cell_type": "code",
      "execution_count": null,
      "metadata": {
        "colab": {
          "base_uri": "https://localhost:8080/"
        },
        "id": "ggwekBq66sDs",
        "outputId": "11d8da8c-7558-4d26-ea65-1dba2eb685bf"
      },
      "outputs": [
        {
          "output_type": "stream",
          "name": "stderr",
          "text": [
            "[nltk_data] Downloading package punkt to /root/nltk_data...\n",
            "[nltk_data]   Unzipping tokenizers/punkt.zip.\n",
            "[nltk_data] Downloading package stopwords to /root/nltk_data...\n",
            "[nltk_data]   Unzipping corpora/stopwords.zip.\n",
            "[nltk_data] Downloading package wordnet to /root/nltk_data...\n"
          ]
        },
        {
          "output_type": "execute_result",
          "data": {
            "text/plain": [
              "True"
            ]
          },
          "metadata": {},
          "execution_count": 11
        }
      ],
      "source": [
        "import re\n",
        "import string\n",
        "import nltk\n",
        "from nltk.tokenize import word_tokenize\n",
        "from nltk.corpus import stopwords\n",
        "\n",
        "# Download NLTK resources\n",
        "nltk.download('punkt')\n",
        "nltk.download('stopwords')\n",
        "nltk.download('wordnet')"
      ]
    },
    {
      "cell_type": "code",
      "execution_count": null,
      "metadata": {
        "colab": {
          "base_uri": "https://localhost:8080/",
          "height": 424
        },
        "id": "7HV_qEjQ8xPY",
        "outputId": "f671aa49-f277-45f7-ad43-4fb02b66921e"
      },
      "outputs": [
        {
          "output_type": "execute_result",
          "data": {
            "text/plain": [
              "                                            instruction             output\n",
              "0     In other words #katandandre, your food was cra...  not_cyberbullying\n",
              "1     In other words #katandandre, your food was cra...  not_cyberbullying\n",
              "2     Why is #aussietv so white? #MKR #theblock #ImA...  not_cyberbullying\n",
              "3     @XochitlSuckkks a classy whore? Or more red ve...  not_cyberbullying\n",
              "4     @Jason_Gio meh. :P  thanks for the heads up, b...  not_cyberbullying\n",
              "...                                                 ...                ...\n",
              "2951  U tell ppl its ok if someone ridiculed ur race...          ethnicity\n",
              "2952  @SexiVixenFromMD you're right the lightskin/da...          ethnicity\n",
              "2953  Mad? >>RT @tayyoung_: FUCK OBAMA, dumb ass nigger          ethnicity\n",
              "2954  @RealKayneWest fuck you you dumb nigger I woul...          ethnicity\n",
              "2955  pussy ass bitch dumb muthafuker like fuck u ni...          ethnicity\n",
              "\n",
              "[2956 rows x 2 columns]"
            ],
            "text/html": [
              "\n",
              "  <div id=\"df-48a3b461-74d7-4c12-9bce-214ee40cd79b\" class=\"colab-df-container\">\n",
              "    <div>\n",
              "<style scoped>\n",
              "    .dataframe tbody tr th:only-of-type {\n",
              "        vertical-align: middle;\n",
              "    }\n",
              "\n",
              "    .dataframe tbody tr th {\n",
              "        vertical-align: top;\n",
              "    }\n",
              "\n",
              "    .dataframe thead th {\n",
              "        text-align: right;\n",
              "    }\n",
              "</style>\n",
              "<table border=\"1\" class=\"dataframe\">\n",
              "  <thead>\n",
              "    <tr style=\"text-align: right;\">\n",
              "      <th></th>\n",
              "      <th>instruction</th>\n",
              "      <th>output</th>\n",
              "    </tr>\n",
              "  </thead>\n",
              "  <tbody>\n",
              "    <tr>\n",
              "      <th>0</th>\n",
              "      <td>In other words #katandandre, your food was cra...</td>\n",
              "      <td>not_cyberbullying</td>\n",
              "    </tr>\n",
              "    <tr>\n",
              "      <th>1</th>\n",
              "      <td>In other words #katandandre, your food was cra...</td>\n",
              "      <td>not_cyberbullying</td>\n",
              "    </tr>\n",
              "    <tr>\n",
              "      <th>2</th>\n",
              "      <td>Why is #aussietv so white? #MKR #theblock #ImA...</td>\n",
              "      <td>not_cyberbullying</td>\n",
              "    </tr>\n",
              "    <tr>\n",
              "      <th>3</th>\n",
              "      <td>@XochitlSuckkks a classy whore? Or more red ve...</td>\n",
              "      <td>not_cyberbullying</td>\n",
              "    </tr>\n",
              "    <tr>\n",
              "      <th>4</th>\n",
              "      <td>@Jason_Gio meh. :P  thanks for the heads up, b...</td>\n",
              "      <td>not_cyberbullying</td>\n",
              "    </tr>\n",
              "    <tr>\n",
              "      <th>...</th>\n",
              "      <td>...</td>\n",
              "      <td>...</td>\n",
              "    </tr>\n",
              "    <tr>\n",
              "      <th>2951</th>\n",
              "      <td>U tell ppl its ok if someone ridiculed ur race...</td>\n",
              "      <td>ethnicity</td>\n",
              "    </tr>\n",
              "    <tr>\n",
              "      <th>2952</th>\n",
              "      <td>@SexiVixenFromMD you're right the lightskin/da...</td>\n",
              "      <td>ethnicity</td>\n",
              "    </tr>\n",
              "    <tr>\n",
              "      <th>2953</th>\n",
              "      <td>Mad? &gt;&gt;RT @tayyoung_: FUCK OBAMA, dumb ass nigger</td>\n",
              "      <td>ethnicity</td>\n",
              "    </tr>\n",
              "    <tr>\n",
              "      <th>2954</th>\n",
              "      <td>@RealKayneWest fuck you you dumb nigger I woul...</td>\n",
              "      <td>ethnicity</td>\n",
              "    </tr>\n",
              "    <tr>\n",
              "      <th>2955</th>\n",
              "      <td>pussy ass bitch dumb muthafuker like fuck u ni...</td>\n",
              "      <td>ethnicity</td>\n",
              "    </tr>\n",
              "  </tbody>\n",
              "</table>\n",
              "<p>2956 rows × 2 columns</p>\n",
              "</div>\n",
              "    <div class=\"colab-df-buttons\">\n",
              "\n",
              "  <div class=\"colab-df-container\">\n",
              "    <button class=\"colab-df-convert\" onclick=\"convertToInteractive('df-48a3b461-74d7-4c12-9bce-214ee40cd79b')\"\n",
              "            title=\"Convert this dataframe to an interactive table.\"\n",
              "            style=\"display:none;\">\n",
              "\n",
              "  <svg xmlns=\"http://www.w3.org/2000/svg\" height=\"24px\" viewBox=\"0 -960 960 960\">\n",
              "    <path d=\"M120-120v-720h720v720H120Zm60-500h600v-160H180v160Zm220 220h160v-160H400v160Zm0 220h160v-160H400v160ZM180-400h160v-160H180v160Zm440 0h160v-160H620v160ZM180-180h160v-160H180v160Zm440 0h160v-160H620v160Z\"/>\n",
              "  </svg>\n",
              "    </button>\n",
              "\n",
              "  <style>\n",
              "    .colab-df-container {\n",
              "      display:flex;\n",
              "      gap: 12px;\n",
              "    }\n",
              "\n",
              "    .colab-df-convert {\n",
              "      background-color: #E8F0FE;\n",
              "      border: none;\n",
              "      border-radius: 50%;\n",
              "      cursor: pointer;\n",
              "      display: none;\n",
              "      fill: #1967D2;\n",
              "      height: 32px;\n",
              "      padding: 0 0 0 0;\n",
              "      width: 32px;\n",
              "    }\n",
              "\n",
              "    .colab-df-convert:hover {\n",
              "      background-color: #E2EBFA;\n",
              "      box-shadow: 0px 1px 2px rgba(60, 64, 67, 0.3), 0px 1px 3px 1px rgba(60, 64, 67, 0.15);\n",
              "      fill: #174EA6;\n",
              "    }\n",
              "\n",
              "    .colab-df-buttons div {\n",
              "      margin-bottom: 4px;\n",
              "    }\n",
              "\n",
              "    [theme=dark] .colab-df-convert {\n",
              "      background-color: #3B4455;\n",
              "      fill: #D2E3FC;\n",
              "    }\n",
              "\n",
              "    [theme=dark] .colab-df-convert:hover {\n",
              "      background-color: #434B5C;\n",
              "      box-shadow: 0px 1px 3px 1px rgba(0, 0, 0, 0.15);\n",
              "      filter: drop-shadow(0px 1px 2px rgba(0, 0, 0, 0.3));\n",
              "      fill: #FFFFFF;\n",
              "    }\n",
              "  </style>\n",
              "\n",
              "    <script>\n",
              "      const buttonEl =\n",
              "        document.querySelector('#df-48a3b461-74d7-4c12-9bce-214ee40cd79b button.colab-df-convert');\n",
              "      buttonEl.style.display =\n",
              "        google.colab.kernel.accessAllowed ? 'block' : 'none';\n",
              "\n",
              "      async function convertToInteractive(key) {\n",
              "        const element = document.querySelector('#df-48a3b461-74d7-4c12-9bce-214ee40cd79b');\n",
              "        const dataTable =\n",
              "          await google.colab.kernel.invokeFunction('convertToInteractive',\n",
              "                                                    [key], {});\n",
              "        if (!dataTable) return;\n",
              "\n",
              "        const docLinkHtml = 'Like what you see? Visit the ' +\n",
              "          '<a target=\"_blank\" href=https://colab.research.google.com/notebooks/data_table.ipynb>data table notebook</a>'\n",
              "          + ' to learn more about interactive tables.';\n",
              "        element.innerHTML = '';\n",
              "        dataTable['output_type'] = 'display_data';\n",
              "        await google.colab.output.renderOutput(dataTable, element);\n",
              "        const docLink = document.createElement('div');\n",
              "        docLink.innerHTML = docLinkHtml;\n",
              "        element.appendChild(docLink);\n",
              "      }\n",
              "    </script>\n",
              "  </div>\n",
              "\n",
              "\n",
              "<div id=\"df-3f0a6d75-f82d-4013-8199-9a0c1cf45819\">\n",
              "  <button class=\"colab-df-quickchart\" onclick=\"quickchart('df-3f0a6d75-f82d-4013-8199-9a0c1cf45819')\"\n",
              "            title=\"Suggest charts\"\n",
              "            style=\"display:none;\">\n",
              "\n",
              "<svg xmlns=\"http://www.w3.org/2000/svg\" height=\"24px\"viewBox=\"0 0 24 24\"\n",
              "     width=\"24px\">\n",
              "    <g>\n",
              "        <path d=\"M19 3H5c-1.1 0-2 .9-2 2v14c0 1.1.9 2 2 2h14c1.1 0 2-.9 2-2V5c0-1.1-.9-2-2-2zM9 17H7v-7h2v7zm4 0h-2V7h2v10zm4 0h-2v-4h2v4z\"/>\n",
              "    </g>\n",
              "</svg>\n",
              "  </button>\n",
              "\n",
              "<style>\n",
              "  .colab-df-quickchart {\n",
              "      --bg-color: #E8F0FE;\n",
              "      --fill-color: #1967D2;\n",
              "      --hover-bg-color: #E2EBFA;\n",
              "      --hover-fill-color: #174EA6;\n",
              "      --disabled-fill-color: #AAA;\n",
              "      --disabled-bg-color: #DDD;\n",
              "  }\n",
              "\n",
              "  [theme=dark] .colab-df-quickchart {\n",
              "      --bg-color: #3B4455;\n",
              "      --fill-color: #D2E3FC;\n",
              "      --hover-bg-color: #434B5C;\n",
              "      --hover-fill-color: #FFFFFF;\n",
              "      --disabled-bg-color: #3B4455;\n",
              "      --disabled-fill-color: #666;\n",
              "  }\n",
              "\n",
              "  .colab-df-quickchart {\n",
              "    background-color: var(--bg-color);\n",
              "    border: none;\n",
              "    border-radius: 50%;\n",
              "    cursor: pointer;\n",
              "    display: none;\n",
              "    fill: var(--fill-color);\n",
              "    height: 32px;\n",
              "    padding: 0;\n",
              "    width: 32px;\n",
              "  }\n",
              "\n",
              "  .colab-df-quickchart:hover {\n",
              "    background-color: var(--hover-bg-color);\n",
              "    box-shadow: 0 1px 2px rgba(60, 64, 67, 0.3), 0 1px 3px 1px rgba(60, 64, 67, 0.15);\n",
              "    fill: var(--button-hover-fill-color);\n",
              "  }\n",
              "\n",
              "  .colab-df-quickchart-complete:disabled,\n",
              "  .colab-df-quickchart-complete:disabled:hover {\n",
              "    background-color: var(--disabled-bg-color);\n",
              "    fill: var(--disabled-fill-color);\n",
              "    box-shadow: none;\n",
              "  }\n",
              "\n",
              "  .colab-df-spinner {\n",
              "    border: 2px solid var(--fill-color);\n",
              "    border-color: transparent;\n",
              "    border-bottom-color: var(--fill-color);\n",
              "    animation:\n",
              "      spin 1s steps(1) infinite;\n",
              "  }\n",
              "\n",
              "  @keyframes spin {\n",
              "    0% {\n",
              "      border-color: transparent;\n",
              "      border-bottom-color: var(--fill-color);\n",
              "      border-left-color: var(--fill-color);\n",
              "    }\n",
              "    20% {\n",
              "      border-color: transparent;\n",
              "      border-left-color: var(--fill-color);\n",
              "      border-top-color: var(--fill-color);\n",
              "    }\n",
              "    30% {\n",
              "      border-color: transparent;\n",
              "      border-left-color: var(--fill-color);\n",
              "      border-top-color: var(--fill-color);\n",
              "      border-right-color: var(--fill-color);\n",
              "    }\n",
              "    40% {\n",
              "      border-color: transparent;\n",
              "      border-right-color: var(--fill-color);\n",
              "      border-top-color: var(--fill-color);\n",
              "    }\n",
              "    60% {\n",
              "      border-color: transparent;\n",
              "      border-right-color: var(--fill-color);\n",
              "    }\n",
              "    80% {\n",
              "      border-color: transparent;\n",
              "      border-right-color: var(--fill-color);\n",
              "      border-bottom-color: var(--fill-color);\n",
              "    }\n",
              "    90% {\n",
              "      border-color: transparent;\n",
              "      border-bottom-color: var(--fill-color);\n",
              "    }\n",
              "  }\n",
              "</style>\n",
              "\n",
              "  <script>\n",
              "    async function quickchart(key) {\n",
              "      const quickchartButtonEl =\n",
              "        document.querySelector('#' + key + ' button');\n",
              "      quickchartButtonEl.disabled = true;  // To prevent multiple clicks.\n",
              "      quickchartButtonEl.classList.add('colab-df-spinner');\n",
              "      try {\n",
              "        const charts = await google.colab.kernel.invokeFunction(\n",
              "            'suggestCharts', [key], {});\n",
              "      } catch (error) {\n",
              "        console.error('Error during call to suggestCharts:', error);\n",
              "      }\n",
              "      quickchartButtonEl.classList.remove('colab-df-spinner');\n",
              "      quickchartButtonEl.classList.add('colab-df-quickchart-complete');\n",
              "    }\n",
              "    (() => {\n",
              "      let quickchartButtonEl =\n",
              "        document.querySelector('#df-3f0a6d75-f82d-4013-8199-9a0c1cf45819 button');\n",
              "      quickchartButtonEl.style.display =\n",
              "        google.colab.kernel.accessAllowed ? 'block' : 'none';\n",
              "    })();\n",
              "  </script>\n",
              "</div>\n",
              "\n",
              "  <div id=\"id_f357e02c-1ce2-4676-8764-ac5769bef8f4\">\n",
              "    <style>\n",
              "      .colab-df-generate {\n",
              "        background-color: #E8F0FE;\n",
              "        border: none;\n",
              "        border-radius: 50%;\n",
              "        cursor: pointer;\n",
              "        display: none;\n",
              "        fill: #1967D2;\n",
              "        height: 32px;\n",
              "        padding: 0 0 0 0;\n",
              "        width: 32px;\n",
              "      }\n",
              "\n",
              "      .colab-df-generate:hover {\n",
              "        background-color: #E2EBFA;\n",
              "        box-shadow: 0px 1px 2px rgba(60, 64, 67, 0.3), 0px 1px 3px 1px rgba(60, 64, 67, 0.15);\n",
              "        fill: #174EA6;\n",
              "      }\n",
              "\n",
              "      [theme=dark] .colab-df-generate {\n",
              "        background-color: #3B4455;\n",
              "        fill: #D2E3FC;\n",
              "      }\n",
              "\n",
              "      [theme=dark] .colab-df-generate:hover {\n",
              "        background-color: #434B5C;\n",
              "        box-shadow: 0px 1px 3px 1px rgba(0, 0, 0, 0.15);\n",
              "        filter: drop-shadow(0px 1px 2px rgba(0, 0, 0, 0.3));\n",
              "        fill: #FFFFFF;\n",
              "      }\n",
              "    </style>\n",
              "    <button class=\"colab-df-generate\" onclick=\"generateWithVariable('df')\"\n",
              "            title=\"Generate code using this dataframe.\"\n",
              "            style=\"display:none;\">\n",
              "\n",
              "  <svg xmlns=\"http://www.w3.org/2000/svg\" height=\"24px\"viewBox=\"0 0 24 24\"\n",
              "       width=\"24px\">\n",
              "    <path d=\"M7,19H8.4L18.45,9,17,7.55,7,17.6ZM5,21V16.75L18.45,3.32a2,2,0,0,1,2.83,0l1.4,1.43a1.91,1.91,0,0,1,.58,1.4,1.91,1.91,0,0,1-.58,1.4L9.25,21ZM18.45,9,17,7.55Zm-12,3A5.31,5.31,0,0,0,4.9,8.1,5.31,5.31,0,0,0,1,6.5,5.31,5.31,0,0,0,4.9,4.9,5.31,5.31,0,0,0,6.5,1,5.31,5.31,0,0,0,8.1,4.9,5.31,5.31,0,0,0,12,6.5,5.46,5.46,0,0,0,6.5,12Z\"/>\n",
              "  </svg>\n",
              "    </button>\n",
              "    <script>\n",
              "      (() => {\n",
              "      const buttonEl =\n",
              "        document.querySelector('#id_f357e02c-1ce2-4676-8764-ac5769bef8f4 button.colab-df-generate');\n",
              "      buttonEl.style.display =\n",
              "        google.colab.kernel.accessAllowed ? 'block' : 'none';\n",
              "\n",
              "      buttonEl.onclick = () => {\n",
              "        google.colab.notebook.generateWithVariable('df');\n",
              "      }\n",
              "      })();\n",
              "    </script>\n",
              "  </div>\n",
              "\n",
              "    </div>\n",
              "  </div>\n"
            ],
            "application/vnd.google.colaboratory.intrinsic+json": {
              "type": "dataframe",
              "variable_name": "df",
              "summary": "{\n  \"name\": \"df\",\n  \"rows\": 2956,\n  \"fields\": [\n    {\n      \"column\": \"instruction\",\n      \"properties\": {\n        \"dtype\": \"string\",\n        \"num_unique_values\": 2950,\n        \"samples\": [\n          \"Krazy-eyes Kat needs a kick in the ku... #MKR #mkr2015\",\n          \"Shoutout to back when GamerGate thought forking #ggautoblocker's repo  excessively would make me renounce open source.\",\n          \"Abolish the police because the correct response when a concerned citizens calls because a black man is walking with a mask on is to point out that such behavior isn\\u2019t a crime, not send out the no. 1 employer of high school bullies.\"\n        ],\n        \"semantic_type\": \"\",\n        \"description\": \"\"\n      }\n    },\n    {\n      \"column\": \"output\",\n      \"properties\": {\n        \"dtype\": \"category\",\n        \"num_unique_values\": 6,\n        \"samples\": [\n          \"not_cyberbullying\",\n          \"gender\",\n          \"ethnicity\"\n        ],\n        \"semantic_type\": \"\",\n        \"description\": \"\"\n      }\n    }\n  ]\n}"
            }
          },
          "metadata": {},
          "execution_count": 12
        }
      ],
      "source": [
        "df"
      ]
    },
    {
      "cell_type": "code",
      "source": [
        "# Assign values to cyberbullying types\n",
        "cyberbullying_type_mapping = {\n",
        "    \"age\": 1,\n",
        "    \"ethnicity\": 2,\n",
        "    \"gender\": 3,\n",
        "    \"not_cyberbullying\": 4,\n",
        "    \"other_cyberbullying\": 5,\n",
        "    \"religion\": 6\n",
        "}\n",
        "df['output'] = df['output'].map(cyberbullying_type_mapping)"
      ],
      "metadata": {
        "id": "7DnSPhsSlnxF"
      },
      "execution_count": null,
      "outputs": []
    },
    {
      "cell_type": "code",
      "source": [
        "df.head()"
      ],
      "metadata": {
        "colab": {
          "base_uri": "https://localhost:8080/",
          "height": 206
        },
        "id": "BPpjpPpDl-x_",
        "outputId": "4dad9490-4d7c-4226-f1c7-5d0b64c17f52"
      },
      "execution_count": null,
      "outputs": [
        {
          "output_type": "execute_result",
          "data": {
            "text/plain": [
              "                                         instruction  output\n",
              "0  In other words #katandandre, your food was cra...       4\n",
              "1  In other words #katandandre, your food was cra...       4\n",
              "2  Why is #aussietv so white? #MKR #theblock #ImA...       4\n",
              "3  @XochitlSuckkks a classy whore? Or more red ve...       4\n",
              "4  @Jason_Gio meh. :P  thanks for the heads up, b...       4"
            ],
            "text/html": [
              "\n",
              "  <div id=\"df-3252f91a-8448-4307-9e10-624de957c416\" class=\"colab-df-container\">\n",
              "    <div>\n",
              "<style scoped>\n",
              "    .dataframe tbody tr th:only-of-type {\n",
              "        vertical-align: middle;\n",
              "    }\n",
              "\n",
              "    .dataframe tbody tr th {\n",
              "        vertical-align: top;\n",
              "    }\n",
              "\n",
              "    .dataframe thead th {\n",
              "        text-align: right;\n",
              "    }\n",
              "</style>\n",
              "<table border=\"1\" class=\"dataframe\">\n",
              "  <thead>\n",
              "    <tr style=\"text-align: right;\">\n",
              "      <th></th>\n",
              "      <th>instruction</th>\n",
              "      <th>output</th>\n",
              "    </tr>\n",
              "  </thead>\n",
              "  <tbody>\n",
              "    <tr>\n",
              "      <th>0</th>\n",
              "      <td>In other words #katandandre, your food was cra...</td>\n",
              "      <td>4</td>\n",
              "    </tr>\n",
              "    <tr>\n",
              "      <th>1</th>\n",
              "      <td>In other words #katandandre, your food was cra...</td>\n",
              "      <td>4</td>\n",
              "    </tr>\n",
              "    <tr>\n",
              "      <th>2</th>\n",
              "      <td>Why is #aussietv so white? #MKR #theblock #ImA...</td>\n",
              "      <td>4</td>\n",
              "    </tr>\n",
              "    <tr>\n",
              "      <th>3</th>\n",
              "      <td>@XochitlSuckkks a classy whore? Or more red ve...</td>\n",
              "      <td>4</td>\n",
              "    </tr>\n",
              "    <tr>\n",
              "      <th>4</th>\n",
              "      <td>@Jason_Gio meh. :P  thanks for the heads up, b...</td>\n",
              "      <td>4</td>\n",
              "    </tr>\n",
              "  </tbody>\n",
              "</table>\n",
              "</div>\n",
              "    <div class=\"colab-df-buttons\">\n",
              "\n",
              "  <div class=\"colab-df-container\">\n",
              "    <button class=\"colab-df-convert\" onclick=\"convertToInteractive('df-3252f91a-8448-4307-9e10-624de957c416')\"\n",
              "            title=\"Convert this dataframe to an interactive table.\"\n",
              "            style=\"display:none;\">\n",
              "\n",
              "  <svg xmlns=\"http://www.w3.org/2000/svg\" height=\"24px\" viewBox=\"0 -960 960 960\">\n",
              "    <path d=\"M120-120v-720h720v720H120Zm60-500h600v-160H180v160Zm220 220h160v-160H400v160Zm0 220h160v-160H400v160ZM180-400h160v-160H180v160Zm440 0h160v-160H620v160ZM180-180h160v-160H180v160Zm440 0h160v-160H620v160Z\"/>\n",
              "  </svg>\n",
              "    </button>\n",
              "\n",
              "  <style>\n",
              "    .colab-df-container {\n",
              "      display:flex;\n",
              "      gap: 12px;\n",
              "    }\n",
              "\n",
              "    .colab-df-convert {\n",
              "      background-color: #E8F0FE;\n",
              "      border: none;\n",
              "      border-radius: 50%;\n",
              "      cursor: pointer;\n",
              "      display: none;\n",
              "      fill: #1967D2;\n",
              "      height: 32px;\n",
              "      padding: 0 0 0 0;\n",
              "      width: 32px;\n",
              "    }\n",
              "\n",
              "    .colab-df-convert:hover {\n",
              "      background-color: #E2EBFA;\n",
              "      box-shadow: 0px 1px 2px rgba(60, 64, 67, 0.3), 0px 1px 3px 1px rgba(60, 64, 67, 0.15);\n",
              "      fill: #174EA6;\n",
              "    }\n",
              "\n",
              "    .colab-df-buttons div {\n",
              "      margin-bottom: 4px;\n",
              "    }\n",
              "\n",
              "    [theme=dark] .colab-df-convert {\n",
              "      background-color: #3B4455;\n",
              "      fill: #D2E3FC;\n",
              "    }\n",
              "\n",
              "    [theme=dark] .colab-df-convert:hover {\n",
              "      background-color: #434B5C;\n",
              "      box-shadow: 0px 1px 3px 1px rgba(0, 0, 0, 0.15);\n",
              "      filter: drop-shadow(0px 1px 2px rgba(0, 0, 0, 0.3));\n",
              "      fill: #FFFFFF;\n",
              "    }\n",
              "  </style>\n",
              "\n",
              "    <script>\n",
              "      const buttonEl =\n",
              "        document.querySelector('#df-3252f91a-8448-4307-9e10-624de957c416 button.colab-df-convert');\n",
              "      buttonEl.style.display =\n",
              "        google.colab.kernel.accessAllowed ? 'block' : 'none';\n",
              "\n",
              "      async function convertToInteractive(key) {\n",
              "        const element = document.querySelector('#df-3252f91a-8448-4307-9e10-624de957c416');\n",
              "        const dataTable =\n",
              "          await google.colab.kernel.invokeFunction('convertToInteractive',\n",
              "                                                    [key], {});\n",
              "        if (!dataTable) return;\n",
              "\n",
              "        const docLinkHtml = 'Like what you see? Visit the ' +\n",
              "          '<a target=\"_blank\" href=https://colab.research.google.com/notebooks/data_table.ipynb>data table notebook</a>'\n",
              "          + ' to learn more about interactive tables.';\n",
              "        element.innerHTML = '';\n",
              "        dataTable['output_type'] = 'display_data';\n",
              "        await google.colab.output.renderOutput(dataTable, element);\n",
              "        const docLink = document.createElement('div');\n",
              "        docLink.innerHTML = docLinkHtml;\n",
              "        element.appendChild(docLink);\n",
              "      }\n",
              "    </script>\n",
              "  </div>\n",
              "\n",
              "\n",
              "<div id=\"df-b18cbf55-9c85-472b-9f55-56666d11257a\">\n",
              "  <button class=\"colab-df-quickchart\" onclick=\"quickchart('df-b18cbf55-9c85-472b-9f55-56666d11257a')\"\n",
              "            title=\"Suggest charts\"\n",
              "            style=\"display:none;\">\n",
              "\n",
              "<svg xmlns=\"http://www.w3.org/2000/svg\" height=\"24px\"viewBox=\"0 0 24 24\"\n",
              "     width=\"24px\">\n",
              "    <g>\n",
              "        <path d=\"M19 3H5c-1.1 0-2 .9-2 2v14c0 1.1.9 2 2 2h14c1.1 0 2-.9 2-2V5c0-1.1-.9-2-2-2zM9 17H7v-7h2v7zm4 0h-2V7h2v10zm4 0h-2v-4h2v4z\"/>\n",
              "    </g>\n",
              "</svg>\n",
              "  </button>\n",
              "\n",
              "<style>\n",
              "  .colab-df-quickchart {\n",
              "      --bg-color: #E8F0FE;\n",
              "      --fill-color: #1967D2;\n",
              "      --hover-bg-color: #E2EBFA;\n",
              "      --hover-fill-color: #174EA6;\n",
              "      --disabled-fill-color: #AAA;\n",
              "      --disabled-bg-color: #DDD;\n",
              "  }\n",
              "\n",
              "  [theme=dark] .colab-df-quickchart {\n",
              "      --bg-color: #3B4455;\n",
              "      --fill-color: #D2E3FC;\n",
              "      --hover-bg-color: #434B5C;\n",
              "      --hover-fill-color: #FFFFFF;\n",
              "      --disabled-bg-color: #3B4455;\n",
              "      --disabled-fill-color: #666;\n",
              "  }\n",
              "\n",
              "  .colab-df-quickchart {\n",
              "    background-color: var(--bg-color);\n",
              "    border: none;\n",
              "    border-radius: 50%;\n",
              "    cursor: pointer;\n",
              "    display: none;\n",
              "    fill: var(--fill-color);\n",
              "    height: 32px;\n",
              "    padding: 0;\n",
              "    width: 32px;\n",
              "  }\n",
              "\n",
              "  .colab-df-quickchart:hover {\n",
              "    background-color: var(--hover-bg-color);\n",
              "    box-shadow: 0 1px 2px rgba(60, 64, 67, 0.3), 0 1px 3px 1px rgba(60, 64, 67, 0.15);\n",
              "    fill: var(--button-hover-fill-color);\n",
              "  }\n",
              "\n",
              "  .colab-df-quickchart-complete:disabled,\n",
              "  .colab-df-quickchart-complete:disabled:hover {\n",
              "    background-color: var(--disabled-bg-color);\n",
              "    fill: var(--disabled-fill-color);\n",
              "    box-shadow: none;\n",
              "  }\n",
              "\n",
              "  .colab-df-spinner {\n",
              "    border: 2px solid var(--fill-color);\n",
              "    border-color: transparent;\n",
              "    border-bottom-color: var(--fill-color);\n",
              "    animation:\n",
              "      spin 1s steps(1) infinite;\n",
              "  }\n",
              "\n",
              "  @keyframes spin {\n",
              "    0% {\n",
              "      border-color: transparent;\n",
              "      border-bottom-color: var(--fill-color);\n",
              "      border-left-color: var(--fill-color);\n",
              "    }\n",
              "    20% {\n",
              "      border-color: transparent;\n",
              "      border-left-color: var(--fill-color);\n",
              "      border-top-color: var(--fill-color);\n",
              "    }\n",
              "    30% {\n",
              "      border-color: transparent;\n",
              "      border-left-color: var(--fill-color);\n",
              "      border-top-color: var(--fill-color);\n",
              "      border-right-color: var(--fill-color);\n",
              "    }\n",
              "    40% {\n",
              "      border-color: transparent;\n",
              "      border-right-color: var(--fill-color);\n",
              "      border-top-color: var(--fill-color);\n",
              "    }\n",
              "    60% {\n",
              "      border-color: transparent;\n",
              "      border-right-color: var(--fill-color);\n",
              "    }\n",
              "    80% {\n",
              "      border-color: transparent;\n",
              "      border-right-color: var(--fill-color);\n",
              "      border-bottom-color: var(--fill-color);\n",
              "    }\n",
              "    90% {\n",
              "      border-color: transparent;\n",
              "      border-bottom-color: var(--fill-color);\n",
              "    }\n",
              "  }\n",
              "</style>\n",
              "\n",
              "  <script>\n",
              "    async function quickchart(key) {\n",
              "      const quickchartButtonEl =\n",
              "        document.querySelector('#' + key + ' button');\n",
              "      quickchartButtonEl.disabled = true;  // To prevent multiple clicks.\n",
              "      quickchartButtonEl.classList.add('colab-df-spinner');\n",
              "      try {\n",
              "        const charts = await google.colab.kernel.invokeFunction(\n",
              "            'suggestCharts', [key], {});\n",
              "      } catch (error) {\n",
              "        console.error('Error during call to suggestCharts:', error);\n",
              "      }\n",
              "      quickchartButtonEl.classList.remove('colab-df-spinner');\n",
              "      quickchartButtonEl.classList.add('colab-df-quickchart-complete');\n",
              "    }\n",
              "    (() => {\n",
              "      let quickchartButtonEl =\n",
              "        document.querySelector('#df-b18cbf55-9c85-472b-9f55-56666d11257a button');\n",
              "      quickchartButtonEl.style.display =\n",
              "        google.colab.kernel.accessAllowed ? 'block' : 'none';\n",
              "    })();\n",
              "  </script>\n",
              "</div>\n",
              "\n",
              "    </div>\n",
              "  </div>\n"
            ],
            "application/vnd.google.colaboratory.intrinsic+json": {
              "type": "dataframe",
              "variable_name": "df",
              "summary": "{\n  \"name\": \"df\",\n  \"rows\": 2956,\n  \"fields\": [\n    {\n      \"column\": \"instruction\",\n      \"properties\": {\n        \"dtype\": \"string\",\n        \"num_unique_values\": 2950,\n        \"samples\": [\n          \"Krazy-eyes Kat needs a kick in the ku... #MKR #mkr2015\",\n          \"Shoutout to back when GamerGate thought forking #ggautoblocker's repo  excessively would make me renounce open source.\",\n          \"Abolish the police because the correct response when a concerned citizens calls because a black man is walking with a mask on is to point out that such behavior isn\\u2019t a crime, not send out the no. 1 employer of high school bullies.\"\n        ],\n        \"semantic_type\": \"\",\n        \"description\": \"\"\n      }\n    },\n    {\n      \"column\": \"output\",\n      \"properties\": {\n        \"dtype\": \"number\",\n        \"std\": 1,\n        \"min\": 1,\n        \"max\": 6,\n        \"num_unique_values\": 6,\n        \"samples\": [\n          4,\n          3,\n          2\n        ],\n        \"semantic_type\": \"\",\n        \"description\": \"\"\n      }\n    }\n  ]\n}"
            }
          },
          "metadata": {},
          "execution_count": 14
        }
      ]
    },
    {
      "cell_type": "code",
      "execution_count": null,
      "metadata": {
        "colab": {
          "base_uri": "https://localhost:8080/"
        },
        "id": "hc7ugzIL9XAV",
        "outputId": "e939bb14-cdab-45bc-e8fe-56ada85ae5d3"
      },
      "outputs": [
        {
          "output_type": "stream",
          "name": "stdout",
          "text": [
            "                                         instruction  output\n",
            "0                            words food crapilicious       4\n",
            "1                            words food crapilicious       4\n",
            "2                                              white       4\n",
            "3                   classy whore red velvet cupcakes       4\n",
            "4  meh p thanks heads concerned another angry dud...       4\n"
          ]
        }
      ],
      "source": [
        "def preprocess_text(text):\n",
        "\n",
        "    # Lowercasing\n",
        "    text = text.lower()\n",
        "\n",
        "    # Replace links with 'link'\n",
        "    text = re.sub(r'http\\S+|www\\S+', 'link', text)\n",
        "\n",
        "    # Remove mentions (words starting with @)\n",
        "    text = re.sub(r'@\\w+', '', text)\n",
        "\n",
        "    #remove hashtags\n",
        "    text = re.sub(r'#\\w+', '', text)\n",
        "\n",
        "    # Tokenization\n",
        "    tokens = word_tokenize(text)\n",
        "\n",
        "    # Removing Punctuation and Special Characters\n",
        "    tokens = [word for word in tokens if word.isalnum()]\n",
        "\n",
        "    # Removing Stopwords\n",
        "    stop_words = set(stopwords.words('english'))\n",
        "    tokens = [word for word in tokens if word not in stop_words]\n",
        "\n",
        "    # Join tokens back into a single string\n",
        "    preprocessed_text = ' '.join(tokens)\n",
        "\n",
        "    return preprocessed_text\n",
        "\n",
        "# Applying text preprocessing to the 'instruction' column in the DataFrame\n",
        "df['instruction'] = df['instruction'].apply(preprocess_text)\n",
        "\n",
        "print(df.head())"
      ]
    },
    {
      "cell_type": "code",
      "source": [
        "# Function to remove emoticons from text\n",
        "def remove_emoticons(text):\n",
        "    return re.sub(r'(?::|;|=)(?:-)?(?:\\)|\\(|D|P)', '', text)\n",
        "\n",
        "df['instruction'] = df['instruction'].apply(remove_emoticons)"
      ],
      "metadata": {
        "id": "n3KbJZoK9DNH"
      },
      "execution_count": null,
      "outputs": []
    },
    {
      "cell_type": "code",
      "execution_count": null,
      "metadata": {
        "colab": {
          "base_uri": "https://localhost:8080/"
        },
        "id": "BhaOljxf_wv2",
        "outputId": "41d2db15-18f7-4f9f-b3cb-7f8b9af2118d"
      },
      "outputs": [
        {
          "output_type": "stream",
          "name": "stdout",
          "text": [
            "                                         instruction  \\\n",
            "0                            words food crapilicious   \n",
            "1                            words food crapilicious   \n",
            "2                                              white   \n",
            "3                   classy whore red velvet cupcakes   \n",
            "4  meh p thanks heads concerned another angry dud...   \n",
            "\n",
            "                                              tokens  \n",
            "0                        [words, food, crapilicious]  \n",
            "1                        [words, food, crapilicious]  \n",
            "2                                            [white]  \n",
            "3             [classy, whore, red, velvet, cupcakes]  \n",
            "4  [meh, p, thanks, heads, concerned, another, an...  \n"
          ]
        }
      ],
      "source": [
        "\n",
        "#Tokenize data\n",
        "from nltk.tokenize import word_tokenize\n",
        "\n",
        "df['tokens'] = df['instruction'].apply(word_tokenize)\n",
        "\n",
        "# Display the DataFrame with tokenized text\n",
        "print(df[['instruction', 'tokens']].head())"
      ]
    },
    {
      "cell_type": "code",
      "execution_count": null,
      "metadata": {
        "colab": {
          "base_uri": "https://localhost:8080/"
        },
        "id": "u44i2gbWAlHa",
        "outputId": "e4c2be16-a616-4d24-b5d8-071a80d99251"
      },
      "outputs": [
        {
          "output_type": "stream",
          "name": "stderr",
          "text": [
            "[nltk_data] Downloading package stopwords to /root/nltk_data...\n",
            "[nltk_data]   Package stopwords is already up-to-date!\n"
          ]
        }
      ],
      "source": [
        "# NLTK stopwords\n",
        "nltk.download('stopwords')\n",
        "stop_words = set(stopwords.words('english'))"
      ]
    },
    {
      "cell_type": "code",
      "execution_count": null,
      "metadata": {
        "id": "H51GPTNqEPcM"
      },
      "outputs": [],
      "source": [
        "\n",
        "# Function to remove stopwords\n",
        "def remove_stopwords(text):\n",
        "    return ' '.join(word for word in text.split() if word.lower() not in stop_words)\n",
        "\n",
        "df['instruction'] = df['instruction'].apply(remove_stopwords)\n"
      ]
    },
    {
      "cell_type": "code",
      "execution_count": null,
      "metadata": {
        "colab": {
          "base_uri": "https://localhost:8080/"
        },
        "id": "GqTG7uZMFIqQ",
        "outputId": "a090b35f-05b2-497c-bbe2-d4662065b1b3"
      },
      "outputs": [
        {
          "output_type": "execute_result",
          "data": {
            "text/plain": [
              "0                                 words food crapilicious\n",
              "1                                 words food crapilicious\n",
              "2                                                   white\n",
              "3                        classy whore red velvet cupcakes\n",
              "4       meh p thanks heads concerned another angry dud...\n",
              "                              ...                        \n",
              "2951    u tell ppl ok someone ridiculed ur race cuz so...\n",
              "2952    right battle dumb fuck cuz whites see nigger e...\n",
              "2953                    mad rt fuck obama dumb ass nigger\n",
              "2954    fuck dumb nigger would never stand fuckin show...\n",
              "2955    pussy ass bitch dumb muthafuker like fuck u ni...\n",
              "Name: instruction, Length: 2956, dtype: object"
            ]
          },
          "metadata": {},
          "execution_count": 20
        }
      ],
      "source": [
        "df['instruction']"
      ]
    },
    {
      "cell_type": "code",
      "execution_count": null,
      "metadata": {
        "id": "hbXH612GDkbd",
        "colab": {
          "base_uri": "https://localhost:8080/"
        },
        "outputId": "788d8030-9a06-4142-995c-d9c4498da4b5"
      },
      "outputs": [
        {
          "output_type": "stream",
          "name": "stdout",
          "text": [
            "Feature Names: ['000' '05' '10' ... 'محمد' 'مدينة' '𝓂𝒶𝓉𝓉𝒽𝑒𝓌']\n",
            "Document-Term Matrix:\n",
            " [[0 0 0 ... 0 0 0]\n",
            " [0 0 0 ... 0 0 0]\n",
            " [0 0 0 ... 0 0 0]\n",
            " ...\n",
            " [0 0 0 ... 0 0 0]\n",
            " [0 0 0 ... 0 0 0]\n",
            " [0 0 0 ... 0 0 0]]\n",
            "Feature Names: ['000 serbian' '05 death' '10 able' ... 'محمد بن' 'مدينة محمد'\n",
            " '𝓂𝒶𝓉𝓉𝒽𝑒𝓌 gcu']\n",
            "Document-Term Matrix:\n",
            " [[0 0 0 ... 0 0 0]\n",
            " [0 0 0 ... 0 0 0]\n",
            " [0 0 0 ... 0 0 0]\n",
            " ...\n",
            " [0 0 0 ... 0 0 0]\n",
            " [0 0 0 ... 0 0 0]\n",
            " [0 0 0 ... 0 0 0]]\n",
            "Feature Names: ['000 serbian civilians' '05 death threats' '10 able talk' ...\n",
            " 'محمد بن زايد' 'مدينة محمد بن' '𝓂𝒶𝓉𝓉𝒽𝑒𝓌 gcu girls']\n",
            "Document-Term Matrix:\n",
            " [[0 0 0 ... 0 0 0]\n",
            " [0 0 0 ... 0 0 0]\n",
            " [0 0 0 ... 0 0 0]\n",
            " ...\n",
            " [0 0 0 ... 0 0 0]\n",
            " [0 0 0 ... 0 0 0]\n",
            " [0 0 0 ... 0 0 0]]\n"
          ]
        }
      ],
      "source": [
        "# Import libraries\n",
        "from sklearn.feature_extraction.text import CountVectorizer\n",
        "\n",
        "# Create the Bag-of-Words model with unigrams\n",
        "vectorizer = CountVectorizer(ngram_range=(1, 1))\n",
        "X1 = vectorizer.fit_transform(df[\"instruction\"])\n",
        "\n",
        "# Print the feature names and the document-term matrix\n",
        "print(\"Feature Names:\", vectorizer.get_feature_names_out())\n",
        "print(\"Document-Term Matrix:\\n\", X1.toarray())\n",
        "\n",
        "\n",
        "# Create the Bag-of-Words model with bigrams\n",
        "vectorizer = CountVectorizer(ngram_range=(2, 2))\n",
        "X2 = vectorizer.fit_transform(df[\"instruction\"])\n",
        "\n",
        "# Print the feature names and the document-term matrix\n",
        "print(\"Feature Names:\", vectorizer.get_feature_names_out())\n",
        "print(\"Document-Term Matrix:\\n\", X2.toarray())\n",
        "\n",
        "# Create the Bag-of-Words model with trigrams\n",
        "vectorizer = CountVectorizer(ngram_range=(3, 3))\n",
        "X3 = vectorizer.fit_transform(df[\"instruction\"])\n",
        "\n",
        "# Print the feature names and the document-term matrix\n",
        "print(\"Feature Names:\", vectorizer.get_feature_names_out())\n",
        "print(\"Document-Term Matrix:\\n\", X3.toarray())\n"
      ]
    },
    {
      "cell_type": "code",
      "source": [
        "X1.shape #unigram"
      ],
      "metadata": {
        "colab": {
          "base_uri": "https://localhost:8080/"
        },
        "id": "lMrFghUCcEY9",
        "outputId": "66fadba1-1451-4f5b-8d33-0623451d2894"
      },
      "execution_count": null,
      "outputs": [
        {
          "output_type": "execute_result",
          "data": {
            "text/plain": [
              "(2956, 8585)"
            ]
          },
          "metadata": {},
          "execution_count": 22
        }
      ]
    },
    {
      "cell_type": "code",
      "source": [
        "X2.shape #bigram"
      ],
      "metadata": {
        "colab": {
          "base_uri": "https://localhost:8080/"
        },
        "id": "jrc9ycFicbIR",
        "outputId": "e4f0d43e-fd76-4c92-e8a6-a9b6ec76239e"
      },
      "execution_count": null,
      "outputs": [
        {
          "output_type": "execute_result",
          "data": {
            "text/plain": [
              "(2956, 29973)"
            ]
          },
          "metadata": {},
          "execution_count": 23
        }
      ]
    },
    {
      "cell_type": "code",
      "source": [
        "X3.shape #trigrams"
      ],
      "metadata": {
        "colab": {
          "base_uri": "https://localhost:8080/"
        },
        "id": "fE5OHXmYcezJ",
        "outputId": "4a76ea9e-de52-49a3-811e-5b97b3721eca"
      },
      "execution_count": null,
      "outputs": [
        {
          "output_type": "execute_result",
          "data": {
            "text/plain": [
              "(2956, 30803)"
            ]
          },
          "metadata": {},
          "execution_count": 24
        }
      ]
    },
    {
      "cell_type": "code",
      "source": [
        "from sklearn.feature_extraction.text import CountVectorizer\n",
        "from sklearn.model_selection import train_test_split\n",
        "from sklearn.linear_model import LogisticRegression\n",
        "from sklearn.svm import SVC\n",
        "from sklearn.neural_network import MLPClassifier\n",
        "from sklearn.metrics import accuracy_score, precision_score, recall_score, f1_score\n",
        "from keras.preprocessing.text import Tokenizer\n",
        "from keras.preprocessing.sequence import pad_sequences\n",
        "from keras.models import Sequential\n",
        "from keras.layers import Embedding, LSTM, Dense\n",
        "import pandas as pd\n"
      ],
      "metadata": {
        "id": "gx6IY-uHciyZ"
      },
      "execution_count": null,
      "outputs": []
    },
    {
      "cell_type": "code",
      "source": [
        "# Concatenate train and validation data for training\n",
        "X_train = pd.concat([df['instruction']], ignore_index=True)\n",
        "y_train = pd.concat([df['output']], ignore_index=True)\n",
        "\n",
        "# Test data\n",
        "X_test = df['instruction']\n",
        "y_test = df['output']\n"
      ],
      "metadata": {
        "id": "TLO5k6rogxU7"
      },
      "execution_count": null,
      "outputs": []
    },
    {
      "cell_type": "code",
      "source": [
        "# Create the Bag-of-Words model with unigrams, bigrams, and trigrams\n",
        "vectorizer = CountVectorizer(ngram_range=(1, 1))\n",
        "X_train_bow = vectorizer.fit_transform(X_train)\n",
        "X_test_bow = vectorizer.transform(X_test)"
      ],
      "metadata": {
        "id": "79hXuO-phMew"
      },
      "execution_count": null,
      "outputs": []
    },
    {
      "cell_type": "code",
      "source": [
        "\n",
        "# Train Logistic Regression model\n",
        "logreg_model = LogisticRegression(max_iter=1000)\n",
        "logreg_model.fit(X_train_bow, y_train)\n",
        "# Make predictions on train set\n",
        "logreg_train_preds = logreg_model.predict(X_train_bow)\n",
        "# Evaluate models on train set\n",
        "logreg_train_scores = (accuracy_score(y_train, logreg_train_preds),\n",
        "                      precision_score(y_train, logreg_train_preds, average='weighted'),\n",
        "                      recall_score(y_train, logreg_train_preds, average='weighted'),\n",
        "                      f1_score(y_train, logreg_train_preds, average='weighted'))\n",
        "\n",
        "# Print results for train set\n",
        "print(\"Train Set Scores:\")\n",
        "print(\"Logistic Regression Scores:\")\n",
        "print(\"Accuracy:\", logreg_train_scores[0])\n",
        "print(\"Precision:\", logreg_train_scores[1])\n",
        "print(\"Recall:\", logreg_train_scores[2])\n",
        "print(\"F1-Score:\", logreg_train_scores[3])\n",
        "print()"
      ],
      "metadata": {
        "colab": {
          "base_uri": "https://localhost:8080/"
        },
        "id": "bGKQ4_HThPXO",
        "outputId": "a02aefb8-63e5-4839-885c-fea5c3b471ed"
      },
      "execution_count": null,
      "outputs": [
        {
          "output_type": "stream",
          "name": "stdout",
          "text": [
            "Train Set Scores:\n",
            "Logistic Regression Scores:\n",
            "Accuracy: 0.9824086603518268\n",
            "Precision: 0.9829907311911265\n",
            "Recall: 0.9824086603518268\n",
            "F1-Score: 0.9824649626894011\n",
            "\n"
          ]
        }
      ]
    },
    {
      "cell_type": "code",
      "source": [
        "# Train SVM model\n",
        "svm_model = SVC()\n",
        "svm_model.fit(X_train_bow, y_train)\n",
        "# Make predictions on train set\n",
        "svm_train_preds = svm_model.predict(X_train_bow)\n",
        "# Evaluate models on train set\n",
        "svm_train_scores = (accuracy_score(y_train, svm_train_preds),\n",
        "                   precision_score(y_train, svm_train_preds, average='weighted'),\n",
        "                   recall_score(y_train, svm_train_preds, average='weighted'),\n",
        "                   f1_score(y_train, svm_train_preds, average='weighted'))\n",
        "# Print results for train set\n",
        "print(\"SVM Scores:\")\n",
        "print(\"Accuracy:\", svm_train_scores[0])\n",
        "print(\"Precision:\", svm_train_scores[1])\n",
        "print(\"Recall:\", svm_train_scores[2])\n",
        "print(\"F1-Score:\", svm_train_scores[3])\n",
        "print()\n"
      ],
      "metadata": {
        "colab": {
          "base_uri": "https://localhost:8080/"
        },
        "id": "UhcOM-qzhU9j",
        "outputId": "32dba69e-dcd7-4b3d-ce9d-50ef53e2f2b5"
      },
      "execution_count": null,
      "outputs": [
        {
          "output_type": "stream",
          "name": "stdout",
          "text": [
            "SVM Scores:\n",
            "Accuracy: 0.9242219215155616\n",
            "Precision: 0.9415969694120692\n",
            "Recall: 0.9242219215155616\n",
            "F1-Score: 0.9258587328400188\n",
            "\n"
          ]
        }
      ]
    },
    {
      "cell_type": "code",
      "source": [
        "# Train Neural Network model\n",
        "nn_model = MLPClassifier(hidden_layer_sizes=(100,), max_iter=1000)\n",
        "nn_model.fit(X_train_bow, y_train)\n",
        "# Make predictions on train set\n",
        "nn_train_preds = nn_model.predict(X_train_bow)\n",
        "# Evaluate models on train set\n",
        "nn_train_scores = (accuracy_score(y_train, nn_train_preds),\n",
        "                  precision_score(y_train, nn_train_preds, average='weighted'),\n",
        "                  recall_score(y_train, nn_train_preds, average='weighted'),\n",
        "                  f1_score(y_train, nn_train_preds, average='weighted'))\n",
        "# Print results for train set\n",
        "print(\"Neural Network Scores:\")\n",
        "print(\"Accuracy:\", nn_train_scores[0])\n",
        "print(\"Precision:\", nn_train_scores[1])\n",
        "print(\"Recall:\", nn_train_scores[2])\n",
        "print(\"F1-Score:\", nn_train_scores[3])\n",
        "print()\n"
      ],
      "metadata": {
        "colab": {
          "base_uri": "https://localhost:8080/"
        },
        "id": "ADPfQnmLhdfo",
        "outputId": "9cca4f50-e181-4c68-d227-b7b0364bd2f9"
      },
      "execution_count": null,
      "outputs": [
        {
          "output_type": "stream",
          "name": "stdout",
          "text": [
            "Neural Network Scores:\n",
            "Accuracy: 0.9928958051420839\n",
            "Precision: 0.992945054655134\n",
            "Recall: 0.9928958051420839\n",
            "F1-Score: 0.9929034244144824\n",
            "\n"
          ]
        }
      ]
    },
    {
      "cell_type": "code",
      "source": [
        "# Tokenization and Padding for LSTM\n",
        "maxlen = 100  # Maximum sequence length\n",
        "max_words = 1000  # Maximum number of words to consider as features\n",
        "\n",
        "tokenizer = Tokenizer(num_words=max_words)\n",
        "tokenizer.fit_on_texts(X_train)\n",
        "\n",
        "X_train_lstm = tokenizer.texts_to_sequences(X_train)\n",
        "X_train_lstm = pad_sequences(X_train_lstm, maxlen=maxlen)\n",
        "\n",
        "# Define LSTM model architecture\n",
        "lstm_model = Sequential()\n",
        "lstm_model.add(Embedding(max_words, 32, input_length=maxlen))\n",
        "lstm_model.add(LSTM(32))\n",
        "lstm_model.add(Dense(1, activation='sigmoid'))\n",
        "\n",
        "# Compile and train LSTM model\n",
        "lstm_model.compile(optimizer='adam', loss='binary_crossentropy', metrics=['accuracy'])\n",
        "lstm_model.fit(X_train_lstm, y_train, epochs=10, batch_size=32)\n",
        "\n",
        "# Make predictions on train set\n",
        "lstm_train_preds = (lstm_model.predict(X_train_lstm) > 0.5).astype(int)\n",
        "# Evaluate models on train set\n",
        "lstm_train_scores = (accuracy_score(y_train, lstm_train_preds.flatten()),\n",
        "                    precision_score(y_train, lstm_train_preds.flatten(), average='weighted'),\n",
        "                    recall_score(y_train, lstm_train_preds.flatten(), average='weighted'),\n",
        "                    f1_score(y_train, lstm_train_preds.flatten(), average='weighted'))\n",
        "# Print results for train set\n",
        "print(\"LSTM Scores:\")\n",
        "print(\"Accuracy:\", lstm_train_scores[0])\n",
        "print(\"Precision:\", lstm_train_scores[1])\n",
        "print(\"Recall:\", lstm_train_scores[2])\n",
        "print(\"F1-Score:\", lstm_train_scores[3])\n",
        "print()"
      ],
      "metadata": {
        "colab": {
          "base_uri": "https://localhost:8080/"
        },
        "id": "POassfCrhk82",
        "outputId": "7b9af993-c11d-4bcf-de0d-559f97621544"
      },
      "execution_count": null,
      "outputs": [
        {
          "output_type": "stream",
          "name": "stdout",
          "text": [
            "Epoch 1/10\n",
            "93/93 [==============================] - 7s 35ms/step - loss: -10.8265 - accuracy: 0.1461\n",
            "Epoch 2/10\n",
            "93/93 [==============================] - 3s 36ms/step - loss: -29.0657 - accuracy: 0.1465\n",
            "Epoch 3/10\n",
            "93/93 [==============================] - 4s 48ms/step - loss: -39.1993 - accuracy: 0.1465\n",
            "Epoch 4/10\n",
            "93/93 [==============================] - 3s 35ms/step - loss: -48.2095 - accuracy: 0.1465\n",
            "Epoch 5/10\n",
            "93/93 [==============================] - 3s 35ms/step - loss: -56.8306 - accuracy: 0.1465\n",
            "Epoch 6/10\n",
            "93/93 [==============================] - 4s 42ms/step - loss: -65.2921 - accuracy: 0.1465\n",
            "Epoch 7/10\n",
            "93/93 [==============================] - 4s 46ms/step - loss: -73.6259 - accuracy: 0.1465\n",
            "Epoch 8/10\n",
            "93/93 [==============================] - 3s 35ms/step - loss: -81.8861 - accuracy: 0.1465\n",
            "Epoch 9/10\n",
            "93/93 [==============================] - 3s 36ms/step - loss: -90.0643 - accuracy: 0.1465\n",
            "Epoch 10/10\n",
            "93/93 [==============================] - 4s 47ms/step - loss: -98.2135 - accuracy: 0.1465\n",
            "93/93 [==============================] - 1s 11ms/step\n",
            "LSTM Scores:\n",
            "Accuracy: 0.14648173207036536\n",
            "Precision: 0.021456897830334304\n",
            "Recall: 0.14648173207036536\n",
            "F1-Score: 0.03743085865238607\n",
            "\n"
          ]
        },
        {
          "output_type": "stream",
          "name": "stderr",
          "text": [
            "/usr/local/lib/python3.10/dist-packages/sklearn/metrics/_classification.py:1344: UndefinedMetricWarning: Precision is ill-defined and being set to 0.0 in labels with no predicted samples. Use `zero_division` parameter to control this behavior.\n",
            "  _warn_prf(average, modifier, msg_start, len(result))\n"
          ]
        }
      ]
    },
    {
      "cell_type": "code",
      "source": [
        "# Make predictions on test set LOGISTIC REGRESSION\n",
        "logreg_test_preds = logreg_model.predict(X_test_bow)\n",
        "# Evaluate models on test set\n",
        "logreg_test_scores = (accuracy_score(y_test, logreg_test_preds),\n",
        "                      precision_score(y_test, logreg_test_preds, average='weighted'),\n",
        "                      recall_score(y_test, logreg_test_preds, average='weighted'),\n",
        "                      f1_score(y_test, logreg_test_preds, average='weighted'))\n",
        "# Print results for test set\n",
        "print(\"Test Set Scores:\")\n",
        "print(\"Logistic Regression Scores:\")\n",
        "print(\"Accuracy:\", logreg_test_scores[0])\n",
        "print(\"Precision:\", logreg_test_scores[1])\n",
        "print(\"Recall:\", logreg_test_scores[2])\n",
        "print(\"F1-Score:\", logreg_test_scores[3])\n",
        "print()"
      ],
      "metadata": {
        "id": "1nIl06FjjQtu",
        "colab": {
          "base_uri": "https://localhost:8080/"
        },
        "outputId": "f3777140-8198-4bd0-b67d-97295cf223e0"
      },
      "execution_count": null,
      "outputs": [
        {
          "output_type": "stream",
          "name": "stdout",
          "text": [
            "Test Set Scores:\n",
            "Logistic Regression Scores:\n",
            "Accuracy: 0.9824086603518268\n",
            "Precision: 0.9829907311911265\n",
            "Recall: 0.9824086603518268\n",
            "F1-Score: 0.9824649626894011\n",
            "\n"
          ]
        }
      ]
    },
    {
      "cell_type": "code",
      "source": [
        "# Make predictions on test set svm\n",
        "svm_test_preds = svm_model.predict(X_test_bow)\n",
        "# Evaluate models on test set\n",
        "svm_test_scores = (accuracy_score(y_test, svm_test_preds),\n",
        "                   precision_score(y_test, svm_test_preds, average='weighted'),\n",
        "                   recall_score(y_test, svm_test_preds, average='weighted'),\n",
        "                   f1_score(y_test, svm_test_preds, average='weighted'))\n",
        "# Print results for test set\n",
        "print(\"SVM Scores:\")\n",
        "print(\"Accuracy:\", svm_test_scores[0])\n",
        "print(\"Precision:\", svm_test_scores[1])\n",
        "print(\"Recall:\", svm_test_scores[2])\n",
        "print(\"F1-Score:\", svm_test_scores[3])\n",
        "print()"
      ],
      "metadata": {
        "colab": {
          "base_uri": "https://localhost:8080/"
        },
        "id": "ER3D0nby60nM",
        "outputId": "16bc5752-8427-405f-ff9f-cd75f764f3ee"
      },
      "execution_count": null,
      "outputs": [
        {
          "output_type": "stream",
          "name": "stdout",
          "text": [
            "SVM Scores:\n",
            "Accuracy: 0.9242219215155616\n",
            "Precision: 0.9415969694120692\n",
            "Recall: 0.9242219215155616\n",
            "F1-Score: 0.9258587328400188\n",
            "\n"
          ]
        }
      ]
    },
    {
      "cell_type": "code",
      "source": [
        "# Make predictions on test set- NEURAL NETWORK\n",
        "\n",
        "nn_test_preds = nn_model.predict(X_test_bow)\n",
        "# Evaluate models on test set\n",
        "nn_test_scores = (accuracy_score(y_test, nn_test_preds),\n",
        "                  precision_score(y_test, nn_test_preds, average='weighted'),\n",
        "                  recall_score(y_test, nn_test_preds, average='weighted'),\n",
        "                  f1_score(y_test, nn_test_preds, average='weighted'))\n",
        "# Print results for test set\n",
        "print(\"Neural Network Scores:\")\n",
        "print(\"Accuracy:\", nn_test_scores[0])\n",
        "print(\"Precision:\", nn_test_scores[1])\n",
        "print(\"Recall:\", nn_test_scores[2])\n",
        "print(\"F1-Score:\", nn_test_scores[3])\n",
        "print()"
      ],
      "metadata": {
        "colab": {
          "base_uri": "https://localhost:8080/"
        },
        "id": "J4OFMg5f64RW",
        "outputId": "93a54be7-8503-4d7c-8e4e-a9926943331f"
      },
      "execution_count": null,
      "outputs": [
        {
          "output_type": "stream",
          "name": "stdout",
          "text": [
            "Neural Network Scores:\n",
            "Accuracy: 0.9928958051420839\n",
            "Precision: 0.992945054655134\n",
            "Recall: 0.9928958051420839\n",
            "F1-Score: 0.9929034244144824\n",
            "\n"
          ]
        }
      ]
    },
    {
      "cell_type": "code",
      "source": [
        "# Make predictions on test set LSTM\n",
        "X_test_lstm = tokenizer.texts_to_sequences(X_test)\n",
        "X_test_lstm = pad_sequences(X_test_lstm, maxlen=maxlen)\n",
        "lstm_test_preds = (lstm_model.predict(X_test_lstm) > 0.5).astype(int)\n",
        "# Evaluate models on test set\n",
        "lstm_test_scores = (accuracy_score(y_test, lstm_test_preds.flatten()),\n",
        "                    precision_score(y_test, lstm_test_preds.flatten(), average='weighted'),\n",
        "                    recall_score(y_test, lstm_test_preds.flatten(), average='weighted'),\n",
        "                    f1_score(y_test, lstm_test_preds.flatten(), average='weighted'))\n",
        "# Print results for test set\n",
        "print(\"LSTM Scores:\")\n",
        "print(\"Accuracy:\", lstm_test_scores[0])\n",
        "print(\"Precision:\", lstm_test_scores[1])\n",
        "print(\"Recall:\", lstm_test_scores[2])\n",
        "print(\"F1-Score:\", lstm_test_scores[3])\n",
        "print()"
      ],
      "metadata": {
        "colab": {
          "base_uri": "https://localhost:8080/"
        },
        "id": "rhw6bSPA69OD",
        "outputId": "0f50cfb8-a8a5-496d-f842-40880df70ebf"
      },
      "execution_count": null,
      "outputs": [
        {
          "output_type": "stream",
          "name": "stdout",
          "text": [
            "93/93 [==============================] - 1s 11ms/step\n",
            "LSTM Scores:\n",
            "Accuracy: 0.14648173207036536\n",
            "Precision: 0.021456897830334304\n",
            "Recall: 0.14648173207036536\n",
            "F1-Score: 0.03743085865238607\n",
            "\n"
          ]
        },
        {
          "output_type": "stream",
          "name": "stderr",
          "text": [
            "/usr/local/lib/python3.10/dist-packages/sklearn/metrics/_classification.py:1344: UndefinedMetricWarning: Precision is ill-defined and being set to 0.0 in labels with no predicted samples. Use `zero_division` parameter to control this behavior.\n",
            "  _warn_prf(average, modifier, msg_start, len(result))\n"
          ]
        }
      ]
    },
    {
      "cell_type": "code",
      "source": [
        "# Create the Bag-of-Words model with bigrams\n",
        "vectorizer = CountVectorizer(ngram_range=(2, 2))\n",
        "X2_train_bow = vectorizer.fit_transform(X_train)\n",
        "X2_test_bow = vectorizer.transform(X_test)\n"
      ],
      "metadata": {
        "id": "owZoQtT57Cox"
      },
      "execution_count": null,
      "outputs": []
    },
    {
      "cell_type": "code",
      "source": [
        "# Train Logistic Regression model\n",
        "logreg_model = LogisticRegression(max_iter=1000)\n",
        "logreg_model.fit(X2_train_bow, y_train)\n",
        "# Make predictions on train set\n",
        "logreg_train_preds = logreg_model.predict(X2_train_bow)\n",
        "# Evaluate models on train set\n",
        "logreg_train_scores = (accuracy_score(y_train, logreg_train_preds),\n",
        "                      precision_score(y_train, logreg_train_preds, average='weighted'),\n",
        "                      recall_score(y_train, logreg_train_preds, average='weighted'),\n",
        "                      f1_score(y_train, logreg_train_preds, average='weighted'))\n",
        "\n",
        "# Print results for train set\n",
        "print(\"Train Set Scores:\")\n",
        "print(\"Logistic Regression Scores:\")\n",
        "print(\"Accuracy:\", logreg_train_scores[0])\n",
        "print(\"Precision:\", logreg_train_scores[1])\n",
        "print(\"Recall:\", logreg_train_scores[2])\n",
        "print(\"F1-Score:\", logreg_train_scores[3])\n",
        "print()"
      ],
      "metadata": {
        "colab": {
          "base_uri": "https://localhost:8080/"
        },
        "id": "ULSIL1Pi7NjC",
        "outputId": "3b8a0b41-771e-4b1f-90c8-6a43ef471aee"
      },
      "execution_count": null,
      "outputs": [
        {
          "output_type": "stream",
          "name": "stdout",
          "text": [
            "Train Set Scores:\n",
            "Logistic Regression Scores:\n",
            "Accuracy: 0.9847767253044655\n",
            "Precision: 0.9860741634887441\n",
            "Recall: 0.9847767253044655\n",
            "F1-Score: 0.9849062651318055\n",
            "\n"
          ]
        }
      ]
    },
    {
      "cell_type": "code",
      "source": [
        "# Train Logistic Regression model on test dataset\n",
        "logreg_model = LogisticRegression(max_iter=1000)\n",
        "logreg_model.fit(X2_train_bow, y_train)\n",
        "\n",
        "# Make Predictions\n",
        "logreg_test_preds = logreg_model.predict(X2_test_bow)\n",
        "\n",
        "# Evaluate Performance (Optional)\n",
        "logreg_test_scores = (accuracy_score(y_test, logreg_test_preds),\n",
        "                      precision_score(y_test, logreg_test_preds, average='weighted'),\n",
        "                      recall_score(y_test, logreg_test_preds, average='weighted'),\n",
        "                      f1_score(y_test, logreg_test_preds, average='weighted'))\n",
        "\n",
        "# Print results for test set\n",
        "print(\"Test Set Scores:\")\n",
        "print(\"Logistic Regression Scores:\")\n",
        "print(\"Accuracy:\", logreg_test_scores[0])\n",
        "print(\"Precision:\", logreg_test_scores[1])\n",
        "print(\"Recall:\", logreg_test_scores[2])\n",
        "print(\"F1-Score:\", logreg_test_scores[3])\n"
      ],
      "metadata": {
        "colab": {
          "base_uri": "https://localhost:8080/"
        },
        "id": "20jAJKNROWq4",
        "outputId": "5562cb60-6431-4cba-9b5f-2abde7ca09a6"
      },
      "execution_count": null,
      "outputs": [
        {
          "output_type": "stream",
          "name": "stdout",
          "text": [
            "Test Set Scores:\n",
            "Logistic Regression Scores:\n",
            "Accuracy: 0.9847767253044655\n",
            "Precision: 0.9860741634887441\n",
            "Recall: 0.9847767253044655\n",
            "F1-Score: 0.9849062651318055\n"
          ]
        }
      ]
    },
    {
      "cell_type": "code",
      "source": [
        "# Train SVM model\n",
        "svm_model = SVC()\n",
        "svm_model.fit(X2_train_bow, y_train)\n",
        "# Make predictions on train set\n",
        "svm_train_preds = svm_model.predict(X2_train_bow)\n",
        "# Evaluate models on train set\n",
        "svm_train_scores = (accuracy_score(y_train, svm_train_preds),\n",
        "                   precision_score(y_train, svm_train_preds, average='weighted'),\n",
        "                   recall_score(y_train, svm_train_preds, average='weighted'),\n",
        "                   f1_score(y_train, svm_train_preds, average='weighted'))\n",
        "# Print results for train set\n",
        "print(\"SVM Scores:\")\n",
        "print(\"Accuracy:\", svm_train_scores[0])\n",
        "print(\"Precision:\", svm_train_scores[1])\n",
        "print(\"Recall:\", svm_train_scores[2])\n",
        "print(\"F1-Score:\", svm_train_scores[3])\n",
        "print()\n"
      ],
      "metadata": {
        "colab": {
          "base_uri": "https://localhost:8080/"
        },
        "id": "k5gjVe4J8LJY",
        "outputId": "9fbe6a0a-4e37-4b7e-aee2-21f3b3d09226"
      },
      "execution_count": null,
      "outputs": [
        {
          "output_type": "stream",
          "name": "stdout",
          "text": [
            "SVM Scores:\n",
            "Accuracy: 0.9035859269282814\n",
            "Precision: 0.9391207608848351\n",
            "Recall: 0.9035859269282814\n",
            "F1-Score: 0.9076884460197912\n",
            "\n"
          ]
        }
      ]
    },
    {
      "cell_type": "code",
      "source": [
        "print(y_train.dtype)\n"
      ],
      "metadata": {
        "colab": {
          "base_uri": "https://localhost:8080/"
        },
        "id": "3lnnNI1o8R1H",
        "outputId": "52343121-2ec3-49de-b360-a5dba9861b9e"
      },
      "execution_count": null,
      "outputs": [
        {
          "output_type": "stream",
          "name": "stdout",
          "text": [
            "int64\n"
          ]
        }
      ]
    },
    {
      "source": [
        "from sklearn.preprocessing import LabelEncoder\n",
        "encoder = LabelEncoder()\n",
        "encoder.fit(y_train.unique())\n",
        "y_train_encoded = encoder.transform(y_train)\n",
        "print(y_train_encoded.dtype)\n",
        "lstm_model.fit(X_train_lstm, y_train_encoded, epochs=10, batch_size=20)\n",
        "lstm_train_preds = (lstm_model.predict(X_train_lstm) > 0.5).astype(int)\n",
        "lstm_train_scores = (accuracy_score(y_train_encoded, lstm_train_preds.flatten()),\n",
        "                    precision_score(y_train_encoded, lstm_train_preds.flatten(), average='weighted'),\n",
        "                    recall_score(y_train_encoded, lstm_train_preds.flatten(), average='weighted'),\n",
        "                    f1_score(y_train_encoded, lstm_train_preds.flatten(), average='weighted'))\n",
        "print(\"LSTM Scores:\")\n",
        "print(\"Accuracy:\", lstm_train_scores[0])\n",
        "print(\"Precision:\", lstm_train_scores[1])\n",
        "print(\"Recall:\", lstm_train_scores[2])\n",
        "print(\"F1-Score:\", lstm_train_scores[3])"
      ],
      "cell_type": "code",
      "metadata": {
        "colab": {
          "base_uri": "https://localhost:8080/"
        },
        "id": "BPILdIhEIhiY",
        "outputId": "667ed3d9-9092-4f23-a48d-0db1afc79b57"
      },
      "execution_count": null,
      "outputs": [
        {
          "output_type": "stream",
          "name": "stdout",
          "text": [
            "int64\n",
            "Epoch 1/10\n",
            "148/148 [==============================] - 7s 33ms/step - loss: -24.4731 - accuracy: 0.1461\n",
            "Epoch 2/10\n",
            "148/148 [==============================] - 6s 41ms/step - loss: -24.4731 - accuracy: 0.1461\n",
            "Epoch 3/10\n",
            "148/148 [==============================] - 5s 33ms/step - loss: -24.4731 - accuracy: 0.1461\n",
            "Epoch 4/10\n",
            "148/148 [==============================] - 6s 41ms/step - loss: -24.4731 - accuracy: 0.1462\n",
            "Epoch 5/10\n",
            "148/148 [==============================] - 5s 33ms/step - loss: -24.4731 - accuracy: 0.1460\n",
            "Epoch 6/10\n",
            "148/148 [==============================] - 5s 34ms/step - loss: -24.4731 - accuracy: 0.1464\n",
            "Epoch 7/10\n",
            "148/148 [==============================] - 6s 39ms/step - loss: -24.4731 - accuracy: 0.1462\n",
            "Epoch 8/10\n",
            "148/148 [==============================] - 5s 33ms/step - loss: -24.4731 - accuracy: 0.1461\n",
            "Epoch 9/10\n",
            "148/148 [==============================] - 6s 40ms/step - loss: -24.4731 - accuracy: 0.1462\n",
            "Epoch 10/10\n",
            "148/148 [==============================] - 5s 32ms/step - loss: -24.4731 - accuracy: 0.1463\n",
            "93/93 [==============================] - 1s 11ms/step\n",
            "LSTM Scores:\n",
            "Accuracy: 0.14614343707713126\n",
            "Precision: 0.021357904200717422\n",
            "Recall: 0.14614343707713126\n",
            "F1-Score: 0.03726916459109841\n"
          ]
        },
        {
          "output_type": "stream",
          "name": "stderr",
          "text": [
            "/usr/local/lib/python3.10/dist-packages/sklearn/metrics/_classification.py:1344: UndefinedMetricWarning: Precision is ill-defined and being set to 0.0 in labels with no predicted samples. Use `zero_division` parameter to control this behavior.\n",
            "  _warn_prf(average, modifier, msg_start, len(result))\n"
          ]
        }
      ]
    },
    {
      "cell_type": "code",
      "source": [
        "# Train Neural Network model\n",
        "nn_model = MLPClassifier(hidden_layer_sizes=(100,), max_iter=1000)\n",
        "nn_model.fit(X2_train_bow, y_train)\n",
        "# Make predictions on train set\n",
        "nn_train_preds = nn_model.predict(X2_train_bow)\n",
        "# Evaluate models on train set\n",
        "nn_train_scores = (accuracy_score(y_train, nn_train_preds),\n",
        "                  precision_score(y_train, nn_train_preds, average='weighted'),\n",
        "                  recall_score(y_train, nn_train_preds, average='weighted'),\n",
        "                  f1_score(y_train, nn_train_preds, average='weighted'))\n",
        "# Print results for train set\n",
        "print(\"Neural Network Scores:\")\n",
        "print(\"Accuracy:\", nn_train_scores[0])\n",
        "print(\"Precision:\", nn_train_scores[1])\n",
        "print(\"Recall:\", nn_train_scores[2])\n",
        "print(\"F1-Score:\", nn_train_scores[3])\n",
        "print()"
      ],
      "metadata": {
        "id": "p5si3ZBHJRZC",
        "colab": {
          "base_uri": "https://localhost:8080/"
        },
        "outputId": "b858db02-65ee-4e90-e739-1ee408ce278c"
      },
      "execution_count": null,
      "outputs": [
        {
          "output_type": "stream",
          "name": "stdout",
          "text": [
            "Neural Network Scores:\n",
            "Accuracy: 0.9847767253044655\n",
            "Precision: 0.9856203891594192\n",
            "Recall: 0.9847767253044655\n",
            "F1-Score: 0.9848788677273503\n",
            "\n"
          ]
        }
      ]
    },
    {
      "cell_type": "code",
      "source": [
        "# Tokenization and Padding for LSTM\n",
        "maxlen = 100  # Maximum sequence length\n",
        "max_words = 10000  # Maximum number of words to consider as features\n",
        "\n",
        "tokenizer = Tokenizer(num_words=max_words)\n",
        "tokenizer.fit_on_texts(X_train)\n",
        "\n",
        "X2_train_lstm = tokenizer.texts_to_sequences(X_train)\n",
        "X2_train_lstm = pad_sequences(X2_train_lstm, maxlen=maxlen)\n",
        "\n",
        "# Define LSTM model architecture\n",
        "lstm_model = Sequential()\n",
        "lstm_model.add(Embedding(max_words, 32, input_length=maxlen))\n",
        "lstm_model.add(LSTM(32))\n",
        "lstm_model.add(Dense(1, activation='sigmoid'))\n",
        "\n",
        "# Compile and train LSTM model\n",
        "lstm_model.compile(optimizer='adam', loss='binary_crossentropy', metrics=['accuracy'])\n",
        "lstm_model.fit(X2_train_lstm, y_train, epochs=10, batch_size=32)\n",
        "\n",
        "# Make predictions on train set\n",
        "lstm_train_preds = (lstm_model.predict(X2_train_lstm) > 0.5).astype(int)\n",
        "# Evaluate models on train set\n",
        "lstm_train_scores = (accuracy_score(y_train, lstm_train_preds.flatten()),\n",
        "                    precision_score(y_train, lstm_train_preds.flatten(), average='weighted'),\n",
        "                    recall_score(y_train, lstm_train_preds.flatten(), average='weighted'),\n",
        "                    f1_score(y_train, lstm_train_preds.flatten(), average='weighted'))\n",
        "# Print results for train set\n",
        "print(\"LSTM Scores:\")\n",
        "print(\"Accuracy:\", lstm_train_scores[0])\n",
        "print(\"Precision:\", lstm_train_scores[1])\n",
        "print(\"Recall:\", lstm_train_scores[2])\n",
        "print(\"F1-Score:\", lstm_train_scores[3])\n",
        "print()"
      ],
      "metadata": {
        "colab": {
          "base_uri": "https://localhost:8080/"
        },
        "id": "1zpocsfDpktB",
        "outputId": "44762e28-5681-40d2-9aa0-82e9f67b22a7"
      },
      "execution_count": null,
      "outputs": [
        {
          "output_type": "stream",
          "name": "stdout",
          "text": [
            "Epoch 1/10\n",
            "93/93 [==============================] - 6s 39ms/step - loss: -12.3593 - accuracy: 0.1455\n",
            "Epoch 2/10\n",
            "93/93 [==============================] - 4s 43ms/step - loss: -29.6435 - accuracy: 0.1465\n",
            "Epoch 3/10\n",
            "93/93 [==============================] - 4s 48ms/step - loss: -39.4396 - accuracy: 0.1465\n",
            "Epoch 4/10\n",
            "93/93 [==============================] - 4s 39ms/step - loss: -48.3956 - accuracy: 0.1465\n",
            "Epoch 5/10\n",
            "93/93 [==============================] - 4s 39ms/step - loss: -57.0207 - accuracy: 0.1465\n",
            "Epoch 6/10\n",
            "93/93 [==============================] - 5s 51ms/step - loss: -65.4601 - accuracy: 0.1465\n",
            "Epoch 7/10\n",
            "93/93 [==============================] - 4s 39ms/step - loss: -73.7848 - accuracy: 0.1465\n",
            "Epoch 8/10\n",
            "93/93 [==============================] - 4s 39ms/step - loss: -82.0226 - accuracy: 0.1465\n",
            "Epoch 9/10\n",
            "93/93 [==============================] - 5s 51ms/step - loss: -90.2097 - accuracy: 0.1465\n",
            "Epoch 10/10\n",
            "93/93 [==============================] - 4s 39ms/step - loss: -98.3698 - accuracy: 0.1465\n",
            "93/93 [==============================] - 1s 11ms/step\n",
            "LSTM Scores:\n",
            "Accuracy: 0.14648173207036536\n",
            "Precision: 0.021456897830334304\n",
            "Recall: 0.14648173207036536\n",
            "F1-Score: 0.03743085865238607\n",
            "\n"
          ]
        },
        {
          "output_type": "stream",
          "name": "stderr",
          "text": [
            "/usr/local/lib/python3.10/dist-packages/sklearn/metrics/_classification.py:1344: UndefinedMetricWarning: Precision is ill-defined and being set to 0.0 in labels with no predicted samples. Use `zero_division` parameter to control this behavior.\n",
            "  _warn_prf(average, modifier, msg_start, len(result))\n"
          ]
        }
      ]
    },
    {
      "cell_type": "code",
      "source": [
        "# Create the Bag-of-Words model with trigrams\n",
        "vectorizer = CountVectorizer(ngram_range=(3, 3))\n",
        "X3_train_bow = vectorizer.fit_transform(X_train)\n",
        "X3_test_bow = vectorizer.transform(X_test)\n"
      ],
      "metadata": {
        "id": "7haJQYCKt1Dz"
      },
      "execution_count": null,
      "outputs": []
    },
    {
      "cell_type": "code",
      "source": [
        "# Train Logistic Regression model\n",
        "logreg_model = LogisticRegression(max_iter=1000)\n",
        "logreg_model.fit(X3_train_bow, y_train)\n",
        "# Make predictions on train set\n",
        "logreg_train_preds = logreg_model.predict(X3_train_bow)\n",
        "# Evaluate models on train set\n",
        "logreg_train_scores = (accuracy_score(y_train, logreg_train_preds),\n",
        "                      precision_score(y_train, logreg_train_preds, average='weighted'),\n",
        "                      recall_score(y_train, logreg_train_preds, average='weighted'),\n",
        "                      f1_score(y_train, logreg_train_preds, average='weighted'))\n",
        "\n",
        "# Print results for train set\n",
        "print(\"Train Set Scores:\")\n",
        "print(\"Logistic Regression Scores:\")\n",
        "print(\"Accuracy:\", logreg_train_scores[0])\n",
        "print(\"Precision:\", logreg_train_scores[1])\n",
        "print(\"Recall:\", logreg_train_scores[2])\n",
        "print(\"F1-Score:\", logreg_train_scores[3])\n",
        "print()"
      ],
      "metadata": {
        "colab": {
          "base_uri": "https://localhost:8080/"
        },
        "id": "CDW8B3wXug0K",
        "outputId": "ddab471c-bd4e-4a6b-9fab-9412c215952a"
      },
      "execution_count": null,
      "outputs": [
        {
          "output_type": "stream",
          "name": "stdout",
          "text": [
            "Train Set Scores:\n",
            "Logistic Regression Scores:\n",
            "Accuracy: 0.9725981055480379\n",
            "Precision: 0.9765334840065645\n",
            "Recall: 0.9725981055480379\n",
            "F1-Score: 0.9729460585545092\n",
            "\n"
          ]
        }
      ]
    },
    {
      "cell_type": "code",
      "source": [
        "# Make predictions on test set\n",
        "logreg_test_preds = logreg_model.predict(X3_test_bow)\n",
        "\n",
        "# Evaluate performance on test set\n",
        "logreg_test_scores = (accuracy_score(y_test, logreg_test_preds),\n",
        "                      precision_score(y_test, logreg_test_preds, average='weighted'),\n",
        "                      recall_score(y_test, logreg_test_preds, average='weighted'),\n",
        "                      f1_score(y_test, logreg_test_preds, average='weighted'))\n",
        "\n",
        "# Print results for test set\n",
        "print(\"Test Set Scores:\")\n",
        "print(\"Logistic Regression Scores:\")\n",
        "print(\"Accuracy:\", logreg_test_scores[0])\n",
        "print(\"Precision:\", logreg_test_scores[1])\n",
        "print(\"Recall:\", logreg_test_scores[2])\n",
        "print(\"F1-Score:\", logreg_test_scores[3])"
      ],
      "metadata": {
        "colab": {
          "base_uri": "https://localhost:8080/"
        },
        "id": "jY_eF5xgV6_B",
        "outputId": "f861bbc5-4ad3-4946-8972-99d91b092a57"
      },
      "execution_count": null,
      "outputs": [
        {
          "output_type": "stream",
          "name": "stdout",
          "text": [
            "Test Set Scores:\n",
            "Logistic Regression Scores:\n",
            "Accuracy: 0.9725981055480379\n",
            "Precision: 0.9765334840065645\n",
            "Recall: 0.9725981055480379\n",
            "F1-Score: 0.9729460585545092\n"
          ]
        }
      ]
    },
    {
      "cell_type": "code",
      "source": [
        "# Train SVM model\n",
        "svm_model = SVC()\n",
        "svm_model.fit(X3_train_bow, y_train)\n",
        "# Make predictions on train set\n",
        "svm_train_preds = svm_model.predict(X3_train_bow)\n",
        "# Evaluate models on train set\n",
        "svm_train_scores = (accuracy_score(y_train, svm_train_preds),\n",
        "                   precision_score(y_train, svm_train_preds, average='weighted'),\n",
        "                   recall_score(y_train, svm_train_preds, average='weighted'),\n",
        "                   f1_score(y_train, svm_train_preds, average='weighted'))\n",
        "# Print results for train set\n",
        "print(\"SVM Scores:\")\n",
        "print(\"Accuracy:\", svm_train_scores[0])\n",
        "print(\"Precision:\", svm_train_scores[1])\n",
        "print(\"Recall:\", svm_train_scores[2])\n",
        "print(\"F1-Score:\", svm_train_scores[3])\n",
        "print()"
      ],
      "metadata": {
        "colab": {
          "base_uri": "https://localhost:8080/"
        },
        "id": "1ZJAKXftul5o",
        "outputId": "19e7e6d1-0667-4b4b-e557-66d9365e4e4d"
      },
      "execution_count": null,
      "outputs": [
        {
          "output_type": "stream",
          "name": "stdout",
          "text": [
            "SVM Scores:\n",
            "Accuracy: 0.8799052774018945\n",
            "Precision: 0.9285149113084241\n",
            "Recall: 0.8799052774018945\n",
            "F1-Score: 0.8873391570899941\n",
            "\n"
          ]
        }
      ]
    },
    {
      "cell_type": "code",
      "source": [
        "# Train Neural Network model\n",
        "nn_model = MLPClassifier(hidden_layer_sizes=(100,), max_iter=1000)\n",
        "nn_model.fit(X3_train_bow, y_train)\n",
        "# Make predictions on train set\n",
        "nn_train_preds = nn_model.predict(X3_train_bow)\n",
        "# Evaluate models on train set\n",
        "nn_train_scores = (accuracy_score(y_train, nn_train_preds),\n",
        "                  precision_score(y_train, nn_train_preds, average='weighted'),\n",
        "                  recall_score(y_train, nn_train_preds, average='weighted'),\n",
        "                  f1_score(y_train, nn_train_preds, average='weighted'))\n",
        "# Print results for train set\n",
        "print(\"Neural Network Scores:\")\n",
        "print(\"Accuracy:\", nn_train_scores[0])\n",
        "print(\"Precision:\", nn_train_scores[1])\n",
        "print(\"Recall:\", nn_train_scores[2])\n",
        "print(\"F1-Score:\", nn_train_scores[3])\n",
        "print()\n"
      ],
      "metadata": {
        "colab": {
          "base_uri": "https://localhost:8080/"
        },
        "id": "hcxvvQvIur15",
        "outputId": "c5fc22e4-f79f-4f16-cba3-e40ff025b87a"
      },
      "execution_count": null,
      "outputs": [
        {
          "output_type": "stream",
          "name": "stdout",
          "text": [
            "Neural Network Scores:\n",
            "Accuracy: 0.9739512855209743\n",
            "Precision: 0.9772241928310884\n",
            "Recall: 0.9739512855209743\n",
            "F1-Score: 0.9741873064442512\n",
            "\n"
          ]
        }
      ]
    },
    {
      "cell_type": "code",
      "source": [
        "# Tokenization and Padding for LSTM\n",
        "maxlen = 100  # Maximum sequence length\n",
        "max_words = 10000  # Maximum number of words to consider as features\n",
        "\n",
        "tokenizer = Tokenizer(num_words=max_words)\n",
        "tokenizer.fit_on_texts(X_train)\n",
        "\n",
        "X3_train_lstm = tokenizer.texts_to_sequences(X_train)\n",
        "X3_train_lstm = pad_sequences(X3_train_lstm, maxlen=maxlen)\n",
        "\n",
        "# Define LSTM model architecture\n",
        "lstm_model = Sequential()\n",
        "lstm_model.add(Embedding(max_words, 32, input_length=maxlen))\n",
        "lstm_model.add(LSTM(32))\n",
        "lstm_model.add(Dense(1, activation='sigmoid'))\n",
        "\n",
        "# Compile and train LSTM model\n",
        "lstm_model.compile(optimizer='adam', loss='binary_crossentropy', metrics=['accuracy'])\n",
        "lstm_model.fit(X2_train_lstm, y_train, epochs=10, batch_size=32)\n",
        "\n",
        "# Make predictions on train set\n",
        "lstm_train_preds = (lstm_model.predict(X3_train_lstm) > 0.5).astype(int)\n",
        "# Evaluate models on train set\n",
        "lstm_train_scores = (accuracy_score(y_train, lstm_train_preds.flatten()),\n",
        "                    precision_score(y_train, lstm_train_preds.flatten(), average='weighted'),\n",
        "                    recall_score(y_train, lstm_train_preds.flatten(), average='weighted'),\n",
        "                    f1_score(y_train, lstm_train_preds.flatten(), average='weighted'))\n",
        "# Print results for train set\n",
        "print(\"LSTM Scores:\")\n",
        "print(\"Accuracy:\", lstm_train_scores[0])\n",
        "print(\"Precision:\", lstm_train_scores[1])\n",
        "print(\"Recall:\", lstm_train_scores[2])\n",
        "print(\"F1-Score:\", lstm_train_scores[3])\n",
        "print()"
      ],
      "metadata": {
        "colab": {
          "base_uri": "https://localhost:8080/"
        },
        "id": "eL_S8xEBuvfH",
        "outputId": "fc084df6-d65c-420f-a1eb-7508a5329c9c"
      },
      "execution_count": null,
      "outputs": [
        {
          "output_type": "stream",
          "name": "stdout",
          "text": [
            "Epoch 1/10\n",
            "93/93 [==============================] - 7s 55ms/step - loss: -12.5140 - accuracy: 0.1445\n",
            "Epoch 2/10\n",
            "93/93 [==============================] - 4s 46ms/step - loss: -30.1270 - accuracy: 0.1465\n",
            "Epoch 3/10\n",
            "93/93 [==============================] - 8s 83ms/step - loss: -39.8740 - accuracy: 0.1465\n",
            "Epoch 4/10\n",
            "93/93 [==============================] - 4s 40ms/step - loss: -48.7724 - accuracy: 0.1465\n",
            "Epoch 5/10\n",
            "93/93 [==============================] - 4s 40ms/step - loss: -57.3382 - accuracy: 0.1465\n",
            "Epoch 6/10\n",
            "93/93 [==============================] - 5s 54ms/step - loss: -65.7515 - accuracy: 0.1465\n",
            "Epoch 7/10\n",
            "93/93 [==============================] - 4s 41ms/step - loss: -74.0425 - accuracy: 0.1465\n",
            "Epoch 8/10\n",
            "93/93 [==============================] - 4s 41ms/step - loss: -82.2674 - accuracy: 0.1465\n",
            "Epoch 9/10\n",
            "93/93 [==============================] - 5s 54ms/step - loss: -90.4477 - accuracy: 0.1465\n",
            "Epoch 10/10\n",
            "93/93 [==============================] - 4s 41ms/step - loss: -98.5817 - accuracy: 0.1465\n",
            "93/93 [==============================] - 1s 11ms/step\n",
            "LSTM Scores:\n",
            "Accuracy: 0.14648173207036536\n",
            "Precision: 0.021456897830334304\n",
            "Recall: 0.14648173207036536\n",
            "F1-Score: 0.03743085865238607\n",
            "\n"
          ]
        },
        {
          "output_type": "stream",
          "name": "stderr",
          "text": [
            "/usr/local/lib/python3.10/dist-packages/sklearn/metrics/_classification.py:1344: UndefinedMetricWarning: Precision is ill-defined and being set to 0.0 in labels with no predicted samples. Use `zero_division` parameter to control this behavior.\n",
            "  _warn_prf(average, modifier, msg_start, len(result))\n"
          ]
        }
      ]
    },
    {
      "cell_type": "code",
      "source": [],
      "metadata": {
        "id": "Ep55eQULuya_"
      },
      "execution_count": null,
      "outputs": []
    }
  ],
  "metadata": {
    "colab": {
      "provenance": []
    },
    "kernelspec": {
      "display_name": "Python 3",
      "name": "python3"
    },
    "language_info": {
      "name": "python"
    },
    "widgets": {
      "application/vnd.jupyter.widget-state+json": {
        "e73eacd8fb2b4a5387154fb77fe466de": {
          "model_module": "@jupyter-widgets/controls",
          "model_name": "HBoxModel",
          "model_module_version": "1.5.0",
          "state": {
            "_dom_classes": [],
            "_model_module": "@jupyter-widgets/controls",
            "_model_module_version": "1.5.0",
            "_model_name": "HBoxModel",
            "_view_count": null,
            "_view_module": "@jupyter-widgets/controls",
            "_view_module_version": "1.5.0",
            "_view_name": "HBoxView",
            "box_style": "",
            "children": [
              "IPY_MODEL_955d0cee413b481f99babe6192388727",
              "IPY_MODEL_19b2d7d7620d4565b98115158e057c89",
              "IPY_MODEL_29bf667855e54a1b8847d1d8b5935a06"
            ],
            "layout": "IPY_MODEL_96f1d6d8a8af4c74bf4fe7f292a61f73"
          }
        },
        "955d0cee413b481f99babe6192388727": {
          "model_module": "@jupyter-widgets/controls",
          "model_name": "HTMLModel",
          "model_module_version": "1.5.0",
          "state": {
            "_dom_classes": [],
            "_model_module": "@jupyter-widgets/controls",
            "_model_module_version": "1.5.0",
            "_model_name": "HTMLModel",
            "_view_count": null,
            "_view_module": "@jupyter-widgets/controls",
            "_view_module_version": "1.5.0",
            "_view_name": "HTMLView",
            "description": "",
            "description_tooltip": null,
            "layout": "IPY_MODEL_fbc2232f999e4b638f2568a8b96eed07",
            "placeholder": "​",
            "style": "IPY_MODEL_fe6d169b18ec44889256adaf3b844911",
            "value": "Downloading data: 100%"
          }
        },
        "19b2d7d7620d4565b98115158e057c89": {
          "model_module": "@jupyter-widgets/controls",
          "model_name": "FloatProgressModel",
          "model_module_version": "1.5.0",
          "state": {
            "_dom_classes": [],
            "_model_module": "@jupyter-widgets/controls",
            "_model_module_version": "1.5.0",
            "_model_name": "FloatProgressModel",
            "_view_count": null,
            "_view_module": "@jupyter-widgets/controls",
            "_view_module_version": "1.5.0",
            "_view_name": "ProgressView",
            "bar_style": "success",
            "description": "",
            "description_tooltip": null,
            "layout": "IPY_MODEL_8283d01fafa6457c8a59001243b96bc7",
            "max": 1028799,
            "min": 0,
            "orientation": "horizontal",
            "style": "IPY_MODEL_359169b128c24e1aa2ab6aa829380792",
            "value": 1028799
          }
        },
        "29bf667855e54a1b8847d1d8b5935a06": {
          "model_module": "@jupyter-widgets/controls",
          "model_name": "HTMLModel",
          "model_module_version": "1.5.0",
          "state": {
            "_dom_classes": [],
            "_model_module": "@jupyter-widgets/controls",
            "_model_module_version": "1.5.0",
            "_model_name": "HTMLModel",
            "_view_count": null,
            "_view_module": "@jupyter-widgets/controls",
            "_view_module_version": "1.5.0",
            "_view_name": "HTMLView",
            "description": "",
            "description_tooltip": null,
            "layout": "IPY_MODEL_959b01ecf6bb4a43bcb00e4ff69c85e2",
            "placeholder": "​",
            "style": "IPY_MODEL_860025f5dfaa464d85e3b8e6360570e9",
            "value": " 1.03M/1.03M [00:01&lt;00:00, 988kB/s]"
          }
        },
        "96f1d6d8a8af4c74bf4fe7f292a61f73": {
          "model_module": "@jupyter-widgets/base",
          "model_name": "LayoutModel",
          "model_module_version": "1.2.0",
          "state": {
            "_model_module": "@jupyter-widgets/base",
            "_model_module_version": "1.2.0",
            "_model_name": "LayoutModel",
            "_view_count": null,
            "_view_module": "@jupyter-widgets/base",
            "_view_module_version": "1.2.0",
            "_view_name": "LayoutView",
            "align_content": null,
            "align_items": null,
            "align_self": null,
            "border": null,
            "bottom": null,
            "display": null,
            "flex": null,
            "flex_flow": null,
            "grid_area": null,
            "grid_auto_columns": null,
            "grid_auto_flow": null,
            "grid_auto_rows": null,
            "grid_column": null,
            "grid_gap": null,
            "grid_row": null,
            "grid_template_areas": null,
            "grid_template_columns": null,
            "grid_template_rows": null,
            "height": null,
            "justify_content": null,
            "justify_items": null,
            "left": null,
            "margin": null,
            "max_height": null,
            "max_width": null,
            "min_height": null,
            "min_width": null,
            "object_fit": null,
            "object_position": null,
            "order": null,
            "overflow": null,
            "overflow_x": null,
            "overflow_y": null,
            "padding": null,
            "right": null,
            "top": null,
            "visibility": null,
            "width": null
          }
        },
        "fbc2232f999e4b638f2568a8b96eed07": {
          "model_module": "@jupyter-widgets/base",
          "model_name": "LayoutModel",
          "model_module_version": "1.2.0",
          "state": {
            "_model_module": "@jupyter-widgets/base",
            "_model_module_version": "1.2.0",
            "_model_name": "LayoutModel",
            "_view_count": null,
            "_view_module": "@jupyter-widgets/base",
            "_view_module_version": "1.2.0",
            "_view_name": "LayoutView",
            "align_content": null,
            "align_items": null,
            "align_self": null,
            "border": null,
            "bottom": null,
            "display": null,
            "flex": null,
            "flex_flow": null,
            "grid_area": null,
            "grid_auto_columns": null,
            "grid_auto_flow": null,
            "grid_auto_rows": null,
            "grid_column": null,
            "grid_gap": null,
            "grid_row": null,
            "grid_template_areas": null,
            "grid_template_columns": null,
            "grid_template_rows": null,
            "height": null,
            "justify_content": null,
            "justify_items": null,
            "left": null,
            "margin": null,
            "max_height": null,
            "max_width": null,
            "min_height": null,
            "min_width": null,
            "object_fit": null,
            "object_position": null,
            "order": null,
            "overflow": null,
            "overflow_x": null,
            "overflow_y": null,
            "padding": null,
            "right": null,
            "top": null,
            "visibility": null,
            "width": null
          }
        },
        "fe6d169b18ec44889256adaf3b844911": {
          "model_module": "@jupyter-widgets/controls",
          "model_name": "DescriptionStyleModel",
          "model_module_version": "1.5.0",
          "state": {
            "_model_module": "@jupyter-widgets/controls",
            "_model_module_version": "1.5.0",
            "_model_name": "DescriptionStyleModel",
            "_view_count": null,
            "_view_module": "@jupyter-widgets/base",
            "_view_module_version": "1.2.0",
            "_view_name": "StyleView",
            "description_width": ""
          }
        },
        "8283d01fafa6457c8a59001243b96bc7": {
          "model_module": "@jupyter-widgets/base",
          "model_name": "LayoutModel",
          "model_module_version": "1.2.0",
          "state": {
            "_model_module": "@jupyter-widgets/base",
            "_model_module_version": "1.2.0",
            "_model_name": "LayoutModel",
            "_view_count": null,
            "_view_module": "@jupyter-widgets/base",
            "_view_module_version": "1.2.0",
            "_view_name": "LayoutView",
            "align_content": null,
            "align_items": null,
            "align_self": null,
            "border": null,
            "bottom": null,
            "display": null,
            "flex": null,
            "flex_flow": null,
            "grid_area": null,
            "grid_auto_columns": null,
            "grid_auto_flow": null,
            "grid_auto_rows": null,
            "grid_column": null,
            "grid_gap": null,
            "grid_row": null,
            "grid_template_areas": null,
            "grid_template_columns": null,
            "grid_template_rows": null,
            "height": null,
            "justify_content": null,
            "justify_items": null,
            "left": null,
            "margin": null,
            "max_height": null,
            "max_width": null,
            "min_height": null,
            "min_width": null,
            "object_fit": null,
            "object_position": null,
            "order": null,
            "overflow": null,
            "overflow_x": null,
            "overflow_y": null,
            "padding": null,
            "right": null,
            "top": null,
            "visibility": null,
            "width": null
          }
        },
        "359169b128c24e1aa2ab6aa829380792": {
          "model_module": "@jupyter-widgets/controls",
          "model_name": "ProgressStyleModel",
          "model_module_version": "1.5.0",
          "state": {
            "_model_module": "@jupyter-widgets/controls",
            "_model_module_version": "1.5.0",
            "_model_name": "ProgressStyleModel",
            "_view_count": null,
            "_view_module": "@jupyter-widgets/base",
            "_view_module_version": "1.2.0",
            "_view_name": "StyleView",
            "bar_color": null,
            "description_width": ""
          }
        },
        "959b01ecf6bb4a43bcb00e4ff69c85e2": {
          "model_module": "@jupyter-widgets/base",
          "model_name": "LayoutModel",
          "model_module_version": "1.2.0",
          "state": {
            "_model_module": "@jupyter-widgets/base",
            "_model_module_version": "1.2.0",
            "_model_name": "LayoutModel",
            "_view_count": null,
            "_view_module": "@jupyter-widgets/base",
            "_view_module_version": "1.2.0",
            "_view_name": "LayoutView",
            "align_content": null,
            "align_items": null,
            "align_self": null,
            "border": null,
            "bottom": null,
            "display": null,
            "flex": null,
            "flex_flow": null,
            "grid_area": null,
            "grid_auto_columns": null,
            "grid_auto_flow": null,
            "grid_auto_rows": null,
            "grid_column": null,
            "grid_gap": null,
            "grid_row": null,
            "grid_template_areas": null,
            "grid_template_columns": null,
            "grid_template_rows": null,
            "height": null,
            "justify_content": null,
            "justify_items": null,
            "left": null,
            "margin": null,
            "max_height": null,
            "max_width": null,
            "min_height": null,
            "min_width": null,
            "object_fit": null,
            "object_position": null,
            "order": null,
            "overflow": null,
            "overflow_x": null,
            "overflow_y": null,
            "padding": null,
            "right": null,
            "top": null,
            "visibility": null,
            "width": null
          }
        },
        "860025f5dfaa464d85e3b8e6360570e9": {
          "model_module": "@jupyter-widgets/controls",
          "model_name": "DescriptionStyleModel",
          "model_module_version": "1.5.0",
          "state": {
            "_model_module": "@jupyter-widgets/controls",
            "_model_module_version": "1.5.0",
            "_model_name": "DescriptionStyleModel",
            "_view_count": null,
            "_view_module": "@jupyter-widgets/base",
            "_view_module_version": "1.2.0",
            "_view_name": "StyleView",
            "description_width": ""
          }
        },
        "c23423573e35484d94c499b54fb65119": {
          "model_module": "@jupyter-widgets/controls",
          "model_name": "HBoxModel",
          "model_module_version": "1.5.0",
          "state": {
            "_dom_classes": [],
            "_model_module": "@jupyter-widgets/controls",
            "_model_module_version": "1.5.0",
            "_model_name": "HBoxModel",
            "_view_count": null,
            "_view_module": "@jupyter-widgets/controls",
            "_view_module_version": "1.5.0",
            "_view_name": "HBoxView",
            "box_style": "",
            "children": [
              "IPY_MODEL_ff9c26c9f7414ad1b9f581771f9a553c",
              "IPY_MODEL_29d037d249424f8ab0d362ca0d1edec5",
              "IPY_MODEL_5be1b97333204c9e86fb5e178959115b"
            ],
            "layout": "IPY_MODEL_c3d62d56bb9544dca75ffcb1a98e55ba"
          }
        },
        "ff9c26c9f7414ad1b9f581771f9a553c": {
          "model_module": "@jupyter-widgets/controls",
          "model_name": "HTMLModel",
          "model_module_version": "1.5.0",
          "state": {
            "_dom_classes": [],
            "_model_module": "@jupyter-widgets/controls",
            "_model_module_version": "1.5.0",
            "_model_name": "HTMLModel",
            "_view_count": null,
            "_view_module": "@jupyter-widgets/controls",
            "_view_module_version": "1.5.0",
            "_view_name": "HTMLView",
            "description": "",
            "description_tooltip": null,
            "layout": "IPY_MODEL_ad73d8c0cf564bd5863ac8c7a8869468",
            "placeholder": "​",
            "style": "IPY_MODEL_cd4b3d2ba0aa4ca9bdd3a574e5e34b96",
            "value": "Generating train split: 100%"
          }
        },
        "29d037d249424f8ab0d362ca0d1edec5": {
          "model_module": "@jupyter-widgets/controls",
          "model_name": "FloatProgressModel",
          "model_module_version": "1.5.0",
          "state": {
            "_dom_classes": [],
            "_model_module": "@jupyter-widgets/controls",
            "_model_module_version": "1.5.0",
            "_model_name": "FloatProgressModel",
            "_view_count": null,
            "_view_module": "@jupyter-widgets/controls",
            "_view_module_version": "1.5.0",
            "_view_name": "ProgressView",
            "bar_style": "success",
            "description": "",
            "description_tooltip": null,
            "layout": "IPY_MODEL_9876da97d66742f18f1f6a3bb0c309fa",
            "max": 2956,
            "min": 0,
            "orientation": "horizontal",
            "style": "IPY_MODEL_e256959f663848b893e2efbafaa41c50",
            "value": 2956
          }
        },
        "5be1b97333204c9e86fb5e178959115b": {
          "model_module": "@jupyter-widgets/controls",
          "model_name": "HTMLModel",
          "model_module_version": "1.5.0",
          "state": {
            "_dom_classes": [],
            "_model_module": "@jupyter-widgets/controls",
            "_model_module_version": "1.5.0",
            "_model_name": "HTMLModel",
            "_view_count": null,
            "_view_module": "@jupyter-widgets/controls",
            "_view_module_version": "1.5.0",
            "_view_name": "HTMLView",
            "description": "",
            "description_tooltip": null,
            "layout": "IPY_MODEL_dff4147a04ed43b5be4da528ab07e236",
            "placeholder": "​",
            "style": "IPY_MODEL_1dd0d38365c54474ae78b2147978057d",
            "value": " 2956/2956 [00:00&lt;00:00, 18987.59 examples/s]"
          }
        },
        "c3d62d56bb9544dca75ffcb1a98e55ba": {
          "model_module": "@jupyter-widgets/base",
          "model_name": "LayoutModel",
          "model_module_version": "1.2.0",
          "state": {
            "_model_module": "@jupyter-widgets/base",
            "_model_module_version": "1.2.0",
            "_model_name": "LayoutModel",
            "_view_count": null,
            "_view_module": "@jupyter-widgets/base",
            "_view_module_version": "1.2.0",
            "_view_name": "LayoutView",
            "align_content": null,
            "align_items": null,
            "align_self": null,
            "border": null,
            "bottom": null,
            "display": null,
            "flex": null,
            "flex_flow": null,
            "grid_area": null,
            "grid_auto_columns": null,
            "grid_auto_flow": null,
            "grid_auto_rows": null,
            "grid_column": null,
            "grid_gap": null,
            "grid_row": null,
            "grid_template_areas": null,
            "grid_template_columns": null,
            "grid_template_rows": null,
            "height": null,
            "justify_content": null,
            "justify_items": null,
            "left": null,
            "margin": null,
            "max_height": null,
            "max_width": null,
            "min_height": null,
            "min_width": null,
            "object_fit": null,
            "object_position": null,
            "order": null,
            "overflow": null,
            "overflow_x": null,
            "overflow_y": null,
            "padding": null,
            "right": null,
            "top": null,
            "visibility": null,
            "width": null
          }
        },
        "ad73d8c0cf564bd5863ac8c7a8869468": {
          "model_module": "@jupyter-widgets/base",
          "model_name": "LayoutModel",
          "model_module_version": "1.2.0",
          "state": {
            "_model_module": "@jupyter-widgets/base",
            "_model_module_version": "1.2.0",
            "_model_name": "LayoutModel",
            "_view_count": null,
            "_view_module": "@jupyter-widgets/base",
            "_view_module_version": "1.2.0",
            "_view_name": "LayoutView",
            "align_content": null,
            "align_items": null,
            "align_self": null,
            "border": null,
            "bottom": null,
            "display": null,
            "flex": null,
            "flex_flow": null,
            "grid_area": null,
            "grid_auto_columns": null,
            "grid_auto_flow": null,
            "grid_auto_rows": null,
            "grid_column": null,
            "grid_gap": null,
            "grid_row": null,
            "grid_template_areas": null,
            "grid_template_columns": null,
            "grid_template_rows": null,
            "height": null,
            "justify_content": null,
            "justify_items": null,
            "left": null,
            "margin": null,
            "max_height": null,
            "max_width": null,
            "min_height": null,
            "min_width": null,
            "object_fit": null,
            "object_position": null,
            "order": null,
            "overflow": null,
            "overflow_x": null,
            "overflow_y": null,
            "padding": null,
            "right": null,
            "top": null,
            "visibility": null,
            "width": null
          }
        },
        "cd4b3d2ba0aa4ca9bdd3a574e5e34b96": {
          "model_module": "@jupyter-widgets/controls",
          "model_name": "DescriptionStyleModel",
          "model_module_version": "1.5.0",
          "state": {
            "_model_module": "@jupyter-widgets/controls",
            "_model_module_version": "1.5.0",
            "_model_name": "DescriptionStyleModel",
            "_view_count": null,
            "_view_module": "@jupyter-widgets/base",
            "_view_module_version": "1.2.0",
            "_view_name": "StyleView",
            "description_width": ""
          }
        },
        "9876da97d66742f18f1f6a3bb0c309fa": {
          "model_module": "@jupyter-widgets/base",
          "model_name": "LayoutModel",
          "model_module_version": "1.2.0",
          "state": {
            "_model_module": "@jupyter-widgets/base",
            "_model_module_version": "1.2.0",
            "_model_name": "LayoutModel",
            "_view_count": null,
            "_view_module": "@jupyter-widgets/base",
            "_view_module_version": "1.2.0",
            "_view_name": "LayoutView",
            "align_content": null,
            "align_items": null,
            "align_self": null,
            "border": null,
            "bottom": null,
            "display": null,
            "flex": null,
            "flex_flow": null,
            "grid_area": null,
            "grid_auto_columns": null,
            "grid_auto_flow": null,
            "grid_auto_rows": null,
            "grid_column": null,
            "grid_gap": null,
            "grid_row": null,
            "grid_template_areas": null,
            "grid_template_columns": null,
            "grid_template_rows": null,
            "height": null,
            "justify_content": null,
            "justify_items": null,
            "left": null,
            "margin": null,
            "max_height": null,
            "max_width": null,
            "min_height": null,
            "min_width": null,
            "object_fit": null,
            "object_position": null,
            "order": null,
            "overflow": null,
            "overflow_x": null,
            "overflow_y": null,
            "padding": null,
            "right": null,
            "top": null,
            "visibility": null,
            "width": null
          }
        },
        "e256959f663848b893e2efbafaa41c50": {
          "model_module": "@jupyter-widgets/controls",
          "model_name": "ProgressStyleModel",
          "model_module_version": "1.5.0",
          "state": {
            "_model_module": "@jupyter-widgets/controls",
            "_model_module_version": "1.5.0",
            "_model_name": "ProgressStyleModel",
            "_view_count": null,
            "_view_module": "@jupyter-widgets/base",
            "_view_module_version": "1.2.0",
            "_view_name": "StyleView",
            "bar_color": null,
            "description_width": ""
          }
        },
        "dff4147a04ed43b5be4da528ab07e236": {
          "model_module": "@jupyter-widgets/base",
          "model_name": "LayoutModel",
          "model_module_version": "1.2.0",
          "state": {
            "_model_module": "@jupyter-widgets/base",
            "_model_module_version": "1.2.0",
            "_model_name": "LayoutModel",
            "_view_count": null,
            "_view_module": "@jupyter-widgets/base",
            "_view_module_version": "1.2.0",
            "_view_name": "LayoutView",
            "align_content": null,
            "align_items": null,
            "align_self": null,
            "border": null,
            "bottom": null,
            "display": null,
            "flex": null,
            "flex_flow": null,
            "grid_area": null,
            "grid_auto_columns": null,
            "grid_auto_flow": null,
            "grid_auto_rows": null,
            "grid_column": null,
            "grid_gap": null,
            "grid_row": null,
            "grid_template_areas": null,
            "grid_template_columns": null,
            "grid_template_rows": null,
            "height": null,
            "justify_content": null,
            "justify_items": null,
            "left": null,
            "margin": null,
            "max_height": null,
            "max_width": null,
            "min_height": null,
            "min_width": null,
            "object_fit": null,
            "object_position": null,
            "order": null,
            "overflow": null,
            "overflow_x": null,
            "overflow_y": null,
            "padding": null,
            "right": null,
            "top": null,
            "visibility": null,
            "width": null
          }
        },
        "1dd0d38365c54474ae78b2147978057d": {
          "model_module": "@jupyter-widgets/controls",
          "model_name": "DescriptionStyleModel",
          "model_module_version": "1.5.0",
          "state": {
            "_model_module": "@jupyter-widgets/controls",
            "_model_module_version": "1.5.0",
            "_model_name": "DescriptionStyleModel",
            "_view_count": null,
            "_view_module": "@jupyter-widgets/base",
            "_view_module_version": "1.2.0",
            "_view_name": "StyleView",
            "description_width": ""
          }
        }
      }
    }
  },
  "nbformat": 4,
  "nbformat_minor": 0
}